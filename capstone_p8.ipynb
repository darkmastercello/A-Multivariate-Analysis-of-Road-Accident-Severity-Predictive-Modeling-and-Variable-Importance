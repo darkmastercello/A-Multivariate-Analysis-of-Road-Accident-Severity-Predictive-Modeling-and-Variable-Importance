{
  "nbformat": 4,
  "nbformat_minor": 0,
  "metadata": {
    "colab": {
      "provenance": [],
      "gpuType": "T4"
    },
    "kernelspec": {
      "name": "python3",
      "display_name": "Python 3"
    },
    "language_info": {
      "name": "python"
    },
    "accelerator": "GPU"
  },
  "cells": [
    {
      "cell_type": "code",
      "execution_count": null,
      "metadata": {
        "id": "Y6AUdR867snQ"
      },
      "outputs": [],
      "source": [
        "import numpy as np\n",
        "import pandas as pd\n",
        "import matplotlib.pyplot as plt\n",
        "import seaborn as sns\n",
        "from sklearn.model_selection import train_test_split\n",
        "from sklearn.linear_model import LogisticRegression\n",
        "from sklearn.metrics import accuracy_score\n",
        "from sklearn.preprocessing import StandardScaler\n",
        "from statsmodels.tools.tools import add_constant\n",
        "from sklearn.linear_model import LogisticRegressionCV\n",
        "from sklearn.model_selection import cross_val_score\n",
        "from sklearn.model_selection import RepeatedStratifiedKFold\n",
        "from sklearn.model_selection import cross_validate\n",
        "from sklearn.model_selection import StratifiedKFold\n",
        "from sklearn.model_selection import KFold\n",
        "from sklearn.model_selection import GridSearchCV\n",
        "from sklearn.ensemble import RandomForestClassifier\n",
        "from imblearn.over_sampling import SMOTE"
      ]
    },
    {
      "cell_type": "code",
      "source": [
        "road = pd.read_csv('/content/drive/MyDrive/data capstone/Road Accident Data 2.csv')"
      ],
      "metadata": {
        "id": "jxczFAsq7xP_"
      },
      "execution_count": null,
      "outputs": []
    },
    {
      "cell_type": "code",
      "source": [
        "road.dropna(inplace=True)"
      ],
      "metadata": {
        "id": "P867tvje77qV"
      },
      "execution_count": null,
      "outputs": []
    },
    {
      "cell_type": "code",
      "source": [
        "road['Time'].head()"
      ],
      "metadata": {
        "colab": {
          "base_uri": "https://localhost:8080/",
          "height": 241
        },
        "id": "olUJB521OyOZ",
        "outputId": "a1d295fb-08c6-4e22-ed73-b3da28dc26f0"
      },
      "execution_count": null,
      "outputs": [
        {
          "output_type": "execute_result",
          "data": {
            "text/plain": [
              "195    19:00\n",
              "414    15:55\n",
              "476    17:36\n",
              "854     8:35\n",
              "889    16:10\n",
              "Name: Time, dtype: object"
            ],
            "text/html": [
              "<div>\n",
              "<style scoped>\n",
              "    .dataframe tbody tr th:only-of-type {\n",
              "        vertical-align: middle;\n",
              "    }\n",
              "\n",
              "    .dataframe tbody tr th {\n",
              "        vertical-align: top;\n",
              "    }\n",
              "\n",
              "    .dataframe thead th {\n",
              "        text-align: right;\n",
              "    }\n",
              "</style>\n",
              "<table border=\"1\" class=\"dataframe\">\n",
              "  <thead>\n",
              "    <tr style=\"text-align: right;\">\n",
              "      <th></th>\n",
              "      <th>Time</th>\n",
              "    </tr>\n",
              "  </thead>\n",
              "  <tbody>\n",
              "    <tr>\n",
              "      <th>195</th>\n",
              "      <td>19:00</td>\n",
              "    </tr>\n",
              "    <tr>\n",
              "      <th>414</th>\n",
              "      <td>15:55</td>\n",
              "    </tr>\n",
              "    <tr>\n",
              "      <th>476</th>\n",
              "      <td>17:36</td>\n",
              "    </tr>\n",
              "    <tr>\n",
              "      <th>854</th>\n",
              "      <td>8:35</td>\n",
              "    </tr>\n",
              "    <tr>\n",
              "      <th>889</th>\n",
              "      <td>16:10</td>\n",
              "    </tr>\n",
              "  </tbody>\n",
              "</table>\n",
              "</div><br><label><b>dtype:</b> object</label>"
            ]
          },
          "metadata": {},
          "execution_count": 9
        }
      ]
    },
    {
      "cell_type": "code",
      "source": [
        "#convert time to minutes\n",
        "road['Time'] = road['Time'].apply(lambda x: int(x.split(':')[0])*60 + int(x.split(':')[1]))"
      ],
      "metadata": {
        "id": "3ueDMKqZLN1C"
      },
      "execution_count": null,
      "outputs": []
    },
    {
      "cell_type": "code",
      "source": [
        "\n",
        "road['Time'].iloc[0]"
      ],
      "metadata": {
        "colab": {
          "base_uri": "https://localhost:8080/"
        },
        "id": "Q1JqvTiSLVQq",
        "outputId": "f5d0f858-bb6e-411b-ad67-8154262e0a78"
      },
      "execution_count": null,
      "outputs": [
        {
          "output_type": "execute_result",
          "data": {
            "text/plain": [
              "1140"
            ]
          },
          "metadata": {},
          "execution_count": 11
        }
      ]
    },
    {
      "cell_type": "code",
      "source": [
        "categorical = road.select_dtypes(include=['object'])\n",
        "numerical = road.select_dtypes(exclude=['object'])"
      ],
      "metadata": {
        "id": "xqZECDDd79g1"
      },
      "execution_count": null,
      "outputs": []
    },
    {
      "cell_type": "code",
      "source": [
        "numerical.columns"
      ],
      "metadata": {
        "colab": {
          "base_uri": "https://localhost:8080/"
        },
        "id": "kdt8P6WGMChx",
        "outputId": "6df1ae01-543c-4fb7-c9e5-10bed36380bf"
      },
      "execution_count": null,
      "outputs": [
        {
          "output_type": "execute_result",
          "data": {
            "text/plain": [
              "Index(['Year', 'Latitude', 'Longitude', 'Number_of_Casualties',\n",
              "       'Number_of_Vehicles', 'Speed_limit', 'Time'],\n",
              "      dtype='object')"
            ]
          },
          "metadata": {},
          "execution_count": 13
        }
      ]
    },
    {
      "cell_type": "code",
      "source": [
        "target = road['Accident_Severity']\n",
        "categorical = categorical.drop('Accident_Severity', axis=1)"
      ],
      "metadata": {
        "id": "qRZOlcmq8Gmx"
      },
      "execution_count": null,
      "outputs": []
    },
    {
      "cell_type": "code",
      "source": [
        "categorical.drop('Accident_Index',axis= 1, inplace = True)\n",
        "categorical.drop('Accident Date', axis=1, inplace=True)\n",
        "#categorical.drop('Time', axis=1, inplace=True)\n",
        "categorical.drop('Local_Authority_(District)', axis=1, inplace=True)\n",
        "categorical.drop('Police_Force', axis=1, inplace=True)"
      ],
      "metadata": {
        "id": "pq7ZhOM68PvB"
      },
      "execution_count": null,
      "outputs": []
    },
    {
      "cell_type": "code",
      "source": [
        "categorical.columns"
      ],
      "metadata": {
        "colab": {
          "base_uri": "https://localhost:8080/"
        },
        "id": "Ps0NDoQ_LHYQ",
        "outputId": "32dbec7a-3fa5-4fed-8375-284b968c91a8"
      },
      "execution_count": null,
      "outputs": [
        {
          "output_type": "execute_result",
          "data": {
            "text/plain": [
              "Index(['Month', 'Day_of_Week', 'Junction_Control', 'Junction_Detail',\n",
              "       'Light_Conditions', 'Carriageway_Hazards', 'Road_Surface_Conditions',\n",
              "       'Road_Type', 'Urban_or_Rural_Area', 'Weather_Conditions',\n",
              "       'Vehicle_Type'],\n",
              "      dtype='object')"
            ]
          },
          "metadata": {},
          "execution_count": 16
        }
      ]
    },
    {
      "cell_type": "code",
      "source": [
        "numerical.columns"
      ],
      "metadata": {
        "colab": {
          "base_uri": "https://localhost:8080/"
        },
        "id": "d-_k0BG4Y0fJ",
        "outputId": "b5cd7350-8232-44fc-c7b6-5df4555b5f92"
      },
      "execution_count": null,
      "outputs": [
        {
          "output_type": "execute_result",
          "data": {
            "text/plain": [
              "Index(['Year', 'Latitude', 'Longitude', 'Number_of_Casualties',\n",
              "       'Number_of_Vehicles', 'Speed_limit', 'Time'],\n",
              "      dtype='object')"
            ]
          },
          "metadata": {},
          "execution_count": 17
        }
      ]
    },
    {
      "cell_type": "code",
      "source": [
        "categorical = pd.get_dummies(categorical, drop_first=True)\n",
        "categorical = categorical.astype(int)"
      ],
      "metadata": {
        "id": "LQY-_G5Z8SJm"
      },
      "execution_count": null,
      "outputs": []
    },
    {
      "cell_type": "code",
      "source": [
        "target = target.map({'Slight': 0, 'Serious': 1, 'Fatal': 2})"
      ],
      "metadata": {
        "id": "1F8LTmr18UwO"
      },
      "execution_count": null,
      "outputs": []
    },
    {
      "cell_type": "code",
      "source": [
        "df = pd.concat([categorical,numerical,target], axis=1)"
      ],
      "metadata": {
        "id": "aLnvTNK78XMZ"
      },
      "execution_count": null,
      "outputs": []
    },
    {
      "cell_type": "code",
      "source": [
        "target = df['Accident_Severity']\n",
        "predictors = df.drop('Accident_Severity', axis=1)"
      ],
      "metadata": {
        "id": "3WDS419E8ZnL"
      },
      "execution_count": null,
      "outputs": []
    },
    {
      "cell_type": "code",
      "source": [
        "x_train, x_test, y_train, y_test = train_test_split(predictors, target, test_size=0.3, random_state=42)"
      ],
      "metadata": {
        "id": "ILtW_ZGu8bz2"
      },
      "execution_count": null,
      "outputs": []
    },
    {
      "cell_type": "code",
      "source": [
        "StandardScaler = StandardScaler()\n",
        "x_train[numerical.columns] = StandardScaler.fit_transform(x_train[numerical.columns])"
      ],
      "metadata": {
        "id": "SkvQvSIe8fdw"
      },
      "execution_count": null,
      "outputs": []
    },
    {
      "cell_type": "code",
      "source": [
        "y_train.value_counts()"
      ],
      "metadata": {
        "id": "ZiBuyxdHKx-K",
        "colab": {
          "base_uri": "https://localhost:8080/",
          "height": 209
        },
        "outputId": "b4a23ec8-d7d9-4400-ce81-2e97ac66a5d6"
      },
      "execution_count": null,
      "outputs": [
        {
          "output_type": "execute_result",
          "data": {
            "text/plain": [
              "Accident_Severity\n",
              "0    3116\n",
              "1     546\n",
              "2      51\n",
              "Name: count, dtype: int64"
            ],
            "text/html": [
              "<div>\n",
              "<style scoped>\n",
              "    .dataframe tbody tr th:only-of-type {\n",
              "        vertical-align: middle;\n",
              "    }\n",
              "\n",
              "    .dataframe tbody tr th {\n",
              "        vertical-align: top;\n",
              "    }\n",
              "\n",
              "    .dataframe thead th {\n",
              "        text-align: right;\n",
              "    }\n",
              "</style>\n",
              "<table border=\"1\" class=\"dataframe\">\n",
              "  <thead>\n",
              "    <tr style=\"text-align: right;\">\n",
              "      <th></th>\n",
              "      <th>count</th>\n",
              "    </tr>\n",
              "    <tr>\n",
              "      <th>Accident_Severity</th>\n",
              "      <th></th>\n",
              "    </tr>\n",
              "  </thead>\n",
              "  <tbody>\n",
              "    <tr>\n",
              "      <th>0</th>\n",
              "      <td>3116</td>\n",
              "    </tr>\n",
              "    <tr>\n",
              "      <th>1</th>\n",
              "      <td>546</td>\n",
              "    </tr>\n",
              "    <tr>\n",
              "      <th>2</th>\n",
              "      <td>51</td>\n",
              "    </tr>\n",
              "  </tbody>\n",
              "</table>\n",
              "</div><br><label><b>dtype:</b> int64</label>"
            ]
          },
          "metadata": {},
          "execution_count": 24
        }
      ]
    },
    {
      "cell_type": "code",
      "source": [
        "sm = SMOTE(\n",
        "    sampling_strategy='auto',\n",
        "    random_state=42,\n",
        "    k_neighbors=5,\n",
        ")\n",
        "x_train_res, y_train_res = sm.fit_resample(x_train, y_train)"
      ],
      "metadata": {
        "id": "1n20ywYHMqgM"
      },
      "execution_count": null,
      "outputs": []
    },
    {
      "cell_type": "code",
      "source": [
        "x_train.shape, x_train_res.shape"
      ],
      "metadata": {
        "colab": {
          "base_uri": "https://localhost:8080/"
        },
        "id": "5rcwQFzcMuAV",
        "outputId": "23226514-bdc0-424d-c219-62bb3f2576fb"
      },
      "execution_count": null,
      "outputs": [
        {
          "output_type": "execute_result",
          "data": {
            "text/plain": [
              "((3713, 74), (9348, 74))"
            ]
          },
          "metadata": {},
          "execution_count": 26
        }
      ]
    },
    {
      "cell_type": "code",
      "source": [
        "numerical1 = x_train_res[numerical.columns]"
      ],
      "metadata": {
        "id": "0Jx-j3pwMyxn"
      },
      "execution_count": null,
      "outputs": []
    },
    {
      "cell_type": "code",
      "source": [
        "categorical1 = x_train_res.drop(numerical.columns, axis=1)"
      ],
      "metadata": {
        "id": "jSb2RLoKM1T3"
      },
      "execution_count": null,
      "outputs": []
    },
    {
      "cell_type": "code",
      "source": [
        "target1 = y_train_res"
      ],
      "metadata": {
        "id": "LXr_0LNPM3wT"
      },
      "execution_count": null,
      "outputs": []
    },
    {
      "cell_type": "code",
      "source": [
        "train_df = pd.concat([categorical1,numerical1,target1], axis=1)"
      ],
      "metadata": {
        "id": "8llDQwECM6Z3"
      },
      "execution_count": null,
      "outputs": []
    },
    {
      "cell_type": "code",
      "source": [
        "mean = train_df[numerical.columns].mean()\n",
        "std = train_df[numerical.columns].std()"
      ],
      "metadata": {
        "id": "StnZs7aCM-3R"
      },
      "execution_count": null,
      "outputs": []
    },
    {
      "cell_type": "code",
      "source": [
        "train_df[numerical.columns] = (train_df[numerical.columns] - mean) / std"
      ],
      "metadata": {
        "id": "LJkpFn68PK81"
      },
      "execution_count": null,
      "outputs": []
    },
    {
      "cell_type": "code",
      "source": [
        "x_test[numerical.columns] = (x_test[numerical.columns] - mean) / std"
      ],
      "metadata": {
        "id": "W0OJ2H4qPMBJ"
      },
      "execution_count": null,
      "outputs": []
    },
    {
      "cell_type": "code",
      "source": [
        "df1 = train_df"
      ],
      "metadata": {
        "id": "eVkANDPcPQCS"
      },
      "execution_count": null,
      "outputs": []
    },
    {
      "cell_type": "code",
      "source": [
        "target = y_train_res\n",
        "predictors = df1.drop('Accident_Severity', axis=1)"
      ],
      "metadata": {
        "id": "kKoAiqOWPZUI"
      },
      "execution_count": null,
      "outputs": []
    },
    {
      "cell_type": "code",
      "source": [
        "predictors.shape, target.shape"
      ],
      "metadata": {
        "colab": {
          "base_uri": "https://localhost:8080/"
        },
        "id": "PiNO6MrHPeR1",
        "outputId": "9dfdd4f8-f057-40f6-a4f2-943de6e7f1cf"
      },
      "execution_count": null,
      "outputs": [
        {
          "output_type": "execute_result",
          "data": {
            "text/plain": [
              "((9348, 74), (9348,))"
            ]
          },
          "metadata": {},
          "execution_count": 36
        }
      ]
    },
    {
      "cell_type": "markdown",
      "source": [
        "random forest"
      ],
      "metadata": {
        "id": "eybAoYXjPqlh"
      }
    },
    {
      "cell_type": "code",
      "source": [
        "rf = RandomForestClassifier(n_estimators=100, random_state=42, max_depth=20, max_features='sqrt', min_samples_leaf=5, min_samples_split=10)"
      ],
      "metadata": {
        "id": "7HW4awgVPiuL"
      },
      "execution_count": null,
      "outputs": []
    },
    {
      "cell_type": "code",
      "source": [
        "rf.fit(predictors,target)"
      ],
      "metadata": {
        "colab": {
          "base_uri": "https://localhost:8080/",
          "height": 97
        },
        "id": "6NvseiBBPvhD",
        "outputId": "1cc31479-bd28-4cba-8fe8-27e301958333"
      },
      "execution_count": null,
      "outputs": [
        {
          "output_type": "execute_result",
          "data": {
            "text/plain": [
              "RandomForestClassifier(max_depth=20, min_samples_leaf=5, min_samples_split=10,\n",
              "                       random_state=42)"
            ],
            "text/html": [
              "<style>#sk-container-id-1 {\n",
              "  /* Definition of color scheme common for light and dark mode */\n",
              "  --sklearn-color-text: #000;\n",
              "  --sklearn-color-text-muted: #666;\n",
              "  --sklearn-color-line: gray;\n",
              "  /* Definition of color scheme for unfitted estimators */\n",
              "  --sklearn-color-unfitted-level-0: #fff5e6;\n",
              "  --sklearn-color-unfitted-level-1: #f6e4d2;\n",
              "  --sklearn-color-unfitted-level-2: #ffe0b3;\n",
              "  --sklearn-color-unfitted-level-3: chocolate;\n",
              "  /* Definition of color scheme for fitted estimators */\n",
              "  --sklearn-color-fitted-level-0: #f0f8ff;\n",
              "  --sklearn-color-fitted-level-1: #d4ebff;\n",
              "  --sklearn-color-fitted-level-2: #b3dbfd;\n",
              "  --sklearn-color-fitted-level-3: cornflowerblue;\n",
              "\n",
              "  /* Specific color for light theme */\n",
              "  --sklearn-color-text-on-default-background: var(--sg-text-color, var(--theme-code-foreground, var(--jp-content-font-color1, black)));\n",
              "  --sklearn-color-background: var(--sg-background-color, var(--theme-background, var(--jp-layout-color0, white)));\n",
              "  --sklearn-color-border-box: var(--sg-text-color, var(--theme-code-foreground, var(--jp-content-font-color1, black)));\n",
              "  --sklearn-color-icon: #696969;\n",
              "\n",
              "  @media (prefers-color-scheme: dark) {\n",
              "    /* Redefinition of color scheme for dark theme */\n",
              "    --sklearn-color-text-on-default-background: var(--sg-text-color, var(--theme-code-foreground, var(--jp-content-font-color1, white)));\n",
              "    --sklearn-color-background: var(--sg-background-color, var(--theme-background, var(--jp-layout-color0, #111)));\n",
              "    --sklearn-color-border-box: var(--sg-text-color, var(--theme-code-foreground, var(--jp-content-font-color1, white)));\n",
              "    --sklearn-color-icon: #878787;\n",
              "  }\n",
              "}\n",
              "\n",
              "#sk-container-id-1 {\n",
              "  color: var(--sklearn-color-text);\n",
              "}\n",
              "\n",
              "#sk-container-id-1 pre {\n",
              "  padding: 0;\n",
              "}\n",
              "\n",
              "#sk-container-id-1 input.sk-hidden--visually {\n",
              "  border: 0;\n",
              "  clip: rect(1px 1px 1px 1px);\n",
              "  clip: rect(1px, 1px, 1px, 1px);\n",
              "  height: 1px;\n",
              "  margin: -1px;\n",
              "  overflow: hidden;\n",
              "  padding: 0;\n",
              "  position: absolute;\n",
              "  width: 1px;\n",
              "}\n",
              "\n",
              "#sk-container-id-1 div.sk-dashed-wrapped {\n",
              "  border: 1px dashed var(--sklearn-color-line);\n",
              "  margin: 0 0.4em 0.5em 0.4em;\n",
              "  box-sizing: border-box;\n",
              "  padding-bottom: 0.4em;\n",
              "  background-color: var(--sklearn-color-background);\n",
              "}\n",
              "\n",
              "#sk-container-id-1 div.sk-container {\n",
              "  /* jupyter's `normalize.less` sets `[hidden] { display: none; }`\n",
              "     but bootstrap.min.css set `[hidden] { display: none !important; }`\n",
              "     so we also need the `!important` here to be able to override the\n",
              "     default hidden behavior on the sphinx rendered scikit-learn.org.\n",
              "     See: https://github.com/scikit-learn/scikit-learn/issues/21755 */\n",
              "  display: inline-block !important;\n",
              "  position: relative;\n",
              "}\n",
              "\n",
              "#sk-container-id-1 div.sk-text-repr-fallback {\n",
              "  display: none;\n",
              "}\n",
              "\n",
              "div.sk-parallel-item,\n",
              "div.sk-serial,\n",
              "div.sk-item {\n",
              "  /* draw centered vertical line to link estimators */\n",
              "  background-image: linear-gradient(var(--sklearn-color-text-on-default-background), var(--sklearn-color-text-on-default-background));\n",
              "  background-size: 2px 100%;\n",
              "  background-repeat: no-repeat;\n",
              "  background-position: center center;\n",
              "}\n",
              "\n",
              "/* Parallel-specific style estimator block */\n",
              "\n",
              "#sk-container-id-1 div.sk-parallel-item::after {\n",
              "  content: \"\";\n",
              "  width: 100%;\n",
              "  border-bottom: 2px solid var(--sklearn-color-text-on-default-background);\n",
              "  flex-grow: 1;\n",
              "}\n",
              "\n",
              "#sk-container-id-1 div.sk-parallel {\n",
              "  display: flex;\n",
              "  align-items: stretch;\n",
              "  justify-content: center;\n",
              "  background-color: var(--sklearn-color-background);\n",
              "  position: relative;\n",
              "}\n",
              "\n",
              "#sk-container-id-1 div.sk-parallel-item {\n",
              "  display: flex;\n",
              "  flex-direction: column;\n",
              "}\n",
              "\n",
              "#sk-container-id-1 div.sk-parallel-item:first-child::after {\n",
              "  align-self: flex-end;\n",
              "  width: 50%;\n",
              "}\n",
              "\n",
              "#sk-container-id-1 div.sk-parallel-item:last-child::after {\n",
              "  align-self: flex-start;\n",
              "  width: 50%;\n",
              "}\n",
              "\n",
              "#sk-container-id-1 div.sk-parallel-item:only-child::after {\n",
              "  width: 0;\n",
              "}\n",
              "\n",
              "/* Serial-specific style estimator block */\n",
              "\n",
              "#sk-container-id-1 div.sk-serial {\n",
              "  display: flex;\n",
              "  flex-direction: column;\n",
              "  align-items: center;\n",
              "  background-color: var(--sklearn-color-background);\n",
              "  padding-right: 1em;\n",
              "  padding-left: 1em;\n",
              "}\n",
              "\n",
              "\n",
              "/* Toggleable style: style used for estimator/Pipeline/ColumnTransformer box that is\n",
              "clickable and can be expanded/collapsed.\n",
              "- Pipeline and ColumnTransformer use this feature and define the default style\n",
              "- Estimators will overwrite some part of the style using the `sk-estimator` class\n",
              "*/\n",
              "\n",
              "/* Pipeline and ColumnTransformer style (default) */\n",
              "\n",
              "#sk-container-id-1 div.sk-toggleable {\n",
              "  /* Default theme specific background. It is overwritten whether we have a\n",
              "  specific estimator or a Pipeline/ColumnTransformer */\n",
              "  background-color: var(--sklearn-color-background);\n",
              "}\n",
              "\n",
              "/* Toggleable label */\n",
              "#sk-container-id-1 label.sk-toggleable__label {\n",
              "  cursor: pointer;\n",
              "  display: flex;\n",
              "  width: 100%;\n",
              "  margin-bottom: 0;\n",
              "  padding: 0.5em;\n",
              "  box-sizing: border-box;\n",
              "  text-align: center;\n",
              "  align-items: start;\n",
              "  justify-content: space-between;\n",
              "  gap: 0.5em;\n",
              "}\n",
              "\n",
              "#sk-container-id-1 label.sk-toggleable__label .caption {\n",
              "  font-size: 0.6rem;\n",
              "  font-weight: lighter;\n",
              "  color: var(--sklearn-color-text-muted);\n",
              "}\n",
              "\n",
              "#sk-container-id-1 label.sk-toggleable__label-arrow:before {\n",
              "  /* Arrow on the left of the label */\n",
              "  content: \"▸\";\n",
              "  float: left;\n",
              "  margin-right: 0.25em;\n",
              "  color: var(--sklearn-color-icon);\n",
              "}\n",
              "\n",
              "#sk-container-id-1 label.sk-toggleable__label-arrow:hover:before {\n",
              "  color: var(--sklearn-color-text);\n",
              "}\n",
              "\n",
              "/* Toggleable content - dropdown */\n",
              "\n",
              "#sk-container-id-1 div.sk-toggleable__content {\n",
              "  max-height: 0;\n",
              "  max-width: 0;\n",
              "  overflow: hidden;\n",
              "  text-align: left;\n",
              "  /* unfitted */\n",
              "  background-color: var(--sklearn-color-unfitted-level-0);\n",
              "}\n",
              "\n",
              "#sk-container-id-1 div.sk-toggleable__content.fitted {\n",
              "  /* fitted */\n",
              "  background-color: var(--sklearn-color-fitted-level-0);\n",
              "}\n",
              "\n",
              "#sk-container-id-1 div.sk-toggleable__content pre {\n",
              "  margin: 0.2em;\n",
              "  border-radius: 0.25em;\n",
              "  color: var(--sklearn-color-text);\n",
              "  /* unfitted */\n",
              "  background-color: var(--sklearn-color-unfitted-level-0);\n",
              "}\n",
              "\n",
              "#sk-container-id-1 div.sk-toggleable__content.fitted pre {\n",
              "  /* unfitted */\n",
              "  background-color: var(--sklearn-color-fitted-level-0);\n",
              "}\n",
              "\n",
              "#sk-container-id-1 input.sk-toggleable__control:checked~div.sk-toggleable__content {\n",
              "  /* Expand drop-down */\n",
              "  max-height: 200px;\n",
              "  max-width: 100%;\n",
              "  overflow: auto;\n",
              "}\n",
              "\n",
              "#sk-container-id-1 input.sk-toggleable__control:checked~label.sk-toggleable__label-arrow:before {\n",
              "  content: \"▾\";\n",
              "}\n",
              "\n",
              "/* Pipeline/ColumnTransformer-specific style */\n",
              "\n",
              "#sk-container-id-1 div.sk-label input.sk-toggleable__control:checked~label.sk-toggleable__label {\n",
              "  color: var(--sklearn-color-text);\n",
              "  background-color: var(--sklearn-color-unfitted-level-2);\n",
              "}\n",
              "\n",
              "#sk-container-id-1 div.sk-label.fitted input.sk-toggleable__control:checked~label.sk-toggleable__label {\n",
              "  background-color: var(--sklearn-color-fitted-level-2);\n",
              "}\n",
              "\n",
              "/* Estimator-specific style */\n",
              "\n",
              "/* Colorize estimator box */\n",
              "#sk-container-id-1 div.sk-estimator input.sk-toggleable__control:checked~label.sk-toggleable__label {\n",
              "  /* unfitted */\n",
              "  background-color: var(--sklearn-color-unfitted-level-2);\n",
              "}\n",
              "\n",
              "#sk-container-id-1 div.sk-estimator.fitted input.sk-toggleable__control:checked~label.sk-toggleable__label {\n",
              "  /* fitted */\n",
              "  background-color: var(--sklearn-color-fitted-level-2);\n",
              "}\n",
              "\n",
              "#sk-container-id-1 div.sk-label label.sk-toggleable__label,\n",
              "#sk-container-id-1 div.sk-label label {\n",
              "  /* The background is the default theme color */\n",
              "  color: var(--sklearn-color-text-on-default-background);\n",
              "}\n",
              "\n",
              "/* On hover, darken the color of the background */\n",
              "#sk-container-id-1 div.sk-label:hover label.sk-toggleable__label {\n",
              "  color: var(--sklearn-color-text);\n",
              "  background-color: var(--sklearn-color-unfitted-level-2);\n",
              "}\n",
              "\n",
              "/* Label box, darken color on hover, fitted */\n",
              "#sk-container-id-1 div.sk-label.fitted:hover label.sk-toggleable__label.fitted {\n",
              "  color: var(--sklearn-color-text);\n",
              "  background-color: var(--sklearn-color-fitted-level-2);\n",
              "}\n",
              "\n",
              "/* Estimator label */\n",
              "\n",
              "#sk-container-id-1 div.sk-label label {\n",
              "  font-family: monospace;\n",
              "  font-weight: bold;\n",
              "  display: inline-block;\n",
              "  line-height: 1.2em;\n",
              "}\n",
              "\n",
              "#sk-container-id-1 div.sk-label-container {\n",
              "  text-align: center;\n",
              "}\n",
              "\n",
              "/* Estimator-specific */\n",
              "#sk-container-id-1 div.sk-estimator {\n",
              "  font-family: monospace;\n",
              "  border: 1px dotted var(--sklearn-color-border-box);\n",
              "  border-radius: 0.25em;\n",
              "  box-sizing: border-box;\n",
              "  margin-bottom: 0.5em;\n",
              "  /* unfitted */\n",
              "  background-color: var(--sklearn-color-unfitted-level-0);\n",
              "}\n",
              "\n",
              "#sk-container-id-1 div.sk-estimator.fitted {\n",
              "  /* fitted */\n",
              "  background-color: var(--sklearn-color-fitted-level-0);\n",
              "}\n",
              "\n",
              "/* on hover */\n",
              "#sk-container-id-1 div.sk-estimator:hover {\n",
              "  /* unfitted */\n",
              "  background-color: var(--sklearn-color-unfitted-level-2);\n",
              "}\n",
              "\n",
              "#sk-container-id-1 div.sk-estimator.fitted:hover {\n",
              "  /* fitted */\n",
              "  background-color: var(--sklearn-color-fitted-level-2);\n",
              "}\n",
              "\n",
              "/* Specification for estimator info (e.g. \"i\" and \"?\") */\n",
              "\n",
              "/* Common style for \"i\" and \"?\" */\n",
              "\n",
              ".sk-estimator-doc-link,\n",
              "a:link.sk-estimator-doc-link,\n",
              "a:visited.sk-estimator-doc-link {\n",
              "  float: right;\n",
              "  font-size: smaller;\n",
              "  line-height: 1em;\n",
              "  font-family: monospace;\n",
              "  background-color: var(--sklearn-color-background);\n",
              "  border-radius: 1em;\n",
              "  height: 1em;\n",
              "  width: 1em;\n",
              "  text-decoration: none !important;\n",
              "  margin-left: 0.5em;\n",
              "  text-align: center;\n",
              "  /* unfitted */\n",
              "  border: var(--sklearn-color-unfitted-level-1) 1pt solid;\n",
              "  color: var(--sklearn-color-unfitted-level-1);\n",
              "}\n",
              "\n",
              ".sk-estimator-doc-link.fitted,\n",
              "a:link.sk-estimator-doc-link.fitted,\n",
              "a:visited.sk-estimator-doc-link.fitted {\n",
              "  /* fitted */\n",
              "  border: var(--sklearn-color-fitted-level-1) 1pt solid;\n",
              "  color: var(--sklearn-color-fitted-level-1);\n",
              "}\n",
              "\n",
              "/* On hover */\n",
              "div.sk-estimator:hover .sk-estimator-doc-link:hover,\n",
              ".sk-estimator-doc-link:hover,\n",
              "div.sk-label-container:hover .sk-estimator-doc-link:hover,\n",
              ".sk-estimator-doc-link:hover {\n",
              "  /* unfitted */\n",
              "  background-color: var(--sklearn-color-unfitted-level-3);\n",
              "  color: var(--sklearn-color-background);\n",
              "  text-decoration: none;\n",
              "}\n",
              "\n",
              "div.sk-estimator.fitted:hover .sk-estimator-doc-link.fitted:hover,\n",
              ".sk-estimator-doc-link.fitted:hover,\n",
              "div.sk-label-container:hover .sk-estimator-doc-link.fitted:hover,\n",
              ".sk-estimator-doc-link.fitted:hover {\n",
              "  /* fitted */\n",
              "  background-color: var(--sklearn-color-fitted-level-3);\n",
              "  color: var(--sklearn-color-background);\n",
              "  text-decoration: none;\n",
              "}\n",
              "\n",
              "/* Span, style for the box shown on hovering the info icon */\n",
              ".sk-estimator-doc-link span {\n",
              "  display: none;\n",
              "  z-index: 9999;\n",
              "  position: relative;\n",
              "  font-weight: normal;\n",
              "  right: .2ex;\n",
              "  padding: .5ex;\n",
              "  margin: .5ex;\n",
              "  width: min-content;\n",
              "  min-width: 20ex;\n",
              "  max-width: 50ex;\n",
              "  color: var(--sklearn-color-text);\n",
              "  box-shadow: 2pt 2pt 4pt #999;\n",
              "  /* unfitted */\n",
              "  background: var(--sklearn-color-unfitted-level-0);\n",
              "  border: .5pt solid var(--sklearn-color-unfitted-level-3);\n",
              "}\n",
              "\n",
              ".sk-estimator-doc-link.fitted span {\n",
              "  /* fitted */\n",
              "  background: var(--sklearn-color-fitted-level-0);\n",
              "  border: var(--sklearn-color-fitted-level-3);\n",
              "}\n",
              "\n",
              ".sk-estimator-doc-link:hover span {\n",
              "  display: block;\n",
              "}\n",
              "\n",
              "/* \"?\"-specific style due to the `<a>` HTML tag */\n",
              "\n",
              "#sk-container-id-1 a.estimator_doc_link {\n",
              "  float: right;\n",
              "  font-size: 1rem;\n",
              "  line-height: 1em;\n",
              "  font-family: monospace;\n",
              "  background-color: var(--sklearn-color-background);\n",
              "  border-radius: 1rem;\n",
              "  height: 1rem;\n",
              "  width: 1rem;\n",
              "  text-decoration: none;\n",
              "  /* unfitted */\n",
              "  color: var(--sklearn-color-unfitted-level-1);\n",
              "  border: var(--sklearn-color-unfitted-level-1) 1pt solid;\n",
              "}\n",
              "\n",
              "#sk-container-id-1 a.estimator_doc_link.fitted {\n",
              "  /* fitted */\n",
              "  border: var(--sklearn-color-fitted-level-1) 1pt solid;\n",
              "  color: var(--sklearn-color-fitted-level-1);\n",
              "}\n",
              "\n",
              "/* On hover */\n",
              "#sk-container-id-1 a.estimator_doc_link:hover {\n",
              "  /* unfitted */\n",
              "  background-color: var(--sklearn-color-unfitted-level-3);\n",
              "  color: var(--sklearn-color-background);\n",
              "  text-decoration: none;\n",
              "}\n",
              "\n",
              "#sk-container-id-1 a.estimator_doc_link.fitted:hover {\n",
              "  /* fitted */\n",
              "  background-color: var(--sklearn-color-fitted-level-3);\n",
              "}\n",
              "</style><div id=\"sk-container-id-1\" class=\"sk-top-container\"><div class=\"sk-text-repr-fallback\"><pre>RandomForestClassifier(max_depth=20, min_samples_leaf=5, min_samples_split=10,\n",
              "                       random_state=42)</pre><b>In a Jupyter environment, please rerun this cell to show the HTML representation or trust the notebook. <br />On GitHub, the HTML representation is unable to render, please try loading this page with nbviewer.org.</b></div><div class=\"sk-container\" hidden><div class=\"sk-item\"><div class=\"sk-estimator fitted sk-toggleable\"><input class=\"sk-toggleable__control sk-hidden--visually\" id=\"sk-estimator-id-1\" type=\"checkbox\" checked><label for=\"sk-estimator-id-1\" class=\"sk-toggleable__label fitted sk-toggleable__label-arrow\"><div><div>RandomForestClassifier</div></div><div><a class=\"sk-estimator-doc-link fitted\" rel=\"noreferrer\" target=\"_blank\" href=\"https://scikit-learn.org/1.6/modules/generated/sklearn.ensemble.RandomForestClassifier.html\">?<span>Documentation for RandomForestClassifier</span></a><span class=\"sk-estimator-doc-link fitted\">i<span>Fitted</span></span></div></label><div class=\"sk-toggleable__content fitted\"><pre>RandomForestClassifier(max_depth=20, min_samples_leaf=5, min_samples_split=10,\n",
              "                       random_state=42)</pre></div> </div></div></div></div>"
            ]
          },
          "metadata": {},
          "execution_count": 109
        }
      ]
    },
    {
      "cell_type": "code",
      "source": [
        "rf_pred = rf.predict(x_test)"
      ],
      "metadata": {
        "id": "gtzLUV6nPyse"
      },
      "execution_count": null,
      "outputs": []
    },
    {
      "cell_type": "code",
      "source": [
        "rf_acc = accuracy_score(y_test, rf_pred)\n",
        "rf_acc"
      ],
      "metadata": {
        "colab": {
          "base_uri": "https://localhost:8080/"
        },
        "id": "qkJmNZ61P3JH",
        "outputId": "bda558b5-55aa-444f-862a-c1c8437db6a4"
      },
      "execution_count": null,
      "outputs": [
        {
          "output_type": "execute_result",
          "data": {
            "text/plain": [
              "0.8084170854271356"
            ]
          },
          "metadata": {},
          "execution_count": 111
        }
      ]
    },
    {
      "cell_type": "code",
      "source": [
        "sns.heatmap(pd.crosstab(y_test, rf_pred, rownames=['Actual'], colnames=['Predicted']), annot=True, fmt='d')"
      ],
      "metadata": {
        "colab": {
          "base_uri": "https://localhost:8080/",
          "height": 466
        },
        "id": "uYGIM2AdP6-L",
        "outputId": "900f3af4-64a5-48d8-f762-3fd2750e21bf"
      },
      "execution_count": null,
      "outputs": [
        {
          "output_type": "execute_result",
          "data": {
            "text/plain": [
              "<Axes: xlabel='Predicted', ylabel='Actual'>"
            ]
          },
          "metadata": {},
          "execution_count": 112
        },
        {
          "output_type": "display_data",
          "data": {
            "text/plain": [
              "<Figure size 640x480 with 2 Axes>"
            ],
            "image/png": "[encoded data removed]"
          },
          "metadata": {}
        }
      ]
    },
    {
      "cell_type": "code",
      "source": [
        "#random forest variable importance\n",
        "importances = rf.feature_importances_"
      ],
      "metadata": {
        "id": "jvoU6q96Zyqj"
      },
      "execution_count": null,
      "outputs": []
    },
    {
      "cell_type": "code",
      "source": [
        "#show all columns\n",
        "pd.set_option('display.max_columns', None)"
      ],
      "metadata": {
        "id": "lHLxRF9naV1w"
      },
      "execution_count": null,
      "outputs": []
    },
    {
      "cell_type": "code",
      "source": [
        "#show importances with variable names\n",
        "feature_importances = pd.DataFrame(importances, index=predictors.columns, columns=['Importance'])\n",
        "feature_importances.sort_values('Importance', ascending=False)"
      ],
      "metadata": {
        "colab": {
          "base_uri": "https://localhost:8080/"
        },
        "id": "mr6RT1QNaEfI",
        "outputId": "388421f3-9d45-4002-eaa6-af322380aed3"
      },
      "execution_count": null,
      "outputs": [
        {
          "output_type": "execute_result",
          "data": {
            "text/plain": [
              "                                               Importance\n",
              "Speed_limit                                      0.110598\n",
              "Time                                             0.095918\n",
              "Road_Type_Single carriageway                     0.075777\n",
              "Year                                             0.058574\n",
              "Urban_or_Rural_Area_Urban                        0.053496\n",
              "...                                                   ...\n",
              "Weather_Conditions_Snowing + high winds          0.000000\n",
              "Vehicle_Type_Goods over 3.5t. and under 7.5t     0.000000\n",
              "Vehicle_Type_Pedal cycle                         0.000000\n",
              "Vehicle_Type_Minibus (8 - 16 passenger seats)    0.000000\n",
              "Vehicle_Type_Other vehicle                       0.000000\n",
              "\n",
              "[74 rows x 1 columns]"
            ],
            "text/html": [
              "\n",
              "  <div id=\"df-360ec42e-db57-4f28-acfd-c2cabf40f277\" class=\"colab-df-container\">\n",
              "    <div>\n",
              "<style scoped>\n",
              "    .dataframe tbody tr th:only-of-type {\n",
              "        vertical-align: middle;\n",
              "    }\n",
              "\n",
              "    .dataframe tbody tr th {\n",
              "        vertical-align: top;\n",
              "    }\n",
              "\n",
              "    .dataframe thead th {\n",
              "        text-align: right;\n",
              "    }\n",
              "</style>\n",
              "<table border=\"1\" class=\"dataframe\">\n",
              "  <thead>\n",
              "    <tr style=\"text-align: right;\">\n",
              "      <th></th>\n",
              "      <th>Importance</th>\n",
              "    </tr>\n",
              "  </thead>\n",
              "  <tbody>\n",
              "    <tr>\n",
              "      <th>Speed_limit</th>\n",
              "      <td>0.110598</td>\n",
              "    </tr>\n",
              "    <tr>\n",
              "      <th>Time</th>\n",
              "      <td>0.095918</td>\n",
              "    </tr>\n",
              "    <tr>\n",
              "      <th>Road_Type_Single carriageway</th>\n",
              "      <td>0.075777</td>\n",
              "    </tr>\n",
              "    <tr>\n",
              "      <th>Year</th>\n",
              "      <td>0.058574</td>\n",
              "    </tr>\n",
              "    <tr>\n",
              "      <th>Urban_or_Rural_Area_Urban</th>\n",
              "      <td>0.053496</td>\n",
              "    </tr>\n",
              "    <tr>\n",
              "      <th>...</th>\n",
              "      <td>...</td>\n",
              "    </tr>\n",
              "    <tr>\n",
              "      <th>Weather_Conditions_Snowing + high winds</th>\n",
              "      <td>0.000000</td>\n",
              "    </tr>\n",
              "    <tr>\n",
              "      <th>Vehicle_Type_Goods over 3.5t. and under 7.5t</th>\n",
              "      <td>0.000000</td>\n",
              "    </tr>\n",
              "    <tr>\n",
              "      <th>Vehicle_Type_Pedal cycle</th>\n",
              "      <td>0.000000</td>\n",
              "    </tr>\n",
              "    <tr>\n",
              "      <th>Vehicle_Type_Minibus (8 - 16 passenger seats)</th>\n",
              "      <td>0.000000</td>\n",
              "    </tr>\n",
              "    <tr>\n",
              "      <th>Vehicle_Type_Other vehicle</th>\n",
              "      <td>0.000000</td>\n",
              "    </tr>\n",
              "  </tbody>\n",
              "</table>\n",
              "<p>74 rows × 1 columns</p>\n",
              "</div>\n",
              "    <div class=\"colab-df-buttons\">\n",
              "\n",
              "  <div class=\"colab-df-container\">\n",
              "    <button class=\"colab-df-convert\" onclick=\"convertToInteractive('df-360ec42e-db57-4f28-acfd-c2cabf40f277')\"\n",
              "            title=\"Convert this dataframe to an interactive table.\"\n",
              "            style=\"display:none;\">\n",
              "\n",
              "  <svg xmlns=\"http://www.w3.org/2000/svg\" height=\"24px\" viewBox=\"0 -960 960 960\">\n",
              "    <path d=\"M120-120v-720h720v720H120Zm60-500h600v-160H180v160Zm220 220h160v-160H400v160Zm0 220h160v-160H400v160ZM180-400h160v-160H180v160Zm440 0h160v-160H620v160ZM180-180h160v-160H180v160Zm440 0h160v-160H620v160Z\"/>\n",
              "  </svg>\n",
              "    </button>\n",
              "\n",
              "  <style>\n",
              "    .colab-df-container {\n",
              "      display:flex;\n",
              "      gap: 12px;\n",
              "    }\n",
              "\n",
              "    .colab-df-convert {\n",
              "      background-color: #E8F0FE;\n",
              "      border: none;\n",
              "      border-radius: 50%;\n",
              "      cursor: pointer;\n",
              "      display: none;\n",
              "      fill: #1967D2;\n",
              "      height: 32px;\n",
              "      padding: 0 0 0 0;\n",
              "      width: 32px;\n",
              "    }\n",
              "\n",
              "    .colab-df-convert:hover {\n",
              "      background-color: #E2EBFA;\n",
              "      box-shadow: 0px 1px 2px rgba(60, 64, 67, 0.3), 0px 1px 3px 1px rgba(60, 64, 67, 0.15);\n",
              "      fill: #174EA6;\n",
              "    }\n",
              "\n",
              "    .colab-df-buttons div {\n",
              "      margin-bottom: 4px;\n",
              "    }\n",
              "\n",
              "    [theme=dark] .colab-df-convert {\n",
              "      background-color: #3B4455;\n",
              "      fill: #D2E3FC;\n",
              "    }\n",
              "\n",
              "    [theme=dark] .colab-df-convert:hover {\n",
              "      background-color: #434B5C;\n",
              "      box-shadow: 0px 1px 3px 1px rgba(0, 0, 0, 0.15);\n",
              "      filter: drop-shadow(0px 1px 2px rgba(0, 0, 0, 0.3));\n",
              "      fill: #FFFFFF;\n",
              "    }\n",
              "  </style>\n",
              "\n",
              "    <script>\n",
              "      const buttonEl =\n",
              "        document.querySelector('#df-360ec42e-db57-4f28-acfd-c2cabf40f277 button.colab-df-convert');\n",
              "      buttonEl.style.display =\n",
              "        google.colab.kernel.accessAllowed ? 'block' : 'none';\n",
              "\n",
              "      async function convertToInteractive(key) {\n",
              "        const element = document.querySelector('#df-360ec42e-db57-4f28-acfd-c2cabf40f277');\n",
              "        const dataTable =\n",
              "          await google.colab.kernel.invokeFunction('convertToInteractive',\n",
              "                                                    [key], {});\n",
              "        if (!dataTable) return;\n",
              "\n",
              "        const docLinkHtml = 'Like what you see? Visit the ' +\n",
              "          '<a target=\"_blank\" href=https://colab.research.google.com/notebooks/data_table.ipynb>data table notebook</a>'\n",
              "          + ' to learn more about interactive tables.';\n",
              "        element.innerHTML = '';\n",
              "        dataTable['output_type'] = 'display_data';\n",
              "        await google.colab.output.renderOutput(dataTable, element);\n",
              "        const docLink = document.createElement('div');\n",
              "        docLink.innerHTML = docLinkHtml;\n",
              "        element.appendChild(docLink);\n",
              "      }\n",
              "    </script>\n",
              "  </div>\n",
              "\n",
              "\n",
              "<div id=\"df-9d4c57d8-809b-4d57-a1e0-a941d5001b28\">\n",
              "  <button class=\"colab-df-quickchart\" onclick=\"quickchart('df-9d4c57d8-809b-4d57-a1e0-a941d5001b28')\"\n",
              "            title=\"Suggest charts\"\n",
              "            style=\"display:none;\">\n",
              "\n",
              "<svg xmlns=\"http://www.w3.org/2000/svg\" height=\"24px\"viewBox=\"0 0 24 24\"\n",
              "     width=\"24px\">\n",
              "    <g>\n",
              "        <path d=\"M19 3H5c-1.1 0-2 .9-2 2v14c0 1.1.9 2 2 2h14c1.1 0 2-.9 2-2V5c0-1.1-.9-2-2-2zM9 17H7v-7h2v7zm4 0h-2V7h2v10zm4 0h-2v-4h2v4z\"/>\n",
              "    </g>\n",
              "</svg>\n",
              "  </button>\n",
              "\n",
              "<style>\n",
              "  .colab-df-quickchart {\n",
              "      --bg-color: #E8F0FE;\n",
              "      --fill-color: #1967D2;\n",
              "      --hover-bg-color: #E2EBFA;\n",
              "      --hover-fill-color: #174EA6;\n",
              "      --disabled-fill-color: #AAA;\n",
              "      --disabled-bg-color: #DDD;\n",
              "  }\n",
              "\n",
              "  [theme=dark] .colab-df-quickchart {\n",
              "      --bg-color: #3B4455;\n",
              "      --fill-color: #D2E3FC;\n",
              "      --hover-bg-color: #434B5C;\n",
              "      --hover-fill-color: #FFFFFF;\n",
              "      --disabled-bg-color: #3B4455;\n",
              "      --disabled-fill-color: #666;\n",
              "  }\n",
              "\n",
              "  .colab-df-quickchart {\n",
              "    background-color: var(--bg-color);\n",
              "    border: none;\n",
              "    border-radius: 50%;\n",
              "    cursor: pointer;\n",
              "    display: none;\n",
              "    fill: var(--fill-color);\n",
              "    height: 32px;\n",
              "    padding: 0;\n",
              "    width: 32px;\n",
              "  }\n",
              "\n",
              "  .colab-df-quickchart:hover {\n",
              "    background-color: var(--hover-bg-color);\n",
              "    box-shadow: 0 1px 2px rgba(60, 64, 67, 0.3), 0 1px 3px 1px rgba(60, 64, 67, 0.15);\n",
              "    fill: var(--button-hover-fill-color);\n",
              "  }\n",
              "\n",
              "  .colab-df-quickchart-complete:disabled,\n",
              "  .colab-df-quickchart-complete:disabled:hover {\n",
              "    background-color: var(--disabled-bg-color);\n",
              "    fill: var(--disabled-fill-color);\n",
              "    box-shadow: none;\n",
              "  }\n",
              "\n",
              "  .colab-df-spinner {\n",
              "    border: 2px solid var(--fill-color);\n",
              "    border-color: transparent;\n",
              "    border-bottom-color: var(--fill-color);\n",
              "    animation:\n",
              "      spin 1s steps(1) infinite;\n",
              "  }\n",
              "\n",
              "  @keyframes spin {\n",
              "    0% {\n",
              "      border-color: transparent;\n",
              "      border-bottom-color: var(--fill-color);\n",
              "      border-left-color: var(--fill-color);\n",
              "    }\n",
              "    20% {\n",
              "      border-color: transparent;\n",
              "      border-left-color: var(--fill-color);\n",
              "      border-top-color: var(--fill-color);\n",
              "    }\n",
              "    30% {\n",
              "      border-color: transparent;\n",
              "      border-left-color: var(--fill-color);\n",
              "      border-top-color: var(--fill-color);\n",
              "      border-right-color: var(--fill-color);\n",
              "    }\n",
              "    40% {\n",
              "      border-color: transparent;\n",
              "      border-right-color: var(--fill-color);\n",
              "      border-top-color: var(--fill-color);\n",
              "    }\n",
              "    60% {\n",
              "      border-color: transparent;\n",
              "      border-right-color: var(--fill-color);\n",
              "    }\n",
              "    80% {\n",
              "      border-color: transparent;\n",
              "      border-right-color: var(--fill-color);\n",
              "      border-bottom-color: var(--fill-color);\n",
              "    }\n",
              "    90% {\n",
              "      border-color: transparent;\n",
              "      border-bottom-color: var(--fill-color);\n",
              "    }\n",
              "  }\n",
              "</style>\n",
              "\n",
              "  <script>\n",
              "    async function quickchart(key) {\n",
              "      const quickchartButtonEl =\n",
              "        document.querySelector('#' + key + ' button');\n",
              "      quickchartButtonEl.disabled = true;  // To prevent multiple clicks.\n",
              "      quickchartButtonEl.classList.add('colab-df-spinner');\n",
              "      try {\n",
              "        const charts = await google.colab.kernel.invokeFunction(\n",
              "            'suggestCharts', [key], {});\n",
              "      } catch (error) {\n",
              "        console.error('Error during call to suggestCharts:', error);\n",
              "      }\n",
              "      quickchartButtonEl.classList.remove('colab-df-spinner');\n",
              "      quickchartButtonEl.classList.add('colab-df-quickchart-complete');\n",
              "    }\n",
              "    (() => {\n",
              "      let quickchartButtonEl =\n",
              "        document.querySelector('#df-9d4c57d8-809b-4d57-a1e0-a941d5001b28 button');\n",
              "      quickchartButtonEl.style.display =\n",
              "        google.colab.kernel.accessAllowed ? 'block' : 'none';\n",
              "    })();\n",
              "  </script>\n",
              "</div>\n",
              "\n",
              "    </div>\n",
              "  </div>\n"
            ],
            "application/vnd.google.colaboratory.intrinsic+json": {
              "type": "dataframe",
              "summary": "{\n  \"name\": \"feature_importances\",\n  \"rows\": 74,\n  \"fields\": [\n    {\n      \"column\": \"Importance\",\n      \"properties\": {\n        \"dtype\": \"number\",\n        \"std\": 0.021920578132026497,\n        \"min\": 0.0,\n        \"max\": 0.11059783542351646,\n        \"num_unique_values\": 67,\n        \"samples\": [\n          0.005822439821042353,\n          0.0183012446240414,\n          0.053495908470335876\n        ],\n        \"semantic_type\": \"\",\n        \"description\": \"\"\n      }\n    }\n  ]\n}"
            }
          },
          "metadata": {},
          "execution_count": 158
        }
      ]
    },
    {
      "cell_type": "markdown",
      "source": [
        "ordinal logistic AT"
      ],
      "metadata": {
        "id": "-V5BTs3GP_QG"
      }
    },
    {
      "cell_type": "code",
      "source": [
        "pip install mord"
      ],
      "metadata": {
        "colab": {
          "base_uri": "https://localhost:8080/"
        },
        "id": "2hULC3H0QEmT",
        "outputId": "4641260c-86ed-4099-cd54-814b7f56574b"
      },
      "execution_count": null,
      "outputs": [
        {
          "output_type": "stream",
          "name": "stdout",
          "text": [
            "Collecting mord\n",
            "  Downloading mord-0.7.tar.gz (8.6 kB)\n",
            "  Preparing metadata (setup.py) ... \u001b[?25l\u001b[?25hdone\n",
            "Building wheels for collected packages: mord\n",
            "  Building wheel for mord (setup.py) ... \u001b[?25l\u001b[?25hdone\n",
            "  Created wheel for mord: filename=mord-0.7-py3-none-any.whl size=9885 sha256=82de2c2b864f20ddf6d3ff67504fd4c30b3b48c7db6dfcd9b08508eb512563e5\n",
            "  Stored in directory: /root/.cache/pip/wheels/d1/fc/57/f2a2ad4ed0491ab6d5bb8642a90f1da9469397641e914743da\n",
            "Successfully built mord\n",
            "Installing collected packages: mord\n",
            "Successfully installed mord-0.7\n"
          ]
        }
      ]
    },
    {
      "cell_type": "code",
      "source": [
        "import mord"
      ],
      "metadata": {
        "id": "LjKWQOT9QJIn"
      },
      "execution_count": null,
      "outputs": []
    },
    {
      "cell_type": "code",
      "source": [
        "at_model = mord.LogisticAT(alpha=0)"
      ],
      "metadata": {
        "id": "OzXwqZY8QNOP"
      },
      "execution_count": null,
      "outputs": []
    },
    {
      "cell_type": "code",
      "source": [
        "at_model.fit(predictors, target)"
      ],
      "metadata": {
        "colab": {
          "base_uri": "https://localhost:8080/",
          "height": 80
        },
        "id": "RXDydDTyQOtZ",
        "outputId": "43c73b76-d5d4-4fbb-f835-cbe79d799b2a"
      },
      "execution_count": null,
      "outputs": [
        {
          "output_type": "execute_result",
          "data": {
            "text/plain": [
              "LogisticAT(alpha=0)"
            ],
            "text/html": [
              "<style>#sk-container-id-1 {\n",
              "  /* Definition of color scheme common for light and dark mode */\n",
              "  --sklearn-color-text: #000;\n",
              "  --sklearn-color-text-muted: #666;\n",
              "  --sklearn-color-line: gray;\n",
              "  /* Definition of color scheme for unfitted estimators */\n",
              "  --sklearn-color-unfitted-level-0: #fff5e6;\n",
              "  --sklearn-color-unfitted-level-1: #f6e4d2;\n",
              "  --sklearn-color-unfitted-level-2: #ffe0b3;\n",
              "  --sklearn-color-unfitted-level-3: chocolate;\n",
              "  /* Definition of color scheme for fitted estimators */\n",
              "  --sklearn-color-fitted-level-0: #f0f8ff;\n",
              "  --sklearn-color-fitted-level-1: #d4ebff;\n",
              "  --sklearn-color-fitted-level-2: #b3dbfd;\n",
              "  --sklearn-color-fitted-level-3: cornflowerblue;\n",
              "\n",
              "  /* Specific color for light theme */\n",
              "  --sklearn-color-text-on-default-background: var(--sg-text-color, var(--theme-code-foreground, var(--jp-content-font-color1, black)));\n",
              "  --sklearn-color-background: var(--sg-background-color, var(--theme-background, var(--jp-layout-color0, white)));\n",
              "  --sklearn-color-border-box: var(--sg-text-color, var(--theme-code-foreground, var(--jp-content-font-color1, black)));\n",
              "  --sklearn-color-icon: #696969;\n",
              "\n",
              "  @media (prefers-color-scheme: dark) {\n",
              "    /* Redefinition of color scheme for dark theme */\n",
              "    --sklearn-color-text-on-default-background: var(--sg-text-color, var(--theme-code-foreground, var(--jp-content-font-color1, white)));\n",
              "    --sklearn-color-background: var(--sg-background-color, var(--theme-background, var(--jp-layout-color0, #111)));\n",
              "    --sklearn-color-border-box: var(--sg-text-color, var(--theme-code-foreground, var(--jp-content-font-color1, white)));\n",
              "    --sklearn-color-icon: #878787;\n",
              "  }\n",
              "}\n",
              "\n",
              "#sk-container-id-1 {\n",
              "  color: var(--sklearn-color-text);\n",
              "}\n",
              "\n",
              "#sk-container-id-1 pre {\n",
              "  padding: 0;\n",
              "}\n",
              "\n",
              "#sk-container-id-1 input.sk-hidden--visually {\n",
              "  border: 0;\n",
              "  clip: rect(1px 1px 1px 1px);\n",
              "  clip: rect(1px, 1px, 1px, 1px);\n",
              "  height: 1px;\n",
              "  margin: -1px;\n",
              "  overflow: hidden;\n",
              "  padding: 0;\n",
              "  position: absolute;\n",
              "  width: 1px;\n",
              "}\n",
              "\n",
              "#sk-container-id-1 div.sk-dashed-wrapped {\n",
              "  border: 1px dashed var(--sklearn-color-line);\n",
              "  margin: 0 0.4em 0.5em 0.4em;\n",
              "  box-sizing: border-box;\n",
              "  padding-bottom: 0.4em;\n",
              "  background-color: var(--sklearn-color-background);\n",
              "}\n",
              "\n",
              "#sk-container-id-1 div.sk-container {\n",
              "  /* jupyter's `normalize.less` sets `[hidden] { display: none; }`\n",
              "     but bootstrap.min.css set `[hidden] { display: none !important; }`\n",
              "     so we also need the `!important` here to be able to override the\n",
              "     default hidden behavior on the sphinx rendered scikit-learn.org.\n",
              "     See: https://github.com/scikit-learn/scikit-learn/issues/21755 */\n",
              "  display: inline-block !important;\n",
              "  position: relative;\n",
              "}\n",
              "\n",
              "#sk-container-id-1 div.sk-text-repr-fallback {\n",
              "  display: none;\n",
              "}\n",
              "\n",
              "div.sk-parallel-item,\n",
              "div.sk-serial,\n",
              "div.sk-item {\n",
              "  /* draw centered vertical line to link estimators */\n",
              "  background-image: linear-gradient(var(--sklearn-color-text-on-default-background), var(--sklearn-color-text-on-default-background));\n",
              "  background-size: 2px 100%;\n",
              "  background-repeat: no-repeat;\n",
              "  background-position: center center;\n",
              "}\n",
              "\n",
              "/* Parallel-specific style estimator block */\n",
              "\n",
              "#sk-container-id-1 div.sk-parallel-item::after {\n",
              "  content: \"\";\n",
              "  width: 100%;\n",
              "  border-bottom: 2px solid var(--sklearn-color-text-on-default-background);\n",
              "  flex-grow: 1;\n",
              "}\n",
              "\n",
              "#sk-container-id-1 div.sk-parallel {\n",
              "  display: flex;\n",
              "  align-items: stretch;\n",
              "  justify-content: center;\n",
              "  background-color: var(--sklearn-color-background);\n",
              "  position: relative;\n",
              "}\n",
              "\n",
              "#sk-container-id-1 div.sk-parallel-item {\n",
              "  display: flex;\n",
              "  flex-direction: column;\n",
              "}\n",
              "\n",
              "#sk-container-id-1 div.sk-parallel-item:first-child::after {\n",
              "  align-self: flex-end;\n",
              "  width: 50%;\n",
              "}\n",
              "\n",
              "#sk-container-id-1 div.sk-parallel-item:last-child::after {\n",
              "  align-self: flex-start;\n",
              "  width: 50%;\n",
              "}\n",
              "\n",
              "#sk-container-id-1 div.sk-parallel-item:only-child::after {\n",
              "  width: 0;\n",
              "}\n",
              "\n",
              "/* Serial-specific style estimator block */\n",
              "\n",
              "#sk-container-id-1 div.sk-serial {\n",
              "  display: flex;\n",
              "  flex-direction: column;\n",
              "  align-items: center;\n",
              "  background-color: var(--sklearn-color-background);\n",
              "  padding-right: 1em;\n",
              "  padding-left: 1em;\n",
              "}\n",
              "\n",
              "\n",
              "/* Toggleable style: style used for estimator/Pipeline/ColumnTransformer box that is\n",
              "clickable and can be expanded/collapsed.\n",
              "- Pipeline and ColumnTransformer use this feature and define the default style\n",
              "- Estimators will overwrite some part of the style using the `sk-estimator` class\n",
              "*/\n",
              "\n",
              "/* Pipeline and ColumnTransformer style (default) */\n",
              "\n",
              "#sk-container-id-1 div.sk-toggleable {\n",
              "  /* Default theme specific background. It is overwritten whether we have a\n",
              "  specific estimator or a Pipeline/ColumnTransformer */\n",
              "  background-color: var(--sklearn-color-background);\n",
              "}\n",
              "\n",
              "/* Toggleable label */\n",
              "#sk-container-id-1 label.sk-toggleable__label {\n",
              "  cursor: pointer;\n",
              "  display: flex;\n",
              "  width: 100%;\n",
              "  margin-bottom: 0;\n",
              "  padding: 0.5em;\n",
              "  box-sizing: border-box;\n",
              "  text-align: center;\n",
              "  align-items: start;\n",
              "  justify-content: space-between;\n",
              "  gap: 0.5em;\n",
              "}\n",
              "\n",
              "#sk-container-id-1 label.sk-toggleable__label .caption {\n",
              "  font-size: 0.6rem;\n",
              "  font-weight: lighter;\n",
              "  color: var(--sklearn-color-text-muted);\n",
              "}\n",
              "\n",
              "#sk-container-id-1 label.sk-toggleable__label-arrow:before {\n",
              "  /* Arrow on the left of the label */\n",
              "  content: \"▸\";\n",
              "  float: left;\n",
              "  margin-right: 0.25em;\n",
              "  color: var(--sklearn-color-icon);\n",
              "}\n",
              "\n",
              "#sk-container-id-1 label.sk-toggleable__label-arrow:hover:before {\n",
              "  color: var(--sklearn-color-text);\n",
              "}\n",
              "\n",
              "/* Toggleable content - dropdown */\n",
              "\n",
              "#sk-container-id-1 div.sk-toggleable__content {\n",
              "  max-height: 0;\n",
              "  max-width: 0;\n",
              "  overflow: hidden;\n",
              "  text-align: left;\n",
              "  /* unfitted */\n",
              "  background-color: var(--sklearn-color-unfitted-level-0);\n",
              "}\n",
              "\n",
              "#sk-container-id-1 div.sk-toggleable__content.fitted {\n",
              "  /* fitted */\n",
              "  background-color: var(--sklearn-color-fitted-level-0);\n",
              "}\n",
              "\n",
              "#sk-container-id-1 div.sk-toggleable__content pre {\n",
              "  margin: 0.2em;\n",
              "  border-radius: 0.25em;\n",
              "  color: var(--sklearn-color-text);\n",
              "  /* unfitted */\n",
              "  background-color: var(--sklearn-color-unfitted-level-0);\n",
              "}\n",
              "\n",
              "#sk-container-id-1 div.sk-toggleable__content.fitted pre {\n",
              "  /* unfitted */\n",
              "  background-color: var(--sklearn-color-fitted-level-0);\n",
              "}\n",
              "\n",
              "#sk-container-id-1 input.sk-toggleable__control:checked~div.sk-toggleable__content {\n",
              "  /* Expand drop-down */\n",
              "  max-height: 200px;\n",
              "  max-width: 100%;\n",
              "  overflow: auto;\n",
              "}\n",
              "\n",
              "#sk-container-id-1 input.sk-toggleable__control:checked~label.sk-toggleable__label-arrow:before {\n",
              "  content: \"▾\";\n",
              "}\n",
              "\n",
              "/* Pipeline/ColumnTransformer-specific style */\n",
              "\n",
              "#sk-container-id-1 div.sk-label input.sk-toggleable__control:checked~label.sk-toggleable__label {\n",
              "  color: var(--sklearn-color-text);\n",
              "  background-color: var(--sklearn-color-unfitted-level-2);\n",
              "}\n",
              "\n",
              "#sk-container-id-1 div.sk-label.fitted input.sk-toggleable__control:checked~label.sk-toggleable__label {\n",
              "  background-color: var(--sklearn-color-fitted-level-2);\n",
              "}\n",
              "\n",
              "/* Estimator-specific style */\n",
              "\n",
              "/* Colorize estimator box */\n",
              "#sk-container-id-1 div.sk-estimator input.sk-toggleable__control:checked~label.sk-toggleable__label {\n",
              "  /* unfitted */\n",
              "  background-color: var(--sklearn-color-unfitted-level-2);\n",
              "}\n",
              "\n",
              "#sk-container-id-1 div.sk-estimator.fitted input.sk-toggleable__control:checked~label.sk-toggleable__label {\n",
              "  /* fitted */\n",
              "  background-color: var(--sklearn-color-fitted-level-2);\n",
              "}\n",
              "\n",
              "#sk-container-id-1 div.sk-label label.sk-toggleable__label,\n",
              "#sk-container-id-1 div.sk-label label {\n",
              "  /* The background is the default theme color */\n",
              "  color: var(--sklearn-color-text-on-default-background);\n",
              "}\n",
              "\n",
              "/* On hover, darken the color of the background */\n",
              "#sk-container-id-1 div.sk-label:hover label.sk-toggleable__label {\n",
              "  color: var(--sklearn-color-text);\n",
              "  background-color: var(--sklearn-color-unfitted-level-2);\n",
              "}\n",
              "\n",
              "/* Label box, darken color on hover, fitted */\n",
              "#sk-container-id-1 div.sk-label.fitted:hover label.sk-toggleable__label.fitted {\n",
              "  color: var(--sklearn-color-text);\n",
              "  background-color: var(--sklearn-color-fitted-level-2);\n",
              "}\n",
              "\n",
              "/* Estimator label */\n",
              "\n",
              "#sk-container-id-1 div.sk-label label {\n",
              "  font-family: monospace;\n",
              "  font-weight: bold;\n",
              "  display: inline-block;\n",
              "  line-height: 1.2em;\n",
              "}\n",
              "\n",
              "#sk-container-id-1 div.sk-label-container {\n",
              "  text-align: center;\n",
              "}\n",
              "\n",
              "/* Estimator-specific */\n",
              "#sk-container-id-1 div.sk-estimator {\n",
              "  font-family: monospace;\n",
              "  border: 1px dotted var(--sklearn-color-border-box);\n",
              "  border-radius: 0.25em;\n",
              "  box-sizing: border-box;\n",
              "  margin-bottom: 0.5em;\n",
              "  /* unfitted */\n",
              "  background-color: var(--sklearn-color-unfitted-level-0);\n",
              "}\n",
              "\n",
              "#sk-container-id-1 div.sk-estimator.fitted {\n",
              "  /* fitted */\n",
              "  background-color: var(--sklearn-color-fitted-level-0);\n",
              "}\n",
              "\n",
              "/* on hover */\n",
              "#sk-container-id-1 div.sk-estimator:hover {\n",
              "  /* unfitted */\n",
              "  background-color: var(--sklearn-color-unfitted-level-2);\n",
              "}\n",
              "\n",
              "#sk-container-id-1 div.sk-estimator.fitted:hover {\n",
              "  /* fitted */\n",
              "  background-color: var(--sklearn-color-fitted-level-2);\n",
              "}\n",
              "\n",
              "/* Specification for estimator info (e.g. \"i\" and \"?\") */\n",
              "\n",
              "/* Common style for \"i\" and \"?\" */\n",
              "\n",
              ".sk-estimator-doc-link,\n",
              "a:link.sk-estimator-doc-link,\n",
              "a:visited.sk-estimator-doc-link {\n",
              "  float: right;\n",
              "  font-size: smaller;\n",
              "  line-height: 1em;\n",
              "  font-family: monospace;\n",
              "  background-color: var(--sklearn-color-background);\n",
              "  border-radius: 1em;\n",
              "  height: 1em;\n",
              "  width: 1em;\n",
              "  text-decoration: none !important;\n",
              "  margin-left: 0.5em;\n",
              "  text-align: center;\n",
              "  /* unfitted */\n",
              "  border: var(--sklearn-color-unfitted-level-1) 1pt solid;\n",
              "  color: var(--sklearn-color-unfitted-level-1);\n",
              "}\n",
              "\n",
              ".sk-estimator-doc-link.fitted,\n",
              "a:link.sk-estimator-doc-link.fitted,\n",
              "a:visited.sk-estimator-doc-link.fitted {\n",
              "  /* fitted */\n",
              "  border: var(--sklearn-color-fitted-level-1) 1pt solid;\n",
              "  color: var(--sklearn-color-fitted-level-1);\n",
              "}\n",
              "\n",
              "/* On hover */\n",
              "div.sk-estimator:hover .sk-estimator-doc-link:hover,\n",
              ".sk-estimator-doc-link:hover,\n",
              "div.sk-label-container:hover .sk-estimator-doc-link:hover,\n",
              ".sk-estimator-doc-link:hover {\n",
              "  /* unfitted */\n",
              "  background-color: var(--sklearn-color-unfitted-level-3);\n",
              "  color: var(--sklearn-color-background);\n",
              "  text-decoration: none;\n",
              "}\n",
              "\n",
              "div.sk-estimator.fitted:hover .sk-estimator-doc-link.fitted:hover,\n",
              ".sk-estimator-doc-link.fitted:hover,\n",
              "div.sk-label-container:hover .sk-estimator-doc-link.fitted:hover,\n",
              ".sk-estimator-doc-link.fitted:hover {\n",
              "  /* fitted */\n",
              "  background-color: var(--sklearn-color-fitted-level-3);\n",
              "  color: var(--sklearn-color-background);\n",
              "  text-decoration: none;\n",
              "}\n",
              "\n",
              "/* Span, style for the box shown on hovering the info icon */\n",
              ".sk-estimator-doc-link span {\n",
              "  display: none;\n",
              "  z-index: 9999;\n",
              "  position: relative;\n",
              "  font-weight: normal;\n",
              "  right: .2ex;\n",
              "  padding: .5ex;\n",
              "  margin: .5ex;\n",
              "  width: min-content;\n",
              "  min-width: 20ex;\n",
              "  max-width: 50ex;\n",
              "  color: var(--sklearn-color-text);\n",
              "  box-shadow: 2pt 2pt 4pt #999;\n",
              "  /* unfitted */\n",
              "  background: var(--sklearn-color-unfitted-level-0);\n",
              "  border: .5pt solid var(--sklearn-color-unfitted-level-3);\n",
              "}\n",
              "\n",
              ".sk-estimator-doc-link.fitted span {\n",
              "  /* fitted */\n",
              "  background: var(--sklearn-color-fitted-level-0);\n",
              "  border: var(--sklearn-color-fitted-level-3);\n",
              "}\n",
              "\n",
              ".sk-estimator-doc-link:hover span {\n",
              "  display: block;\n",
              "}\n",
              "\n",
              "/* \"?\"-specific style due to the `<a>` HTML tag */\n",
              "\n",
              "#sk-container-id-1 a.estimator_doc_link {\n",
              "  float: right;\n",
              "  font-size: 1rem;\n",
              "  line-height: 1em;\n",
              "  font-family: monospace;\n",
              "  background-color: var(--sklearn-color-background);\n",
              "  border-radius: 1rem;\n",
              "  height: 1rem;\n",
              "  width: 1rem;\n",
              "  text-decoration: none;\n",
              "  /* unfitted */\n",
              "  color: var(--sklearn-color-unfitted-level-1);\n",
              "  border: var(--sklearn-color-unfitted-level-1) 1pt solid;\n",
              "}\n",
              "\n",
              "#sk-container-id-1 a.estimator_doc_link.fitted {\n",
              "  /* fitted */\n",
              "  border: var(--sklearn-color-fitted-level-1) 1pt solid;\n",
              "  color: var(--sklearn-color-fitted-level-1);\n",
              "}\n",
              "\n",
              "/* On hover */\n",
              "#sk-container-id-1 a.estimator_doc_link:hover {\n",
              "  /* unfitted */\n",
              "  background-color: var(--sklearn-color-unfitted-level-3);\n",
              "  color: var(--sklearn-color-background);\n",
              "  text-decoration: none;\n",
              "}\n",
              "\n",
              "#sk-container-id-1 a.estimator_doc_link.fitted:hover {\n",
              "  /* fitted */\n",
              "  background-color: var(--sklearn-color-fitted-level-3);\n",
              "}\n",
              "</style><div id=\"sk-container-id-1\" class=\"sk-top-container\"><div class=\"sk-text-repr-fallback\"><pre>LogisticAT(alpha=0)</pre><b>In a Jupyter environment, please rerun this cell to show the HTML representation or trust the notebook. <br />On GitHub, the HTML representation is unable to render, please try loading this page with nbviewer.org.</b></div><div class=\"sk-container\" hidden><div class=\"sk-item\"><div class=\"sk-estimator fitted sk-toggleable\"><input class=\"sk-toggleable__control sk-hidden--visually\" id=\"sk-estimator-id-1\" type=\"checkbox\" checked><label for=\"sk-estimator-id-1\" class=\"sk-toggleable__label fitted sk-toggleable__label-arrow\"><div><div>LogisticAT</div></div><div><span class=\"sk-estimator-doc-link fitted\">i<span>Fitted</span></span></div></label><div class=\"sk-toggleable__content fitted\"><pre>LogisticAT(alpha=0)</pre></div> </div></div></div></div>"
            ]
          },
          "metadata": {},
          "execution_count": 33
        }
      ]
    },
    {
      "cell_type": "code",
      "source": [
        "at_model_pred = at_model.predict(x_test)"
      ],
      "metadata": {
        "id": "Z1yvJj2YQOqO"
      },
      "execution_count": null,
      "outputs": []
    },
    {
      "cell_type": "code",
      "source": [
        "at_model_acc = accuracy_score(y_test, at_model_pred)\n",
        "at_model_acc"
      ],
      "metadata": {
        "colab": {
          "base_uri": "https://localhost:8080/"
        },
        "id": "li0QbYZaQOna",
        "outputId": "d1a1a8fe-2f36-4455-93be-83ea82d95774"
      },
      "execution_count": null,
      "outputs": [
        {
          "output_type": "execute_result",
          "data": {
            "text/plain": [
              "0.7594221105527639"
            ]
          },
          "metadata": {},
          "execution_count": 35
        }
      ]
    },
    {
      "cell_type": "code",
      "source": [],
      "metadata": {
        "colab": {
          "base_uri": "https://localhost:8080/"
        },
        "id": "mfA4WRs4R-Cm",
        "outputId": "0566f551-1fa1-4bb3-ab90-ee515dc5bfda"
      },
      "execution_count": null,
      "outputs": [
        {
          "output_type": "execute_result",
          "data": {
            "text/plain": [
              "(1592,)"
            ]
          },
          "metadata": {},
          "execution_count": 37
        }
      ]
    },
    {
      "cell_type": "code",
      "source": [
        "from sklearn.metrics import confusion_matrix\n",
        "import seaborn as sns\n",
        "import matplotlib.pyplot as plt\n",
        "\n",
        "cm = confusion_matrix(y_test, at_model_pred)\n",
        "plt.figure(figsize=(8, 6))\n",
        "sns.heatmap(cm, annot=True, fmt='d', cmap='Blues',\n",
        "            xticklabels=['Slight', 'Serious', 'Fatal'],\n",
        "            yticklabels=['Slight', 'Serious', 'Fatal'])\n",
        "plt.xlabel('Predicted')\n",
        "plt.ylabel('Actual')\n",
        "plt.title('Confusion Matrix for Ordinal Logistic Regression')\n",
        "plt.show()\n"
      ],
      "metadata": {
        "colab": {
          "base_uri": "https://localhost:8080/",
          "height": 564
        },
        "id": "crET1Gw1SCgM",
        "outputId": "6eb610af-462a-48df-c0c3-c43d9c6f4df8"
      },
      "execution_count": null,
      "outputs": [
        {
          "output_type": "display_data",
          "data": {
            "text/plain": [
              "<Figure size 800x600 with 2 Axes>"
            ],
            "image/png": "[encoded data removed]"
          },
          "metadata": {}
        }
      ]
    },
    {
      "cell_type": "code",
      "source": [
        "#confusion matrix for at model\n",
        "sns.heatmap(confusion_matrix(y_test, at_model_pred), annot=True, fmt='d')"
      ],
      "metadata": {
        "colab": {
          "base_uri": "https://localhost:8080/",
          "height": 447
        },
        "id": "HGuUcBLiQOku",
        "outputId": "87301443-e5e8-492e-d0f9-9a446b917a64"
      },
      "execution_count": null,
      "outputs": [
        {
          "output_type": "execute_result",
          "data": {
            "text/plain": [
              "<Axes: >"
            ]
          },
          "metadata": {},
          "execution_count": 41
        },
        {
          "output_type": "display_data",
          "data": {
            "text/plain": [
              "<Figure size 640x480 with 2 Axes>"
            ],
            "image/png": "[encoded data removed]"
          },
          "metadata": {}
        }
      ]
    },
    {
      "cell_type": "markdown",
      "source": [
        "multinomial logistic"
      ],
      "metadata": {
        "id": "9iG8_7v9QlId"
      }
    },
    {
      "cell_type": "code",
      "source": [
        "logreg = LogisticRegression(multi_class='multinomial', solver='saga', max_iter=1000)"
      ],
      "metadata": {
        "id": "zVecxChMQm8g"
      },
      "execution_count": null,
      "outputs": []
    },
    {
      "cell_type": "code",
      "source": [
        "logreg.fit(predictors, target)"
      ],
      "metadata": {
        "colab": {
          "base_uri": "https://localhost:8080/",
          "height": 135
        },
        "id": "iNWCm8MHQOei",
        "outputId": "7bb71eb8-8eff-4174-eb69-1ebf55c55675"
      },
      "execution_count": null,
      "outputs": [
        {
          "output_type": "stream",
          "name": "stderr",
          "text": [
            "/usr/local/lib/python3.11/dist-packages/sklearn/linear_model/_logistic.py:1247: FutureWarning: 'multi_class' was deprecated in version 1.5 and will be removed in 1.7. From then on, it will always use 'multinomial'. Leave it to its default value to avoid this warning.\n",
            "  warnings.warn(\n"
          ]
        },
        {
          "output_type": "execute_result",
          "data": {
            "text/plain": [
              "LogisticRegression(max_iter=1000, multi_class='multinomial', solver='saga')"
            ],
            "text/html": [
              "<style>#sk-container-id-3 {\n",
              "  /* Definition of color scheme common for light and dark mode */\n",
              "  --sklearn-color-text: #000;\n",
              "  --sklearn-color-text-muted: #666;\n",
              "  --sklearn-color-line: gray;\n",
              "  /* Definition of color scheme for unfitted estimators */\n",
              "  --sklearn-color-unfitted-level-0: #fff5e6;\n",
              "  --sklearn-color-unfitted-level-1: #f6e4d2;\n",
              "  --sklearn-color-unfitted-level-2: #ffe0b3;\n",
              "  --sklearn-color-unfitted-level-3: chocolate;\n",
              "  /* Definition of color scheme for fitted estimators */\n",
              "  --sklearn-color-fitted-level-0: #f0f8ff;\n",
              "  --sklearn-color-fitted-level-1: #d4ebff;\n",
              "  --sklearn-color-fitted-level-2: #b3dbfd;\n",
              "  --sklearn-color-fitted-level-3: cornflowerblue;\n",
              "\n",
              "  /* Specific color for light theme */\n",
              "  --sklearn-color-text-on-default-background: var(--sg-text-color, var(--theme-code-foreground, var(--jp-content-font-color1, black)));\n",
              "  --sklearn-color-background: var(--sg-background-color, var(--theme-background, var(--jp-layout-color0, white)));\n",
              "  --sklearn-color-border-box: var(--sg-text-color, var(--theme-code-foreground, var(--jp-content-font-color1, black)));\n",
              "  --sklearn-color-icon: #696969;\n",
              "\n",
              "  @media (prefers-color-scheme: dark) {\n",
              "    /* Redefinition of color scheme for dark theme */\n",
              "    --sklearn-color-text-on-default-background: var(--sg-text-color, var(--theme-code-foreground, var(--jp-content-font-color1, white)));\n",
              "    --sklearn-color-background: var(--sg-background-color, var(--theme-background, var(--jp-layout-color0, #111)));\n",
              "    --sklearn-color-border-box: var(--sg-text-color, var(--theme-code-foreground, var(--jp-content-font-color1, white)));\n",
              "    --sklearn-color-icon: #878787;\n",
              "  }\n",
              "}\n",
              "\n",
              "#sk-container-id-3 {\n",
              "  color: var(--sklearn-color-text);\n",
              "}\n",
              "\n",
              "#sk-container-id-3 pre {\n",
              "  padding: 0;\n",
              "}\n",
              "\n",
              "#sk-container-id-3 input.sk-hidden--visually {\n",
              "  border: 0;\n",
              "  clip: rect(1px 1px 1px 1px);\n",
              "  clip: rect(1px, 1px, 1px, 1px);\n",
              "  height: 1px;\n",
              "  margin: -1px;\n",
              "  overflow: hidden;\n",
              "  padding: 0;\n",
              "  position: absolute;\n",
              "  width: 1px;\n",
              "}\n",
              "\n",
              "#sk-container-id-3 div.sk-dashed-wrapped {\n",
              "  border: 1px dashed var(--sklearn-color-line);\n",
              "  margin: 0 0.4em 0.5em 0.4em;\n",
              "  box-sizing: border-box;\n",
              "  padding-bottom: 0.4em;\n",
              "  background-color: var(--sklearn-color-background);\n",
              "}\n",
              "\n",
              "#sk-container-id-3 div.sk-container {\n",
              "  /* jupyter's `normalize.less` sets `[hidden] { display: none; }`\n",
              "     but bootstrap.min.css set `[hidden] { display: none !important; }`\n",
              "     so we also need the `!important` here to be able to override the\n",
              "     default hidden behavior on the sphinx rendered scikit-learn.org.\n",
              "     See: https://github.com/scikit-learn/scikit-learn/issues/21755 */\n",
              "  display: inline-block !important;\n",
              "  position: relative;\n",
              "}\n",
              "\n",
              "#sk-container-id-3 div.sk-text-repr-fallback {\n",
              "  display: none;\n",
              "}\n",
              "\n",
              "div.sk-parallel-item,\n",
              "div.sk-serial,\n",
              "div.sk-item {\n",
              "  /* draw centered vertical line to link estimators */\n",
              "  background-image: linear-gradient(var(--sklearn-color-text-on-default-background), var(--sklearn-color-text-on-default-background));\n",
              "  background-size: 2px 100%;\n",
              "  background-repeat: no-repeat;\n",
              "  background-position: center center;\n",
              "}\n",
              "\n",
              "/* Parallel-specific style estimator block */\n",
              "\n",
              "#sk-container-id-3 div.sk-parallel-item::after {\n",
              "  content: \"\";\n",
              "  width: 100%;\n",
              "  border-bottom: 2px solid var(--sklearn-color-text-on-default-background);\n",
              "  flex-grow: 1;\n",
              "}\n",
              "\n",
              "#sk-container-id-3 div.sk-parallel {\n",
              "  display: flex;\n",
              "  align-items: stretch;\n",
              "  justify-content: center;\n",
              "  background-color: var(--sklearn-color-background);\n",
              "  position: relative;\n",
              "}\n",
              "\n",
              "#sk-container-id-3 div.sk-parallel-item {\n",
              "  display: flex;\n",
              "  flex-direction: column;\n",
              "}\n",
              "\n",
              "#sk-container-id-3 div.sk-parallel-item:first-child::after {\n",
              "  align-self: flex-end;\n",
              "  width: 50%;\n",
              "}\n",
              "\n",
              "#sk-container-id-3 div.sk-parallel-item:last-child::after {\n",
              "  align-self: flex-start;\n",
              "  width: 50%;\n",
              "}\n",
              "\n",
              "#sk-container-id-3 div.sk-parallel-item:only-child::after {\n",
              "  width: 0;\n",
              "}\n",
              "\n",
              "/* Serial-specific style estimator block */\n",
              "\n",
              "#sk-container-id-3 div.sk-serial {\n",
              "  display: flex;\n",
              "  flex-direction: column;\n",
              "  align-items: center;\n",
              "  background-color: var(--sklearn-color-background);\n",
              "  padding-right: 1em;\n",
              "  padding-left: 1em;\n",
              "}\n",
              "\n",
              "\n",
              "/* Toggleable style: style used for estimator/Pipeline/ColumnTransformer box that is\n",
              "clickable and can be expanded/collapsed.\n",
              "- Pipeline and ColumnTransformer use this feature and define the default style\n",
              "- Estimators will overwrite some part of the style using the `sk-estimator` class\n",
              "*/\n",
              "\n",
              "/* Pipeline and ColumnTransformer style (default) */\n",
              "\n",
              "#sk-container-id-3 div.sk-toggleable {\n",
              "  /* Default theme specific background. It is overwritten whether we have a\n",
              "  specific estimator or a Pipeline/ColumnTransformer */\n",
              "  background-color: var(--sklearn-color-background);\n",
              "}\n",
              "\n",
              "/* Toggleable label */\n",
              "#sk-container-id-3 label.sk-toggleable__label {\n",
              "  cursor: pointer;\n",
              "  display: flex;\n",
              "  width: 100%;\n",
              "  margin-bottom: 0;\n",
              "  padding: 0.5em;\n",
              "  box-sizing: border-box;\n",
              "  text-align: center;\n",
              "  align-items: start;\n",
              "  justify-content: space-between;\n",
              "  gap: 0.5em;\n",
              "}\n",
              "\n",
              "#sk-container-id-3 label.sk-toggleable__label .caption {\n",
              "  font-size: 0.6rem;\n",
              "  font-weight: lighter;\n",
              "  color: var(--sklearn-color-text-muted);\n",
              "}\n",
              "\n",
              "#sk-container-id-3 label.sk-toggleable__label-arrow:before {\n",
              "  /* Arrow on the left of the label */\n",
              "  content: \"▸\";\n",
              "  float: left;\n",
              "  margin-right: 0.25em;\n",
              "  color: var(--sklearn-color-icon);\n",
              "}\n",
              "\n",
              "#sk-container-id-3 label.sk-toggleable__label-arrow:hover:before {\n",
              "  color: var(--sklearn-color-text);\n",
              "}\n",
              "\n",
              "/* Toggleable content - dropdown */\n",
              "\n",
              "#sk-container-id-3 div.sk-toggleable__content {\n",
              "  max-height: 0;\n",
              "  max-width: 0;\n",
              "  overflow: hidden;\n",
              "  text-align: left;\n",
              "  /* unfitted */\n",
              "  background-color: var(--sklearn-color-unfitted-level-0);\n",
              "}\n",
              "\n",
              "#sk-container-id-3 div.sk-toggleable__content.fitted {\n",
              "  /* fitted */\n",
              "  background-color: var(--sklearn-color-fitted-level-0);\n",
              "}\n",
              "\n",
              "#sk-container-id-3 div.sk-toggleable__content pre {\n",
              "  margin: 0.2em;\n",
              "  border-radius: 0.25em;\n",
              "  color: var(--sklearn-color-text);\n",
              "  /* unfitted */\n",
              "  background-color: var(--sklearn-color-unfitted-level-0);\n",
              "}\n",
              "\n",
              "#sk-container-id-3 div.sk-toggleable__content.fitted pre {\n",
              "  /* unfitted */\n",
              "  background-color: var(--sklearn-color-fitted-level-0);\n",
              "}\n",
              "\n",
              "#sk-container-id-3 input.sk-toggleable__control:checked~div.sk-toggleable__content {\n",
              "  /* Expand drop-down */\n",
              "  max-height: 200px;\n",
              "  max-width: 100%;\n",
              "  overflow: auto;\n",
              "}\n",
              "\n",
              "#sk-container-id-3 input.sk-toggleable__control:checked~label.sk-toggleable__label-arrow:before {\n",
              "  content: \"▾\";\n",
              "}\n",
              "\n",
              "/* Pipeline/ColumnTransformer-specific style */\n",
              "\n",
              "#sk-container-id-3 div.sk-label input.sk-toggleable__control:checked~label.sk-toggleable__label {\n",
              "  color: var(--sklearn-color-text);\n",
              "  background-color: var(--sklearn-color-unfitted-level-2);\n",
              "}\n",
              "\n",
              "#sk-container-id-3 div.sk-label.fitted input.sk-toggleable__control:checked~label.sk-toggleable__label {\n",
              "  background-color: var(--sklearn-color-fitted-level-2);\n",
              "}\n",
              "\n",
              "/* Estimator-specific style */\n",
              "\n",
              "/* Colorize estimator box */\n",
              "#sk-container-id-3 div.sk-estimator input.sk-toggleable__control:checked~label.sk-toggleable__label {\n",
              "  /* unfitted */\n",
              "  background-color: var(--sklearn-color-unfitted-level-2);\n",
              "}\n",
              "\n",
              "#sk-container-id-3 div.sk-estimator.fitted input.sk-toggleable__control:checked~label.sk-toggleable__label {\n",
              "  /* fitted */\n",
              "  background-color: var(--sklearn-color-fitted-level-2);\n",
              "}\n",
              "\n",
              "#sk-container-id-3 div.sk-label label.sk-toggleable__label,\n",
              "#sk-container-id-3 div.sk-label label {\n",
              "  /* The background is the default theme color */\n",
              "  color: var(--sklearn-color-text-on-default-background);\n",
              "}\n",
              "\n",
              "/* On hover, darken the color of the background */\n",
              "#sk-container-id-3 div.sk-label:hover label.sk-toggleable__label {\n",
              "  color: var(--sklearn-color-text);\n",
              "  background-color: var(--sklearn-color-unfitted-level-2);\n",
              "}\n",
              "\n",
              "/* Label box, darken color on hover, fitted */\n",
              "#sk-container-id-3 div.sk-label.fitted:hover label.sk-toggleable__label.fitted {\n",
              "  color: var(--sklearn-color-text);\n",
              "  background-color: var(--sklearn-color-fitted-level-2);\n",
              "}\n",
              "\n",
              "/* Estimator label */\n",
              "\n",
              "#sk-container-id-3 div.sk-label label {\n",
              "  font-family: monospace;\n",
              "  font-weight: bold;\n",
              "  display: inline-block;\n",
              "  line-height: 1.2em;\n",
              "}\n",
              "\n",
              "#sk-container-id-3 div.sk-label-container {\n",
              "  text-align: center;\n",
              "}\n",
              "\n",
              "/* Estimator-specific */\n",
              "#sk-container-id-3 div.sk-estimator {\n",
              "  font-family: monospace;\n",
              "  border: 1px dotted var(--sklearn-color-border-box);\n",
              "  border-radius: 0.25em;\n",
              "  box-sizing: border-box;\n",
              "  margin-bottom: 0.5em;\n",
              "  /* unfitted */\n",
              "  background-color: var(--sklearn-color-unfitted-level-0);\n",
              "}\n",
              "\n",
              "#sk-container-id-3 div.sk-estimator.fitted {\n",
              "  /* fitted */\n",
              "  background-color: var(--sklearn-color-fitted-level-0);\n",
              "}\n",
              "\n",
              "/* on hover */\n",
              "#sk-container-id-3 div.sk-estimator:hover {\n",
              "  /* unfitted */\n",
              "  background-color: var(--sklearn-color-unfitted-level-2);\n",
              "}\n",
              "\n",
              "#sk-container-id-3 div.sk-estimator.fitted:hover {\n",
              "  /* fitted */\n",
              "  background-color: var(--sklearn-color-fitted-level-2);\n",
              "}\n",
              "\n",
              "/* Specification for estimator info (e.g. \"i\" and \"?\") */\n",
              "\n",
              "/* Common style for \"i\" and \"?\" */\n",
              "\n",
              ".sk-estimator-doc-link,\n",
              "a:link.sk-estimator-doc-link,\n",
              "a:visited.sk-estimator-doc-link {\n",
              "  float: right;\n",
              "  font-size: smaller;\n",
              "  line-height: 1em;\n",
              "  font-family: monospace;\n",
              "  background-color: var(--sklearn-color-background);\n",
              "  border-radius: 1em;\n",
              "  height: 1em;\n",
              "  width: 1em;\n",
              "  text-decoration: none !important;\n",
              "  margin-left: 0.5em;\n",
              "  text-align: center;\n",
              "  /* unfitted */\n",
              "  border: var(--sklearn-color-unfitted-level-1) 1pt solid;\n",
              "  color: var(--sklearn-color-unfitted-level-1);\n",
              "}\n",
              "\n",
              ".sk-estimator-doc-link.fitted,\n",
              "a:link.sk-estimator-doc-link.fitted,\n",
              "a:visited.sk-estimator-doc-link.fitted {\n",
              "  /* fitted */\n",
              "  border: var(--sklearn-color-fitted-level-1) 1pt solid;\n",
              "  color: var(--sklearn-color-fitted-level-1);\n",
              "}\n",
              "\n",
              "/* On hover */\n",
              "div.sk-estimator:hover .sk-estimator-doc-link:hover,\n",
              ".sk-estimator-doc-link:hover,\n",
              "div.sk-label-container:hover .sk-estimator-doc-link:hover,\n",
              ".sk-estimator-doc-link:hover {\n",
              "  /* unfitted */\n",
              "  background-color: var(--sklearn-color-unfitted-level-3);\n",
              "  color: var(--sklearn-color-background);\n",
              "  text-decoration: none;\n",
              "}\n",
              "\n",
              "div.sk-estimator.fitted:hover .sk-estimator-doc-link.fitted:hover,\n",
              ".sk-estimator-doc-link.fitted:hover,\n",
              "div.sk-label-container:hover .sk-estimator-doc-link.fitted:hover,\n",
              ".sk-estimator-doc-link.fitted:hover {\n",
              "  /* fitted */\n",
              "  background-color: var(--sklearn-color-fitted-level-3);\n",
              "  color: var(--sklearn-color-background);\n",
              "  text-decoration: none;\n",
              "}\n",
              "\n",
              "/* Span, style for the box shown on hovering the info icon */\n",
              ".sk-estimator-doc-link span {\n",
              "  display: none;\n",
              "  z-index: 9999;\n",
              "  position: relative;\n",
              "  font-weight: normal;\n",
              "  right: .2ex;\n",
              "  padding: .5ex;\n",
              "  margin: .5ex;\n",
              "  width: min-content;\n",
              "  min-width: 20ex;\n",
              "  max-width: 50ex;\n",
              "  color: var(--sklearn-color-text);\n",
              "  box-shadow: 2pt 2pt 4pt #999;\n",
              "  /* unfitted */\n",
              "  background: var(--sklearn-color-unfitted-level-0);\n",
              "  border: .5pt solid var(--sklearn-color-unfitted-level-3);\n",
              "}\n",
              "\n",
              ".sk-estimator-doc-link.fitted span {\n",
              "  /* fitted */\n",
              "  background: var(--sklearn-color-fitted-level-0);\n",
              "  border: var(--sklearn-color-fitted-level-3);\n",
              "}\n",
              "\n",
              ".sk-estimator-doc-link:hover span {\n",
              "  display: block;\n",
              "}\n",
              "\n",
              "/* \"?\"-specific style due to the `<a>` HTML tag */\n",
              "\n",
              "#sk-container-id-3 a.estimator_doc_link {\n",
              "  float: right;\n",
              "  font-size: 1rem;\n",
              "  line-height: 1em;\n",
              "  font-family: monospace;\n",
              "  background-color: var(--sklearn-color-background);\n",
              "  border-radius: 1rem;\n",
              "  height: 1rem;\n",
              "  width: 1rem;\n",
              "  text-decoration: none;\n",
              "  /* unfitted */\n",
              "  color: var(--sklearn-color-unfitted-level-1);\n",
              "  border: var(--sklearn-color-unfitted-level-1) 1pt solid;\n",
              "}\n",
              "\n",
              "#sk-container-id-3 a.estimator_doc_link.fitted {\n",
              "  /* fitted */\n",
              "  border: var(--sklearn-color-fitted-level-1) 1pt solid;\n",
              "  color: var(--sklearn-color-fitted-level-1);\n",
              "}\n",
              "\n",
              "/* On hover */\n",
              "#sk-container-id-3 a.estimator_doc_link:hover {\n",
              "  /* unfitted */\n",
              "  background-color: var(--sklearn-color-unfitted-level-3);\n",
              "  color: var(--sklearn-color-background);\n",
              "  text-decoration: none;\n",
              "}\n",
              "\n",
              "#sk-container-id-3 a.estimator_doc_link.fitted:hover {\n",
              "  /* fitted */\n",
              "  background-color: var(--sklearn-color-fitted-level-3);\n",
              "}\n",
              "</style><div id=\"sk-container-id-3\" class=\"sk-top-container\"><div class=\"sk-text-repr-fallback\"><pre>LogisticRegression(max_iter=1000, multi_class=&#x27;multinomial&#x27;, solver=&#x27;saga&#x27;)</pre><b>In a Jupyter environment, please rerun this cell to show the HTML representation or trust the notebook. <br />On GitHub, the HTML representation is unable to render, please try loading this page with nbviewer.org.</b></div><div class=\"sk-container\" hidden><div class=\"sk-item\"><div class=\"sk-estimator fitted sk-toggleable\"><input class=\"sk-toggleable__control sk-hidden--visually\" id=\"sk-estimator-id-3\" type=\"checkbox\" checked><label for=\"sk-estimator-id-3\" class=\"sk-toggleable__label fitted sk-toggleable__label-arrow\"><div><div>LogisticRegression</div></div><div><a class=\"sk-estimator-doc-link fitted\" rel=\"noreferrer\" target=\"_blank\" href=\"https://scikit-learn.org/1.6/modules/generated/sklearn.linear_model.LogisticRegression.html\">?<span>Documentation for LogisticRegression</span></a><span class=\"sk-estimator-doc-link fitted\">i<span>Fitted</span></span></div></label><div class=\"sk-toggleable__content fitted\"><pre>LogisticRegression(max_iter=1000, multi_class=&#x27;multinomial&#x27;, solver=&#x27;saga&#x27;)</pre></div> </div></div></div></div>"
            ]
          },
          "metadata": {},
          "execution_count": 121
        }
      ]
    },
    {
      "cell_type": "code",
      "source": [
        "logreg_pred = logreg.predict(x_test)"
      ],
      "metadata": {
        "id": "7iVV0ipRQOSu"
      },
      "execution_count": null,
      "outputs": []
    },
    {
      "cell_type": "code",
      "source": [
        "logreg_acc = accuracy_score(y_test, logreg_pred)\n",
        "logreg_acc"
      ],
      "metadata": {
        "colab": {
          "base_uri": "https://localhost:8080/"
        },
        "id": "TBVsUT1lQr8k",
        "outputId": "4e44bb02-c891-4f49-bc94-b750792bdbf3"
      },
      "execution_count": null,
      "outputs": [
        {
          "output_type": "execute_result",
          "data": {
            "text/plain": [
              "0.8096733668341709"
            ]
          },
          "metadata": {},
          "execution_count": 123
        }
      ]
    },
    {
      "cell_type": "code",
      "source": [
        "sns.heatmap(pd.crosstab(y_test, logreg_pred, rownames=['Actual'], colnames=['Predicted']), annot=True, fmt='d')"
      ],
      "metadata": {
        "colab": {
          "base_uri": "https://localhost:8080/",
          "height": 466
        },
        "id": "qClDhCa-QrvC",
        "outputId": "af16ba62-c42c-4ba2-ddf5-27512edcf912"
      },
      "execution_count": null,
      "outputs": [
        {
          "output_type": "execute_result",
          "data": {
            "text/plain": [
              "<Axes: xlabel='Predicted', ylabel='Actual'>"
            ]
          },
          "metadata": {},
          "execution_count": 124
        },
        {
          "output_type": "display_data",
          "data": {
            "text/plain": [
              "<Figure size 640x480 with 2 Axes>"
            ],
            "image/png": "[encoded data removed]"
          },
          "metadata": {}
        }
      ]
    },
    {
      "cell_type": "markdown",
      "source": [
        "neural network"
      ],
      "metadata": {
        "id": "gNJ52mtYRQZD"
      }
    },
    {
      "cell_type": "code",
      "source": [
        "import tensorflow as tf\n",
        "from tensorflow import keras"
      ],
      "metadata": {
        "id": "dq4mtc-_RUBt"
      },
      "execution_count": null,
      "outputs": []
    },
    {
      "cell_type": "code",
      "source": [
        "model = keras.Sequential([\n",
        "    keras.layers.Dense(128, input_shape=(predictors.shape[1],), activation='relu'),\n",
        "    keras.layers.Dense(64, activation='relu'),\n",
        "    keras.layers.Dense(3, activation='softmax')\n",
        "])\n",
        "model.compile(optimizer='adam', loss='sparse_categorical_crossentropy', metrics=['accuracy'])"
      ],
      "metadata": {
        "colab": {
          "base_uri": "https://localhost:8080/"
        },
        "id": "Au_YdG8qRT-M",
        "outputId": "1c705130-7014-4332-a8ef-da11332ea15b"
      },
      "execution_count": null,
      "outputs": [
        {
          "output_type": "stream",
          "name": "stderr",
          "text": [
            "/usr/local/lib/python3.11/dist-packages/keras/src/layers/core/dense.py:87: UserWarning: Do not pass an `input_shape`/`input_dim` argument to a layer. When using Sequential models, prefer using an `Input(shape)` object as the first layer in the model instead.\n",
            "  super().__init__(activity_regularizer=activity_regularizer, **kwargs)\n"
          ]
        }
      ]
    },
    {
      "cell_type": "code",
      "source": [
        "tf.keras.backend.clear_session()"
      ],
      "metadata": {
        "id": "d2fT8foOT5GR"
      },
      "execution_count": null,
      "outputs": []
    },
    {
      "cell_type": "code",
      "source": [
        "model.fit(predictors, target, epochs=25, validation_split=0.2)"
      ],
      "metadata": {
        "colab": {
          "base_uri": "https://localhost:8080/"
        },
        "id": "JY3auNn8Qrrs",
        "outputId": "85f65e77-22fa-4bba-97bc-ed305307a4cc"
      },
      "execution_count": null,
      "outputs": [
        {
          "output_type": "stream",
          "name": "stdout",
          "text": [
            "Epoch 1/25\n",
            "\u001b[1m234/234\u001b[0m \u001b[32m━━━━━━━━━━━━━━━━━━━━\u001b[0m\u001b[37m\u001b[0m \u001b[1m5s\u001b[0m 8ms/step - accuracy: 0.6214 - loss: 0.8109 - val_accuracy: 0.5936 - val_loss: 0.7669\n",
            "Epoch 2/25\n",
            "\u001b[1m234/234\u001b[0m \u001b[32m━━━━━━━━━━━━━━━━━━━━\u001b[0m\u001b[37m\u001b[0m \u001b[1m2s\u001b[0m 7ms/step - accuracy: 0.8163 - loss: 0.4759 - val_accuracy: 0.7733 - val_loss: 0.4487\n",
            "Epoch 3/25\n",
            "\u001b[1m234/234\u001b[0m \u001b[32m━━━━━━━━━━━━━━━━━━━━\u001b[0m\u001b[37m\u001b[0m \u001b[1m3s\u001b[0m 10ms/step - accuracy: 0.8399 - loss: 0.4112 - val_accuracy: 0.7984 - val_loss: 0.4362\n",
            "Epoch 4/25\n",
            "\u001b[1m234/234\u001b[0m \u001b[32m━━━━━━━━━━━━━━━━━━━━\u001b[0m\u001b[37m\u001b[0m \u001b[1m1s\u001b[0m 3ms/step - accuracy: 0.8618 - loss: 0.3628 - val_accuracy: 0.9102 - val_loss: 0.2683\n",
            "Epoch 5/25\n",
            "\u001b[1m234/234\u001b[0m \u001b[32m━━━━━━━━━━━━━━━━━━━━\u001b[0m\u001b[37m\u001b[0m \u001b[1m1s\u001b[0m 3ms/step - accuracy: 0.8746 - loss: 0.3297 - val_accuracy: 0.8080 - val_loss: 0.3881\n",
            "Epoch 6/25\n",
            "\u001b[1m234/234\u001b[0m \u001b[32m━━━━━━━━━━━━━━━━━━━━\u001b[0m\u001b[37m\u001b[0m \u001b[1m1s\u001b[0m 3ms/step - accuracy: 0.8934 - loss: 0.2897 - val_accuracy: 0.9246 - val_loss: 0.2061\n",
            "Epoch 7/25\n",
            "\u001b[1m234/234\u001b[0m \u001b[32m━━━━━━━━━━━━━━━━━━━━\u001b[0m\u001b[37m\u001b[0m \u001b[1m1s\u001b[0m 3ms/step - accuracy: 0.8893 - loss: 0.2879 - val_accuracy: 0.8754 - val_loss: 0.2777\n",
            "Epoch 8/25\n",
            "\u001b[1m234/234\u001b[0m \u001b[32m━━━━━━━━━━━━━━━━━━━━\u001b[0m\u001b[37m\u001b[0m \u001b[1m1s\u001b[0m 3ms/step - accuracy: 0.9027 - loss: 0.2505 - val_accuracy: 0.8765 - val_loss: 0.2896\n",
            "Epoch 9/25\n",
            "\u001b[1m234/234\u001b[0m \u001b[32m━━━━━━━━━━━━━━━━━━━━\u001b[0m\u001b[37m\u001b[0m \u001b[1m1s\u001b[0m 4ms/step - accuracy: 0.9167 - loss: 0.2299 - val_accuracy: 0.9032 - val_loss: 0.2313\n",
            "Epoch 10/25\n",
            "\u001b[1m234/234\u001b[0m \u001b[32m━━━━━━━━━━━━━━━━━━━━\u001b[0m\u001b[37m\u001b[0m \u001b[1m1s\u001b[0m 3ms/step - accuracy: 0.9205 - loss: 0.2160 - val_accuracy: 0.9759 - val_loss: 0.1095\n",
            "Epoch 11/25\n",
            "\u001b[1m234/234\u001b[0m \u001b[32m━━━━━━━━━━━━━━━━━━━━\u001b[0m\u001b[37m\u001b[0m \u001b[1m1s\u001b[0m 3ms/step - accuracy: 0.9300 - loss: 0.1951 - val_accuracy: 0.9690 - val_loss: 0.1101\n",
            "Epoch 12/25\n",
            "\u001b[1m234/234\u001b[0m \u001b[32m━━━━━━━━━━━━━━━━━━━━\u001b[0m\u001b[37m\u001b[0m \u001b[1m2s\u001b[0m 4ms/step - accuracy: 0.9337 - loss: 0.1810 - val_accuracy: 0.9535 - val_loss: 0.1234\n",
            "Epoch 13/25\n",
            "\u001b[1m234/234\u001b[0m \u001b[32m━━━━━━━━━━━━━━━━━━━━\u001b[0m\u001b[37m\u001b[0m \u001b[1m1s\u001b[0m 5ms/step - accuracy: 0.9434 - loss: 0.1635 - val_accuracy: 0.9727 - val_loss: 0.0888\n",
            "Epoch 14/25\n",
            "\u001b[1m234/234\u001b[0m \u001b[32m━━━━━━━━━━━━━━━━━━━━\u001b[0m\u001b[37m\u001b[0m \u001b[1m1s\u001b[0m 5ms/step - accuracy: 0.9432 - loss: 0.1588 - val_accuracy: 0.9834 - val_loss: 0.0690\n",
            "Epoch 15/25\n",
            "\u001b[1m234/234\u001b[0m \u001b[32m━━━━━━━━━━━━━━━━━━━━\u001b[0m\u001b[37m\u001b[0m \u001b[1m1s\u001b[0m 4ms/step - accuracy: 0.9470 - loss: 0.1417 - val_accuracy: 0.9711 - val_loss: 0.1008\n",
            "Epoch 16/25\n",
            "\u001b[1m234/234\u001b[0m \u001b[32m━━━━━━━━━━━━━━━━━━━━\u001b[0m\u001b[37m\u001b[0m \u001b[1m1s\u001b[0m 3ms/step - accuracy: 0.9549 - loss: 0.1251 - val_accuracy: 0.9358 - val_loss: 0.1709\n",
            "Epoch 17/25\n",
            "\u001b[1m234/234\u001b[0m \u001b[32m━━━━━━━━━━━━━━━━━━━━\u001b[0m\u001b[37m\u001b[0m \u001b[1m1s\u001b[0m 3ms/step - accuracy: 0.9596 - loss: 0.1186 - val_accuracy: 0.9487 - val_loss: 0.1415\n",
            "Epoch 18/25\n",
            "\u001b[1m234/234\u001b[0m \u001b[32m━━━━━━━━━━━━━━━━━━━━\u001b[0m\u001b[37m\u001b[0m \u001b[1m1s\u001b[0m 3ms/step - accuracy: 0.9617 - loss: 0.1093 - val_accuracy: 0.9487 - val_loss: 0.1437\n",
            "Epoch 19/25\n",
            "\u001b[1m234/234\u001b[0m \u001b[32m━━━━━━━━━━━━━━━━━━━━\u001b[0m\u001b[37m\u001b[0m \u001b[1m1s\u001b[0m 4ms/step - accuracy: 0.9634 - loss: 0.1035 - val_accuracy: 0.9738 - val_loss: 0.0935\n",
            "Epoch 20/25\n",
            "\u001b[1m234/234\u001b[0m \u001b[32m━━━━━━━━━━━━━━━━━━━━\u001b[0m\u001b[37m\u001b[0m \u001b[1m1s\u001b[0m 3ms/step - accuracy: 0.9674 - loss: 0.0932 - val_accuracy: 0.9578 - val_loss: 0.1029\n",
            "Epoch 21/25\n",
            "\u001b[1m234/234\u001b[0m \u001b[32m━━━━━━━━━━━━━━━━━━━━\u001b[0m\u001b[37m\u001b[0m \u001b[1m1s\u001b[0m 3ms/step - accuracy: 0.9710 - loss: 0.0882 - val_accuracy: 0.9952 - val_loss: 0.0274\n",
            "Epoch 22/25\n",
            "\u001b[1m234/234\u001b[0m \u001b[32m━━━━━━━━━━━━━━━━━━━━\u001b[0m\u001b[37m\u001b[0m \u001b[1m1s\u001b[0m 3ms/step - accuracy: 0.9734 - loss: 0.0840 - val_accuracy: 0.9626 - val_loss: 0.0926\n",
            "Epoch 23/25\n",
            "\u001b[1m234/234\u001b[0m \u001b[32m━━━━━━━━━━━━━━━━━━━━\u001b[0m\u001b[37m\u001b[0m \u001b[1m1s\u001b[0m 4ms/step - accuracy: 0.9773 - loss: 0.0704 - val_accuracy: 0.9786 - val_loss: 0.0737\n",
            "Epoch 24/25\n",
            "\u001b[1m234/234\u001b[0m \u001b[32m━━━━━━━━━━━━━━━━━━━━\u001b[0m\u001b[37m\u001b[0m \u001b[1m2s\u001b[0m 5ms/step - accuracy: 0.9789 - loss: 0.0672 - val_accuracy: 0.9642 - val_loss: 0.1031\n",
            "Epoch 25/25\n",
            "\u001b[1m234/234\u001b[0m \u001b[32m━━━━━━━━━━━━━━━━━━━━\u001b[0m\u001b[37m\u001b[0m \u001b[1m1s\u001b[0m 5ms/step - accuracy: 0.9812 - loss: 0.0618 - val_accuracy: 0.9813 - val_loss: 0.0513\n"
          ]
        },
        {
          "output_type": "execute_result",
          "data": {
            "text/plain": [
              "<keras.src.callbacks.history.History at 0x7fce3d222390>"
            ]
          },
          "metadata": {},
          "execution_count": 141
        }
      ]
    },
    {
      "cell_type": "code",
      "source": [
        "#plot the losses\n",
        "plt.plot(model.history.history['loss'])\n",
        "plt.plot(model.history.history['val_loss'])"
      ],
      "metadata": {
        "colab": {
          "base_uri": "https://localhost:8080/",
          "height": 451
        },
        "id": "3PhwS9E9Tugj",
        "outputId": "60067a2b-3f98-4f78-d6b2-917d6188da62"
      },
      "execution_count": null,
      "outputs": [
        {
          "output_type": "execute_result",
          "data": {
            "text/plain": [
              "[<matplotlib.lines.Line2D at 0x7fce41a6a150>]"
            ]
          },
          "metadata": {},
          "execution_count": 142
        },
        {
          "output_type": "display_data",
          "data": {
            "text/plain": [
              "<Figure size 640x480 with 1 Axes>"
            ],
            "image/png": "[encoded data removed]"
          },
          "metadata": {}
        }
      ]
    },
    {
      "cell_type": "code",
      "source": [
        "model_preds = model.predict(x_test)"
      ],
      "metadata": {
        "colab": {
          "base_uri": "https://localhost:8080/"
        },
        "id": "KFZw94csQrpL",
        "outputId": "2c432c43-73a6-4734-c87c-e548fd108f6e"
      },
      "execution_count": null,
      "outputs": [
        {
          "output_type": "stream",
          "name": "stdout",
          "text": [
            "\u001b[1m50/50\u001b[0m \u001b[32m━━━━━━━━━━━━━━━━━━━━\u001b[0m\u001b[37m\u001b[0m \u001b[1m0s\u001b[0m 2ms/step\n"
          ]
        }
      ]
    },
    {
      "cell_type": "code",
      "source": [
        "#model accuracy\n",
        "model_acc = accuracy_score(y_test, np.argmax(model_preds, axis=1))\n",
        "model_acc"
      ],
      "metadata": {
        "colab": {
          "base_uri": "https://localhost:8080/"
        },
        "id": "jHXj71rNSSTS",
        "outputId": "ccc27204-29bb-4378-d31b-0941c19e472f"
      },
      "execution_count": null,
      "outputs": [
        {
          "output_type": "execute_result",
          "data": {
            "text/plain": [
              "0.7644472361809045"
            ]
          },
          "metadata": {},
          "execution_count": 144
        }
      ]
    },
    {
      "cell_type": "code",
      "source": [
        "#confusion matrix\n",
        "sns.heatmap(pd.crosstab(y_test, np.argmax(model_preds, axis=1), rownames=['Actual'], colnames=['Predicted']), annot=True, fmt='d')"
      ],
      "metadata": {
        "colab": {
          "base_uri": "https://localhost:8080/",
          "height": 466
        },
        "id": "4tlbNCMpVTDn",
        "outputId": "487a74bd-0411-478a-de73-e718f74aa6d9"
      },
      "execution_count": null,
      "outputs": [
        {
          "output_type": "execute_result",
          "data": {
            "text/plain": [
              "<Axes: xlabel='Predicted', ylabel='Actual'>"
            ]
          },
          "metadata": {},
          "execution_count": 151
        },
        {
          "output_type": "display_data",
          "data": {
            "text/plain": [
              "<Figure size 640x480 with 2 Axes>"
            ],
            "image/png": "[encoded data removed]"
          },
          "metadata": {}
        }
      ]
    },
    {
      "cell_type": "markdown",
      "source": [
        "GBM\n",
        "\n",
        "\n",
        "\n",
        "\n",
        "\n",
        "\n",
        "\n",
        "\n",
        "\n",
        "\n",
        "\n",
        "\n",
        "\n",
        "\n",
        "\n",
        "\n",
        "\n",
        "\n",
        "\n",
        "\n",
        "\n"
      ],
      "metadata": {
        "id": "IGJTXwjoUugY"
      }
    },
    {
      "cell_type": "code",
      "source": [
        "from sklearn.ensemble import GradientBoostingRegressor\n",
        "from sklearn.ensemble import GradientBoostingClassifier\n",
        "from sklearn.metrics import mean_squared_error"
      ],
      "metadata": {
        "id": "EeWver8YUwft"
      },
      "execution_count": null,
      "outputs": []
    },
    {
      "cell_type": "code",
      "source": [
        "gbm = GradientBoostingClassifier(n_estimators=100, learning_rate=0.1, random_state=42)"
      ],
      "metadata": {
        "id": "l_64INcyUziC"
      },
      "execution_count": null,
      "outputs": []
    },
    {
      "cell_type": "code",
      "source": [
        "gbm.fit(predictors, target)"
      ],
      "metadata": {
        "colab": {
          "base_uri": "https://localhost:8080/",
          "height": 80
        },
        "id": "DtnAnhjJUzeI",
        "outputId": "82269e73-f474-41c8-e563-9dbd0e0aa2bb"
      },
      "execution_count": null,
      "outputs": [
        {
          "output_type": "execute_result",
          "data": {
            "text/plain": [
              "GradientBoostingClassifier(random_state=42)"
            ],
            "text/html": [
              "<style>#sk-container-id-1 {\n",
              "  /* Definition of color scheme common for light and dark mode */\n",
              "  --sklearn-color-text: #000;\n",
              "  --sklearn-color-text-muted: #666;\n",
              "  --sklearn-color-line: gray;\n",
              "  /* Definition of color scheme for unfitted estimators */\n",
              "  --sklearn-color-unfitted-level-0: #fff5e6;\n",
              "  --sklearn-color-unfitted-level-1: #f6e4d2;\n",
              "  --sklearn-color-unfitted-level-2: #ffe0b3;\n",
              "  --sklearn-color-unfitted-level-3: chocolate;\n",
              "  /* Definition of color scheme for fitted estimators */\n",
              "  --sklearn-color-fitted-level-0: #f0f8ff;\n",
              "  --sklearn-color-fitted-level-1: #d4ebff;\n",
              "  --sklearn-color-fitted-level-2: #b3dbfd;\n",
              "  --sklearn-color-fitted-level-3: cornflowerblue;\n",
              "\n",
              "  /* Specific color for light theme */\n",
              "  --sklearn-color-text-on-default-background: var(--sg-text-color, var(--theme-code-foreground, var(--jp-content-font-color1, black)));\n",
              "  --sklearn-color-background: var(--sg-background-color, var(--theme-background, var(--jp-layout-color0, white)));\n",
              "  --sklearn-color-border-box: var(--sg-text-color, var(--theme-code-foreground, var(--jp-content-font-color1, black)));\n",
              "  --sklearn-color-icon: #696969;\n",
              "\n",
              "  @media (prefers-color-scheme: dark) {\n",
              "    /* Redefinition of color scheme for dark theme */\n",
              "    --sklearn-color-text-on-default-background: var(--sg-text-color, var(--theme-code-foreground, var(--jp-content-font-color1, white)));\n",
              "    --sklearn-color-background: var(--sg-background-color, var(--theme-background, var(--jp-layout-color0, #111)));\n",
              "    --sklearn-color-border-box: var(--sg-text-color, var(--theme-code-foreground, var(--jp-content-font-color1, white)));\n",
              "    --sklearn-color-icon: #878787;\n",
              "  }\n",
              "}\n",
              "\n",
              "#sk-container-id-1 {\n",
              "  color: var(--sklearn-color-text);\n",
              "}\n",
              "\n",
              "#sk-container-id-1 pre {\n",
              "  padding: 0;\n",
              "}\n",
              "\n",
              "#sk-container-id-1 input.sk-hidden--visually {\n",
              "  border: 0;\n",
              "  clip: rect(1px 1px 1px 1px);\n",
              "  clip: rect(1px, 1px, 1px, 1px);\n",
              "  height: 1px;\n",
              "  margin: -1px;\n",
              "  overflow: hidden;\n",
              "  padding: 0;\n",
              "  position: absolute;\n",
              "  width: 1px;\n",
              "}\n",
              "\n",
              "#sk-container-id-1 div.sk-dashed-wrapped {\n",
              "  border: 1px dashed var(--sklearn-color-line);\n",
              "  margin: 0 0.4em 0.5em 0.4em;\n",
              "  box-sizing: border-box;\n",
              "  padding-bottom: 0.4em;\n",
              "  background-color: var(--sklearn-color-background);\n",
              "}\n",
              "\n",
              "#sk-container-id-1 div.sk-container {\n",
              "  /* jupyter's `normalize.less` sets `[hidden] { display: none; }`\n",
              "     but bootstrap.min.css set `[hidden] { display: none !important; }`\n",
              "     so we also need the `!important` here to be able to override the\n",
              "     default hidden behavior on the sphinx rendered scikit-learn.org.\n",
              "     See: https://github.com/scikit-learn/scikit-learn/issues/21755 */\n",
              "  display: inline-block !important;\n",
              "  position: relative;\n",
              "}\n",
              "\n",
              "#sk-container-id-1 div.sk-text-repr-fallback {\n",
              "  display: none;\n",
              "}\n",
              "\n",
              "div.sk-parallel-item,\n",
              "div.sk-serial,\n",
              "div.sk-item {\n",
              "  /* draw centered vertical line to link estimators */\n",
              "  background-image: linear-gradient(var(--sklearn-color-text-on-default-background), var(--sklearn-color-text-on-default-background));\n",
              "  background-size: 2px 100%;\n",
              "  background-repeat: no-repeat;\n",
              "  background-position: center center;\n",
              "}\n",
              "\n",
              "/* Parallel-specific style estimator block */\n",
              "\n",
              "#sk-container-id-1 div.sk-parallel-item::after {\n",
              "  content: \"\";\n",
              "  width: 100%;\n",
              "  border-bottom: 2px solid var(--sklearn-color-text-on-default-background);\n",
              "  flex-grow: 1;\n",
              "}\n",
              "\n",
              "#sk-container-id-1 div.sk-parallel {\n",
              "  display: flex;\n",
              "  align-items: stretch;\n",
              "  justify-content: center;\n",
              "  background-color: var(--sklearn-color-background);\n",
              "  position: relative;\n",
              "}\n",
              "\n",
              "#sk-container-id-1 div.sk-parallel-item {\n",
              "  display: flex;\n",
              "  flex-direction: column;\n",
              "}\n",
              "\n",
              "#sk-container-id-1 div.sk-parallel-item:first-child::after {\n",
              "  align-self: flex-end;\n",
              "  width: 50%;\n",
              "}\n",
              "\n",
              "#sk-container-id-1 div.sk-parallel-item:last-child::after {\n",
              "  align-self: flex-start;\n",
              "  width: 50%;\n",
              "}\n",
              "\n",
              "#sk-container-id-1 div.sk-parallel-item:only-child::after {\n",
              "  width: 0;\n",
              "}\n",
              "\n",
              "/* Serial-specific style estimator block */\n",
              "\n",
              "#sk-container-id-1 div.sk-serial {\n",
              "  display: flex;\n",
              "  flex-direction: column;\n",
              "  align-items: center;\n",
              "  background-color: var(--sklearn-color-background);\n",
              "  padding-right: 1em;\n",
              "  padding-left: 1em;\n",
              "}\n",
              "\n",
              "\n",
              "/* Toggleable style: style used for estimator/Pipeline/ColumnTransformer box that is\n",
              "clickable and can be expanded/collapsed.\n",
              "- Pipeline and ColumnTransformer use this feature and define the default style\n",
              "- Estimators will overwrite some part of the style using the `sk-estimator` class\n",
              "*/\n",
              "\n",
              "/* Pipeline and ColumnTransformer style (default) */\n",
              "\n",
              "#sk-container-id-1 div.sk-toggleable {\n",
              "  /* Default theme specific background. It is overwritten whether we have a\n",
              "  specific estimator or a Pipeline/ColumnTransformer */\n",
              "  background-color: var(--sklearn-color-background);\n",
              "}\n",
              "\n",
              "/* Toggleable label */\n",
              "#sk-container-id-1 label.sk-toggleable__label {\n",
              "  cursor: pointer;\n",
              "  display: flex;\n",
              "  width: 100%;\n",
              "  margin-bottom: 0;\n",
              "  padding: 0.5em;\n",
              "  box-sizing: border-box;\n",
              "  text-align: center;\n",
              "  align-items: start;\n",
              "  justify-content: space-between;\n",
              "  gap: 0.5em;\n",
              "}\n",
              "\n",
              "#sk-container-id-1 label.sk-toggleable__label .caption {\n",
              "  font-size: 0.6rem;\n",
              "  font-weight: lighter;\n",
              "  color: var(--sklearn-color-text-muted);\n",
              "}\n",
              "\n",
              "#sk-container-id-1 label.sk-toggleable__label-arrow:before {\n",
              "  /* Arrow on the left of the label */\n",
              "  content: \"▸\";\n",
              "  float: left;\n",
              "  margin-right: 0.25em;\n",
              "  color: var(--sklearn-color-icon);\n",
              "}\n",
              "\n",
              "#sk-container-id-1 label.sk-toggleable__label-arrow:hover:before {\n",
              "  color: var(--sklearn-color-text);\n",
              "}\n",
              "\n",
              "/* Toggleable content - dropdown */\n",
              "\n",
              "#sk-container-id-1 div.sk-toggleable__content {\n",
              "  max-height: 0;\n",
              "  max-width: 0;\n",
              "  overflow: hidden;\n",
              "  text-align: left;\n",
              "  /* unfitted */\n",
              "  background-color: var(--sklearn-color-unfitted-level-0);\n",
              "}\n",
              "\n",
              "#sk-container-id-1 div.sk-toggleable__content.fitted {\n",
              "  /* fitted */\n",
              "  background-color: var(--sklearn-color-fitted-level-0);\n",
              "}\n",
              "\n",
              "#sk-container-id-1 div.sk-toggleable__content pre {\n",
              "  margin: 0.2em;\n",
              "  border-radius: 0.25em;\n",
              "  color: var(--sklearn-color-text);\n",
              "  /* unfitted */\n",
              "  background-color: var(--sklearn-color-unfitted-level-0);\n",
              "}\n",
              "\n",
              "#sk-container-id-1 div.sk-toggleable__content.fitted pre {\n",
              "  /* unfitted */\n",
              "  background-color: var(--sklearn-color-fitted-level-0);\n",
              "}\n",
              "\n",
              "#sk-container-id-1 input.sk-toggleable__control:checked~div.sk-toggleable__content {\n",
              "  /* Expand drop-down */\n",
              "  max-height: 200px;\n",
              "  max-width: 100%;\n",
              "  overflow: auto;\n",
              "}\n",
              "\n",
              "#sk-container-id-1 input.sk-toggleable__control:checked~label.sk-toggleable__label-arrow:before {\n",
              "  content: \"▾\";\n",
              "}\n",
              "\n",
              "/* Pipeline/ColumnTransformer-specific style */\n",
              "\n",
              "#sk-container-id-1 div.sk-label input.sk-toggleable__control:checked~label.sk-toggleable__label {\n",
              "  color: var(--sklearn-color-text);\n",
              "  background-color: var(--sklearn-color-unfitted-level-2);\n",
              "}\n",
              "\n",
              "#sk-container-id-1 div.sk-label.fitted input.sk-toggleable__control:checked~label.sk-toggleable__label {\n",
              "  background-color: var(--sklearn-color-fitted-level-2);\n",
              "}\n",
              "\n",
              "/* Estimator-specific style */\n",
              "\n",
              "/* Colorize estimator box */\n",
              "#sk-container-id-1 div.sk-estimator input.sk-toggleable__control:checked~label.sk-toggleable__label {\n",
              "  /* unfitted */\n",
              "  background-color: var(--sklearn-color-unfitted-level-2);\n",
              "}\n",
              "\n",
              "#sk-container-id-1 div.sk-estimator.fitted input.sk-toggleable__control:checked~label.sk-toggleable__label {\n",
              "  /* fitted */\n",
              "  background-color: var(--sklearn-color-fitted-level-2);\n",
              "}\n",
              "\n",
              "#sk-container-id-1 div.sk-label label.sk-toggleable__label,\n",
              "#sk-container-id-1 div.sk-label label {\n",
              "  /* The background is the default theme color */\n",
              "  color: var(--sklearn-color-text-on-default-background);\n",
              "}\n",
              "\n",
              "/* On hover, darken the color of the background */\n",
              "#sk-container-id-1 div.sk-label:hover label.sk-toggleable__label {\n",
              "  color: var(--sklearn-color-text);\n",
              "  background-color: var(--sklearn-color-unfitted-level-2);\n",
              "}\n",
              "\n",
              "/* Label box, darken color on hover, fitted */\n",
              "#sk-container-id-1 div.sk-label.fitted:hover label.sk-toggleable__label.fitted {\n",
              "  color: var(--sklearn-color-text);\n",
              "  background-color: var(--sklearn-color-fitted-level-2);\n",
              "}\n",
              "\n",
              "/* Estimator label */\n",
              "\n",
              "#sk-container-id-1 div.sk-label label {\n",
              "  font-family: monospace;\n",
              "  font-weight: bold;\n",
              "  display: inline-block;\n",
              "  line-height: 1.2em;\n",
              "}\n",
              "\n",
              "#sk-container-id-1 div.sk-label-container {\n",
              "  text-align: center;\n",
              "}\n",
              "\n",
              "/* Estimator-specific */\n",
              "#sk-container-id-1 div.sk-estimator {\n",
              "  font-family: monospace;\n",
              "  border: 1px dotted var(--sklearn-color-border-box);\n",
              "  border-radius: 0.25em;\n",
              "  box-sizing: border-box;\n",
              "  margin-bottom: 0.5em;\n",
              "  /* unfitted */\n",
              "  background-color: var(--sklearn-color-unfitted-level-0);\n",
              "}\n",
              "\n",
              "#sk-container-id-1 div.sk-estimator.fitted {\n",
              "  /* fitted */\n",
              "  background-color: var(--sklearn-color-fitted-level-0);\n",
              "}\n",
              "\n",
              "/* on hover */\n",
              "#sk-container-id-1 div.sk-estimator:hover {\n",
              "  /* unfitted */\n",
              "  background-color: var(--sklearn-color-unfitted-level-2);\n",
              "}\n",
              "\n",
              "#sk-container-id-1 div.sk-estimator.fitted:hover {\n",
              "  /* fitted */\n",
              "  background-color: var(--sklearn-color-fitted-level-2);\n",
              "}\n",
              "\n",
              "/* Specification for estimator info (e.g. \"i\" and \"?\") */\n",
              "\n",
              "/* Common style for \"i\" and \"?\" */\n",
              "\n",
              ".sk-estimator-doc-link,\n",
              "a:link.sk-estimator-doc-link,\n",
              "a:visited.sk-estimator-doc-link {\n",
              "  float: right;\n",
              "  font-size: smaller;\n",
              "  line-height: 1em;\n",
              "  font-family: monospace;\n",
              "  background-color: var(--sklearn-color-background);\n",
              "  border-radius: 1em;\n",
              "  height: 1em;\n",
              "  width: 1em;\n",
              "  text-decoration: none !important;\n",
              "  margin-left: 0.5em;\n",
              "  text-align: center;\n",
              "  /* unfitted */\n",
              "  border: var(--sklearn-color-unfitted-level-1) 1pt solid;\n",
              "  color: var(--sklearn-color-unfitted-level-1);\n",
              "}\n",
              "\n",
              ".sk-estimator-doc-link.fitted,\n",
              "a:link.sk-estimator-doc-link.fitted,\n",
              "a:visited.sk-estimator-doc-link.fitted {\n",
              "  /* fitted */\n",
              "  border: var(--sklearn-color-fitted-level-1) 1pt solid;\n",
              "  color: var(--sklearn-color-fitted-level-1);\n",
              "}\n",
              "\n",
              "/* On hover */\n",
              "div.sk-estimator:hover .sk-estimator-doc-link:hover,\n",
              ".sk-estimator-doc-link:hover,\n",
              "div.sk-label-container:hover .sk-estimator-doc-link:hover,\n",
              ".sk-estimator-doc-link:hover {\n",
              "  /* unfitted */\n",
              "  background-color: var(--sklearn-color-unfitted-level-3);\n",
              "  color: var(--sklearn-color-background);\n",
              "  text-decoration: none;\n",
              "}\n",
              "\n",
              "div.sk-estimator.fitted:hover .sk-estimator-doc-link.fitted:hover,\n",
              ".sk-estimator-doc-link.fitted:hover,\n",
              "div.sk-label-container:hover .sk-estimator-doc-link.fitted:hover,\n",
              ".sk-estimator-doc-link.fitted:hover {\n",
              "  /* fitted */\n",
              "  background-color: var(--sklearn-color-fitted-level-3);\n",
              "  color: var(--sklearn-color-background);\n",
              "  text-decoration: none;\n",
              "}\n",
              "\n",
              "/* Span, style for the box shown on hovering the info icon */\n",
              ".sk-estimator-doc-link span {\n",
              "  display: none;\n",
              "  z-index: 9999;\n",
              "  position: relative;\n",
              "  font-weight: normal;\n",
              "  right: .2ex;\n",
              "  padding: .5ex;\n",
              "  margin: .5ex;\n",
              "  width: min-content;\n",
              "  min-width: 20ex;\n",
              "  max-width: 50ex;\n",
              "  color: var(--sklearn-color-text);\n",
              "  box-shadow: 2pt 2pt 4pt #999;\n",
              "  /* unfitted */\n",
              "  background: var(--sklearn-color-unfitted-level-0);\n",
              "  border: .5pt solid var(--sklearn-color-unfitted-level-3);\n",
              "}\n",
              "\n",
              ".sk-estimator-doc-link.fitted span {\n",
              "  /* fitted */\n",
              "  background: var(--sklearn-color-fitted-level-0);\n",
              "  border: var(--sklearn-color-fitted-level-3);\n",
              "}\n",
              "\n",
              ".sk-estimator-doc-link:hover span {\n",
              "  display: block;\n",
              "}\n",
              "\n",
              "/* \"?\"-specific style due to the `<a>` HTML tag */\n",
              "\n",
              "#sk-container-id-1 a.estimator_doc_link {\n",
              "  float: right;\n",
              "  font-size: 1rem;\n",
              "  line-height: 1em;\n",
              "  font-family: monospace;\n",
              "  background-color: var(--sklearn-color-background);\n",
              "  border-radius: 1rem;\n",
              "  height: 1rem;\n",
              "  width: 1rem;\n",
              "  text-decoration: none;\n",
              "  /* unfitted */\n",
              "  color: var(--sklearn-color-unfitted-level-1);\n",
              "  border: var(--sklearn-color-unfitted-level-1) 1pt solid;\n",
              "}\n",
              "\n",
              "#sk-container-id-1 a.estimator_doc_link.fitted {\n",
              "  /* fitted */\n",
              "  border: var(--sklearn-color-fitted-level-1) 1pt solid;\n",
              "  color: var(--sklearn-color-fitted-level-1);\n",
              "}\n",
              "\n",
              "/* On hover */\n",
              "#sk-container-id-1 a.estimator_doc_link:hover {\n",
              "  /* unfitted */\n",
              "  background-color: var(--sklearn-color-unfitted-level-3);\n",
              "  color: var(--sklearn-color-background);\n",
              "  text-decoration: none;\n",
              "}\n",
              "\n",
              "#sk-container-id-1 a.estimator_doc_link.fitted:hover {\n",
              "  /* fitted */\n",
              "  background-color: var(--sklearn-color-fitted-level-3);\n",
              "}\n",
              "</style><div id=\"sk-container-id-1\" class=\"sk-top-container\"><div class=\"sk-text-repr-fallback\"><pre>GradientBoostingClassifier(random_state=42)</pre><b>In a Jupyter environment, please rerun this cell to show the HTML representation or trust the notebook. <br />On GitHub, the HTML representation is unable to render, please try loading this page with nbviewer.org.</b></div><div class=\"sk-container\" hidden><div class=\"sk-item\"><div class=\"sk-estimator fitted sk-toggleable\"><input class=\"sk-toggleable__control sk-hidden--visually\" id=\"sk-estimator-id-1\" type=\"checkbox\" checked><label for=\"sk-estimator-id-1\" class=\"sk-toggleable__label fitted sk-toggleable__label-arrow\"><div><div>GradientBoostingClassifier</div></div><div><a class=\"sk-estimator-doc-link fitted\" rel=\"noreferrer\" target=\"_blank\" href=\"https://scikit-learn.org/1.6/modules/generated/sklearn.ensemble.GradientBoostingClassifier.html\">?<span>Documentation for GradientBoostingClassifier</span></a><span class=\"sk-estimator-doc-link fitted\">i<span>Fitted</span></span></div></label><div class=\"sk-toggleable__content fitted\"><pre>GradientBoostingClassifier(random_state=42)</pre></div> </div></div></div></div>"
            ]
          },
          "metadata": {},
          "execution_count": 33
        }
      ]
    },
    {
      "cell_type": "code",
      "source": [
        "gbm_pred = gbm.predict(x_test)"
      ],
      "metadata": {
        "id": "O595_Wa6Uza0"
      },
      "execution_count": null,
      "outputs": []
    },
    {
      "cell_type": "code",
      "source": [
        "gbm_acc = accuracy_score(y_test, gbm_pred)\n",
        "gbm_acc"
      ],
      "metadata": {
        "colab": {
          "base_uri": "https://localhost:8080/"
        },
        "id": "2yZx5MFvUzWv",
        "outputId": "b99c6891-2652-47fe-e2e1-b37464c0ed95"
      },
      "execution_count": null,
      "outputs": [
        {
          "output_type": "execute_result",
          "data": {
            "text/plain": [
              "0.7782663316582915"
            ]
          },
          "metadata": {},
          "execution_count": 35
        }
      ]
    },
    {
      "cell_type": "code",
      "source": [
        "sns.heatmap(pd.crosstab(y_test, gbm_pred, rownames=['Actual'], colnames=['Predicted']), annot=True, fmt='d')"
      ],
      "metadata": {
        "colab": {
          "base_uri": "https://localhost:8080/",
          "height": 466
        },
        "id": "QeeDlP1zUzSQ",
        "outputId": "8a2845e1-82b4-42d3-d49e-7a1a22ca969e"
      },
      "execution_count": null,
      "outputs": [
        {
          "output_type": "execute_result",
          "data": {
            "text/plain": [
              "<Axes: xlabel='Predicted', ylabel='Actual'>"
            ]
          },
          "metadata": {},
          "execution_count": 36
        },
        {
          "output_type": "display_data",
          "data": {
            "text/plain": [
              "<Figure size 640x480 with 2 Axes>"
            ],
            "image/png": "[encoded data removed]"
          },
          "metadata": {}
        }
      ]
    },
    {
      "cell_type": "markdown",
      "source": [
        "**BAYESIAN NEURAL NETWORKS**"
      ],
      "metadata": {
        "id": "3rfvxXzBFeAW"
      }
    },
    {
      "cell_type": "code",
      "source": [
        "!pip install tensorflow==2.12.0\n",
        "!pip install tensorflow_probability==0.20.1"
      ],
      "metadata": {
        "colab": {
          "base_uri": "https://localhost:8080/"
        },
        "id": "4O44rnQwFdha",
        "outputId": "e466bea5-3a34-4b91-d97f-4816e24f0e3c"
      },
      "execution_count": null,
      "outputs": [
        {
          "output_type": "stream",
          "name": "stdout",
          "text": [
            "\u001b[33mWARNING: Ignoring invalid distribution ~ensorflow-probability (/usr/local/lib/python3.11/dist-packages)\u001b[0m\u001b[33m\n",
            "\u001b[0m\u001b[33mWARNING: Ignoring invalid distribution ~ensorflow-probability (/usr/local/lib/python3.11/dist-packages)\u001b[0m\u001b[33m\n",
            "\u001b[0mRequirement already satisfied: tensorflow==2.12.0 in /usr/local/lib/python3.11/dist-packages (2.12.0)\n",
            "Requirement already satisfied: absl-py>=1.0.0 in /usr/local/lib/python3.11/dist-packages (from tensorflow==2.12.0) (1.4.0)\n",
            "Requirement already satisfied: astunparse>=1.6.0 in /usr/local/lib/python3.11/dist-packages (from tensorflow==2.12.0) (1.6.3)\n",
            "Requirement already satisfied: flatbuffers>=2.0 in /usr/local/lib/python3.11/dist-packages (from tensorflow==2.12.0) (25.2.10)\n",
            "Requirement already satisfied: gast<=0.4.0,>=0.2.1 in /usr/local/lib/python3.11/dist-packages (from tensorflow==2.12.0) (0.4.0)\n",
            "Requirement already satisfied: google-pasta>=0.1.1 in /usr/local/lib/python3.11/dist-packages (from tensorflow==2.12.0) (0.2.0)\n",
            "Requirement already satisfied: grpcio<2.0,>=1.24.3 in /usr/local/lib/python3.11/dist-packages (from tensorflow==2.12.0) (1.71.0)\n",
            "Requirement already satisfied: h5py>=2.9.0 in /usr/local/lib/python3.11/dist-packages (from tensorflow==2.12.0) (3.13.0)\n",
            "Requirement already satisfied: jax>=0.3.15 in /usr/local/lib/python3.11/dist-packages (from tensorflow==2.12.0) (0.4.30)\n",
            "Requirement already satisfied: keras<2.13,>=2.12.0 in /usr/local/lib/python3.11/dist-packages (from tensorflow==2.12.0) (2.12.0)\n",
            "Requirement already satisfied: libclang>=13.0.0 in /usr/local/lib/python3.11/dist-packages (from tensorflow==2.12.0) (18.1.1)\n",
            "Requirement already satisfied: numpy<1.24,>=1.22 in /usr/local/lib/python3.11/dist-packages (from tensorflow==2.12.0) (1.23.5)\n",
            "Requirement already satisfied: opt-einsum>=2.3.2 in /usr/local/lib/python3.11/dist-packages (from tensorflow==2.12.0) (3.4.0)\n",
            "Requirement already satisfied: packaging in /usr/local/lib/python3.11/dist-packages (from tensorflow==2.12.0) (24.2)\n",
            "Requirement already satisfied: protobuf!=4.21.0,!=4.21.1,!=4.21.2,!=4.21.3,!=4.21.4,!=4.21.5,<5.0.0dev,>=3.20.3 in /usr/local/lib/python3.11/dist-packages (from tensorflow==2.12.0) (4.25.7)\n",
            "Requirement already satisfied: setuptools in /usr/local/lib/python3.11/dist-packages (from tensorflow==2.12.0) (75.2.0)\n",
            "Requirement already satisfied: six>=1.12.0 in /usr/local/lib/python3.11/dist-packages (from tensorflow==2.12.0) (1.17.0)\n",
            "Requirement already satisfied: tensorboard<2.13,>=2.12 in /usr/local/lib/python3.11/dist-packages (from tensorflow==2.12.0) (2.12.3)\n",
            "Requirement already satisfied: tensorflow-estimator<2.13,>=2.12.0 in /usr/local/lib/python3.11/dist-packages (from tensorflow==2.12.0) (2.12.0)\n",
            "Requirement already satisfied: termcolor>=1.1.0 in /usr/local/lib/python3.11/dist-packages (from tensorflow==2.12.0) (3.1.0)\n",
            "Requirement already satisfied: typing-extensions>=3.6.6 in /usr/local/lib/python3.11/dist-packages (from tensorflow==2.12.0) (4.13.2)\n",
            "Requirement already satisfied: wrapt<1.15,>=1.11.0 in /usr/local/lib/python3.11/dist-packages (from tensorflow==2.12.0) (1.14.1)\n",
            "Requirement already satisfied: tensorflow-io-gcs-filesystem>=0.23.1 in /usr/local/lib/python3.11/dist-packages (from tensorflow==2.12.0) (0.37.1)\n",
            "Requirement already satisfied: wheel<1.0,>=0.23.0 in /usr/local/lib/python3.11/dist-packages (from astunparse>=1.6.0->tensorflow==2.12.0) (0.45.1)\n",
            "Requirement already satisfied: jaxlib<=0.4.30,>=0.4.27 in /usr/local/lib/python3.11/dist-packages (from jax>=0.3.15->tensorflow==2.12.0) (0.4.30)\n",
            "Requirement already satisfied: ml-dtypes>=0.2.0 in /usr/local/lib/python3.11/dist-packages (from jax>=0.3.15->tensorflow==2.12.0) (0.4.1)\n",
            "Requirement already satisfied: scipy>=1.9 in /usr/local/lib/python3.11/dist-packages (from jax>=0.3.15->tensorflow==2.12.0) (1.15.3)\n",
            "Requirement already satisfied: google-auth<3,>=1.6.3 in /usr/local/lib/python3.11/dist-packages (from tensorboard<2.13,>=2.12->tensorflow==2.12.0) (2.38.0)\n",
            "Requirement already satisfied: google-auth-oauthlib<1.1,>=0.5 in /usr/local/lib/python3.11/dist-packages (from tensorboard<2.13,>=2.12->tensorflow==2.12.0) (1.0.0)\n",
            "Requirement already satisfied: markdown>=2.6.8 in /usr/local/lib/python3.11/dist-packages (from tensorboard<2.13,>=2.12->tensorflow==2.12.0) (3.8)\n",
            "Requirement already satisfied: requests<3,>=2.21.0 in /usr/local/lib/python3.11/dist-packages (from tensorboard<2.13,>=2.12->tensorflow==2.12.0) (2.32.3)\n",
            "Requirement already satisfied: tensorboard-data-server<0.8.0,>=0.7.0 in /usr/local/lib/python3.11/dist-packages (from tensorboard<2.13,>=2.12->tensorflow==2.12.0) (0.7.2)\n",
            "Requirement already satisfied: werkzeug>=1.0.1 in /usr/local/lib/python3.11/dist-packages (from tensorboard<2.13,>=2.12->tensorflow==2.12.0) (3.1.3)\n",
            "Requirement already satisfied: cachetools<6.0,>=2.0.0 in /usr/local/lib/python3.11/dist-packages (from google-auth<3,>=1.6.3->tensorboard<2.13,>=2.12->tensorflow==2.12.0) (5.5.2)\n",
            "Requirement already satisfied: pyasn1-modules>=0.2.1 in /usr/local/lib/python3.11/dist-packages (from google-auth<3,>=1.6.3->tensorboard<2.13,>=2.12->tensorflow==2.12.0) (0.4.2)\n",
            "Requirement already satisfied: rsa<5,>=3.1.4 in /usr/local/lib/python3.11/dist-packages (from google-auth<3,>=1.6.3->tensorboard<2.13,>=2.12->tensorflow==2.12.0) (4.9.1)\n",
            "Requirement already satisfied: requests-oauthlib>=0.7.0 in /usr/local/lib/python3.11/dist-packages (from google-auth-oauthlib<1.1,>=0.5->tensorboard<2.13,>=2.12->tensorflow==2.12.0) (2.0.0)\n",
            "Requirement already satisfied: charset-normalizer<4,>=2 in /usr/local/lib/python3.11/dist-packages (from requests<3,>=2.21.0->tensorboard<2.13,>=2.12->tensorflow==2.12.0) (3.4.2)\n",
            "Requirement already satisfied: idna<4,>=2.5 in /usr/local/lib/python3.11/dist-packages (from requests<3,>=2.21.0->tensorboard<2.13,>=2.12->tensorflow==2.12.0) (3.10)\n",
            "Requirement already satisfied: urllib3<3,>=1.21.1 in /usr/local/lib/python3.11/dist-packages (from requests<3,>=2.21.0->tensorboard<2.13,>=2.12->tensorflow==2.12.0) (2.4.0)\n",
            "Requirement already satisfied: certifi>=2017.4.17 in /usr/local/lib/python3.11/dist-packages (from requests<3,>=2.21.0->tensorboard<2.13,>=2.12->tensorflow==2.12.0) (2025.4.26)\n",
            "Requirement already satisfied: MarkupSafe>=2.1.1 in /usr/local/lib/python3.11/dist-packages (from werkzeug>=1.0.1->tensorboard<2.13,>=2.12->tensorflow==2.12.0) (3.0.2)\n",
            "Requirement already satisfied: pyasn1<0.7.0,>=0.6.1 in /usr/local/lib/python3.11/dist-packages (from pyasn1-modules>=0.2.1->google-auth<3,>=1.6.3->tensorboard<2.13,>=2.12->tensorflow==2.12.0) (0.6.1)\n",
            "Requirement already satisfied: oauthlib>=3.0.0 in /usr/local/lib/python3.11/dist-packages (from requests-oauthlib>=0.7.0->google-auth-oauthlib<1.1,>=0.5->tensorboard<2.13,>=2.12->tensorflow==2.12.0) (3.2.2)\n",
            "\u001b[33mWARNING: Ignoring invalid distribution ~ensorflow-probability (/usr/local/lib/python3.11/dist-packages)\u001b[0m\u001b[33m\n",
            "\u001b[0m\u001b[33mWARNING: Ignoring invalid distribution ~ensorflow-probability (/usr/local/lib/python3.11/dist-packages)\u001b[0m\u001b[33m\n",
            "\u001b[0m\u001b[33mWARNING: Ignoring invalid distribution ~ensorflow-probability (/usr/local/lib/python3.11/dist-packages)\u001b[0m\u001b[33m\n",
            "\u001b[0mCollecting tensorflow_probability==0.20.1\n",
            "  Using cached tensorflow_probability-0.20.1-py2.py3-none-any.whl.metadata (13 kB)\n",
            "Requirement already satisfied: absl-py in /usr/local/lib/python3.11/dist-packages (from tensorflow_probability==0.20.1) (1.4.0)\n",
            "Requirement already satisfied: six>=1.10.0 in /usr/local/lib/python3.11/dist-packages (from tensorflow_probability==0.20.1) (1.17.0)\n",
            "Requirement already satisfied: numpy>=1.13.3 in /usr/local/lib/python3.11/dist-packages (from tensorflow_probability==0.20.1) (1.23.5)\n",
            "Requirement already satisfied: decorator in /usr/local/lib/python3.11/dist-packages (from tensorflow_probability==0.20.1) (4.4.2)\n",
            "Requirement already satisfied: cloudpickle>=1.3 in /usr/local/lib/python3.11/dist-packages (from tensorflow_probability==0.20.1) (3.1.1)\n",
            "Requirement already satisfied: gast>=0.3.2 in /usr/local/lib/python3.11/dist-packages (from tensorflow_probability==0.20.1) (0.4.0)\n",
            "Requirement already satisfied: dm-tree in /usr/local/lib/python3.11/dist-packages (from tensorflow_probability==0.20.1) (0.1.9)\n",
            "Requirement already satisfied: attrs>=18.2.0 in /usr/local/lib/python3.11/dist-packages (from dm-tree->tensorflow_probability==0.20.1) (25.3.0)\n",
            "Requirement already satisfied: wrapt>=1.11.2 in /usr/local/lib/python3.11/dist-packages (from dm-tree->tensorflow_probability==0.20.1) (1.14.1)\n",
            "Using cached tensorflow_probability-0.20.1-py2.py3-none-any.whl (6.9 MB)\n",
            "\u001b[33mWARNING: Ignoring invalid distribution ~ensorflow-probability (/usr/local/lib/python3.11/dist-packages)\u001b[0m\u001b[33m\n",
            "\u001b[0mInstalling collected packages: tensorflow_probability\n",
            "Successfully installed tensorflow_probability-0.20.1\n"
          ]
        }
      ]
    },
    {
      "cell_type": "code",
      "source": [
        "import numpy as np\n",
        "import matplotlib.pyplot as plt\n",
        "from sklearn.preprocessing import MinMaxScaler\n",
        "from sklearn.model_selection import train_test_split\n",
        "import pandas as pd\n",
        "import tensorflow as tf\n",
        "from tensorflow import keras\n",
        "from keras import backend as K\n",
        "import tensorflow_probability as tfp"
      ],
      "metadata": {
        "id": "FpYNN8o1v9h7"
      },
      "execution_count": null,
      "outputs": []
    },
    {
      "cell_type": "code",
      "source": [
        "def nll(y_true, y_pred):\n",
        "    return -tf.reduce_mean(y_pred.log_prob(y_true))"
      ],
      "metadata": {
        "id": "fowxmh7FwexW"
      },
      "execution_count": null,
      "outputs": []
    },
    {
      "cell_type": "code",
      "source": [
        "# Define the prior normal - using mean=0 and stddev=1\n",
        "def prior(kernel_size, bias_size, dtype=None):\n",
        "    n = kernel_size + bias_size\n",
        "    prior_model = keras.Sequential(\n",
        "        [\n",
        "            tfp.layers.DistributionLambda(\n",
        "                lambda t: tfp.distributions.MultivariateNormalDiag(\n",
        "                    loc=tf.zeros(n), scale_diag=tf.ones(n)\n",
        "                )\n",
        "            )\n",
        "        ]\n",
        "    )\n",
        "    return prior_model\n",
        "\n",
        "# Define posterior function, which adjusts normal parameters during training\n",
        "def posterior(kernel_size, bias_size, dtype=None):\n",
        "    n = kernel_size + bias_size\n",
        "    posterior_model = keras.Sequential(\n",
        "        [\n",
        "            # Parameterize the mean and log-variance for each weight and bias\n",
        "            tfp.layers.VariableLayer(2 * n, dtype=dtype),  # 2*n for mean and log-variance\n",
        "            tfp.layers.DistributionLambda(\n",
        "                lambda t: tfp.distributions.Independent(\n",
        "                    tfp.distributions.Normal(\n",
        "                        loc=t[..., :n],                     # First n values are means\n",
        "                        scale=tf.math.softplus(t[..., n:])  # Remaining n values are stddevs\n",
        "                    ),\n",
        "                    reinterpreted_batch_ndims=1  # Treat weights as a vector distribution\n",
        "                )\n",
        "            ),\n",
        "        ]\n",
        "    )\n",
        "    return posterior_model"
      ],
      "metadata": {
        "id": "pTpmS2t2wv3q"
      },
      "execution_count": null,
      "outputs": []
    },
    {
      "cell_type": "code",
      "source": [
        "tf.keras.backend.clear_session()\n",
        "\n",
        "inputs = tf.keras.layers.Input( shape=((predictors.shape[1]),) )\n",
        "\n",
        "hidden1 = tfp.layers.DenseVariational(units=32,\n",
        "                                      make_prior_fn=prior,\n",
        "                                      make_posterior_fn=posterior,\n",
        "                                      kl_weight=1/predictors.shape[0], # 1/train_size\n",
        "                                      activation='sigmoid')(inputs)\n",
        "\n",
        "hidden2 = tfp.layers.DenseVariational(units=25,\n",
        "                                      make_prior_fn=prior,\n",
        "                                      make_posterior_fn=posterior,\n",
        "                                      kl_weight=1/predictors.shape[0], # 1/train_size\n",
        "                                      activation='sigmoid')(hidden1)\n",
        "hidden3 = tfp.layers.DenseVariational(units=16,\n",
        "                                      make_prior_fn=prior,\n",
        "                                      make_posterior_fn=posterior,\n",
        "                                      kl_weight=1/predictors.shape[0], # 1/train_size\n",
        "                                      activation='sigmoid')(hidden2)\n",
        "distribution_params = keras.layers.Dense(units=3)(hidden3)\n",
        "output = tfp.layers.OneHotCategorical(3)(distribution_params)\n",
        "\n",
        "bnn = keras.Model(inputs=inputs, outputs=output)\n",
        "bnn.compile(loss=nll, optimizer=keras.optimizers.RMSprop(learning_rate=0.01), metrics=['accuracy'])\n",
        "\n",
        "bnn.summary()"
      ],
      "metadata": {
        "colab": {
          "base_uri": "https://localhost:8080/"
        },
        "id": "h0bKclxfw348",
        "outputId": "c33578e7-e9e4-43ee-e8e0-f47329788038"
      },
      "execution_count": null,
      "outputs": [
        {
          "output_type": "stream",
          "name": "stdout",
          "text": [
            "Model: \"model\"\n",
            "_________________________________________________________________\n",
            " Layer (type)                Output Shape              Param #   \n",
            "=================================================================\n",
            " input_1 (InputLayer)        [(None, 74)]              0         \n",
            "                                                                 \n",
            " dense_variational (DenseVar  (None, 32)               4800      \n",
            " iational)                                                       \n",
            "                                                                 \n",
            " dense_variational_1 (DenseV  (None, 25)               1650      \n",
            " ariational)                                                     \n",
            "                                                                 \n",
            " dense_variational_2 (DenseV  (None, 16)               832       \n",
            " ariational)                                                     \n",
            "                                                                 \n",
            " dense (Dense)               (None, 3)                 51        \n",
            "                                                                 \n",
            " one_hot_categorical (OneHot  ((None, 3),              0         \n",
            " Categorical)                 (None, 3))                         \n",
            "                                                                 \n",
            "=================================================================\n",
            "Total params: 7,333\n",
            "Trainable params: 7,333\n",
            "Non-trainable params: 0\n",
            "_________________________________________________________________\n"
          ]
        }
      ]
    },
    {
      "cell_type": "markdown",
      "source": [
        "**DenseVariational** creates a layer that learns a distribution over its weights, which is the core concept of Bayesian neural networks.\n",
        "<br>**make_prior_fn=prior** and **make_posterior_fn=posterior** are functions that define the prior and posterior distributions over the weights, respectively. They provide a way to incorporate prior knowledge and update beliefs about the weights during training.\n",
        "<br> **tfp.layers.OneHotCategorical(3)** converts the logits into a categorical distribution with 3 categories. This layer ensures that the output of the network is a probability distribution over the classes."
      ],
      "metadata": {
        "id": "SDQL2BqvkBoE"
      }
    },
    {
      "cell_type": "code",
      "source": [
        "run = bnn.fit(predictors,target,batch_size=32, epochs=150,verbose = 1)"
      ],
      "metadata": {
        "colab": {
          "base_uri": "https://localhost:8080/"
        },
        "id": "TIChjpttxweZ",
        "outputId": "14c0c9ba-cadd-4928-a134-5b5bbcbb34cb"
      },
      "execution_count": null,
      "outputs": [
        {
          "output_type": "stream",
          "name": "stdout",
          "text": [
            "Epoch 1/150\n",
            "293/293 [==============================] - 3s 3ms/step - loss: 4.0767 - accuracy: 0.3329\n",
            "Epoch 2/150\n",
            "293/293 [==============================] - 1s 3ms/step - loss: 3.7248 - accuracy: 0.3304\n",
            "Epoch 3/150\n",
            "293/293 [==============================] - 1s 2ms/step - loss: 3.4506 - accuracy: 0.3322\n",
            "Epoch 4/150\n",
            "293/293 [==============================] - 1s 4ms/step - loss: 3.3598 - accuracy: 0.3409\n",
            "Epoch 5/150\n",
            "293/293 [==============================] - 1s 4ms/step - loss: 3.3276 - accuracy: 0.3308\n",
            "Epoch 6/150\n",
            "293/293 [==============================] - 1s 4ms/step - loss: 3.3188 - accuracy: 0.3369\n",
            "Epoch 7/150\n",
            "293/293 [==============================] - 1s 3ms/step - loss: 3.3163 - accuracy: 0.3402\n",
            "Epoch 8/150\n",
            "293/293 [==============================] - 1s 2ms/step - loss: 3.3162 - accuracy: 0.3315\n",
            "Epoch 9/150\n",
            "293/293 [==============================] - 1s 3ms/step - loss: 3.3169 - accuracy: 0.3286\n",
            "Epoch 10/150\n",
            "293/293 [==============================] - 1s 3ms/step - loss: 3.3172 - accuracy: 0.3324\n",
            "Epoch 11/150\n",
            "293/293 [==============================] - 1s 3ms/step - loss: 3.3170 - accuracy: 0.3288\n",
            "Epoch 12/150\n",
            "293/293 [==============================] - 1s 3ms/step - loss: 3.3169 - accuracy: 0.3249\n",
            "Epoch 13/150\n",
            "293/293 [==============================] - 1s 3ms/step - loss: 3.3165 - accuracy: 0.3298\n",
            "Epoch 14/150\n",
            "293/293 [==============================] - 1s 3ms/step - loss: 3.3170 - accuracy: 0.3363\n",
            "Epoch 15/150\n",
            "293/293 [==============================] - 1s 3ms/step - loss: 3.3166 - accuracy: 0.3352\n",
            "Epoch 16/150\n",
            "293/293 [==============================] - 1s 4ms/step - loss: 3.3175 - accuracy: 0.3346\n",
            "Epoch 17/150\n",
            "293/293 [==============================] - 1s 4ms/step - loss: 3.3174 - accuracy: 0.3274\n",
            "Epoch 18/150\n",
            "293/293 [==============================] - 1s 5ms/step - loss: 3.3174 - accuracy: 0.3304\n",
            "Epoch 19/150\n",
            "293/293 [==============================] - 1s 5ms/step - loss: 3.3174 - accuracy: 0.3330\n",
            "Epoch 20/150\n",
            "293/293 [==============================] - 1s 4ms/step - loss: 3.3179 - accuracy: 0.3362\n",
            "Epoch 21/150\n",
            "293/293 [==============================] - 1s 5ms/step - loss: 3.3179 - accuracy: 0.3252\n",
            "Epoch 22/150\n",
            "293/293 [==============================] - 1s 3ms/step - loss: 3.3187 - accuracy: 0.3298\n",
            "Epoch 23/150\n",
            "293/293 [==============================] - 1s 3ms/step - loss: 3.3178 - accuracy: 0.3352\n",
            "Epoch 24/150\n",
            "293/293 [==============================] - 1s 3ms/step - loss: 3.3181 - accuracy: 0.3330\n",
            "Epoch 25/150\n",
            "293/293 [==============================] - 1s 3ms/step - loss: 3.3185 - accuracy: 0.3363\n",
            "Epoch 26/150\n",
            "293/293 [==============================] - 1s 3ms/step - loss: 3.3185 - accuracy: 0.3307\n",
            "Epoch 27/150\n",
            "293/293 [==============================] - 1s 3ms/step - loss: 3.3178 - accuracy: 0.3379\n",
            "Epoch 28/150\n",
            "293/293 [==============================] - 1s 3ms/step - loss: 3.3184 - accuracy: 0.3343\n",
            "Epoch 29/150\n",
            "293/293 [==============================] - 1s 3ms/step - loss: 3.3185 - accuracy: 0.3314\n",
            "Epoch 30/150\n",
            "293/293 [==============================] - 1s 3ms/step - loss: 3.3182 - accuracy: 0.3333\n",
            "Epoch 31/150\n",
            "293/293 [==============================] - 1s 4ms/step - loss: 3.3189 - accuracy: 0.3320\n",
            "Epoch 32/150\n",
            "293/293 [==============================] - 1s 5ms/step - loss: 3.3188 - accuracy: 0.3332\n",
            "Epoch 33/150\n",
            "293/293 [==============================] - 2s 7ms/step - loss: 3.3189 - accuracy: 0.3430\n",
            "Epoch 34/150\n",
            "293/293 [==============================] - 2s 8ms/step - loss: 3.3187 - accuracy: 0.3463\n",
            "Epoch 35/150\n",
            "293/293 [==============================] - 2s 8ms/step - loss: 3.3191 - accuracy: 0.3381\n",
            "Epoch 36/150\n",
            "293/293 [==============================] - 1s 3ms/step - loss: 3.3191 - accuracy: 0.3404\n",
            "Epoch 37/150\n",
            "293/293 [==============================] - 1s 3ms/step - loss: 3.3188 - accuracy: 0.3370\n",
            "Epoch 38/150\n",
            "293/293 [==============================] - 1s 3ms/step - loss: 3.3192 - accuracy: 0.3383\n",
            "Epoch 39/150\n",
            "293/293 [==============================] - 1s 3ms/step - loss: 3.3190 - accuracy: 0.3372\n",
            "Epoch 40/150\n",
            "293/293 [==============================] - 1s 3ms/step - loss: 3.3191 - accuracy: 0.3357\n",
            "Epoch 41/150\n",
            "293/293 [==============================] - 1s 3ms/step - loss: 3.3190 - accuracy: 0.3302\n",
            "Epoch 42/150\n",
            "293/293 [==============================] - 1s 3ms/step - loss: 3.3186 - accuracy: 0.3368\n",
            "Epoch 43/150\n",
            "293/293 [==============================] - 1s 3ms/step - loss: 3.3183 - accuracy: 0.3344\n",
            "Epoch 44/150\n",
            "293/293 [==============================] - 1s 3ms/step - loss: 3.3188 - accuracy: 0.3309\n",
            "Epoch 45/150\n",
            "293/293 [==============================] - 1s 3ms/step - loss: 3.3195 - accuracy: 0.3250\n",
            "Epoch 46/150\n",
            "293/293 [==============================] - 1s 3ms/step - loss: 3.3191 - accuracy: 0.3311\n",
            "Epoch 47/150\n",
            "293/293 [==============================] - 1s 3ms/step - loss: 3.3191 - accuracy: 0.3287\n",
            "Epoch 48/150\n",
            "293/293 [==============================] - 1s 4ms/step - loss: 3.3194 - accuracy: 0.3365\n",
            "Epoch 49/150\n",
            "293/293 [==============================] - 1s 4ms/step - loss: 3.3191 - accuracy: 0.3309\n",
            "Epoch 50/150\n",
            "293/293 [==============================] - 1s 4ms/step - loss: 3.3190 - accuracy: 0.3322\n",
            "Epoch 51/150\n",
            "293/293 [==============================] - 1s 4ms/step - loss: 3.3193 - accuracy: 0.3392\n",
            "Epoch 52/150\n",
            "293/293 [==============================] - 1s 3ms/step - loss: 3.3199 - accuracy: 0.3345\n",
            "Epoch 53/150\n",
            "293/293 [==============================] - 1s 2ms/step - loss: 3.3191 - accuracy: 0.3310\n",
            "Epoch 54/150\n",
            "293/293 [==============================] - 1s 3ms/step - loss: 3.3194 - accuracy: 0.3281\n",
            "Epoch 55/150\n",
            "293/293 [==============================] - 1s 3ms/step - loss: 3.3192 - accuracy: 0.3342\n",
            "Epoch 56/150\n",
            "293/293 [==============================] - 1s 2ms/step - loss: 3.3196 - accuracy: 0.3417\n",
            "Epoch 57/150\n",
            "293/293 [==============================] - 1s 3ms/step - loss: 3.3194 - accuracy: 0.3359\n",
            "Epoch 58/150\n",
            "293/293 [==============================] - 1s 3ms/step - loss: 3.3196 - accuracy: 0.3235\n",
            "Epoch 59/150\n",
            "293/293 [==============================] - 1s 3ms/step - loss: 3.3194 - accuracy: 0.3333\n",
            "Epoch 60/150\n",
            "293/293 [==============================] - 1s 3ms/step - loss: 3.3194 - accuracy: 0.3324\n",
            "Epoch 61/150\n",
            "293/293 [==============================] - 1s 3ms/step - loss: 3.3195 - accuracy: 0.3404\n",
            "Epoch 62/150\n",
            "293/293 [==============================] - 1s 3ms/step - loss: 3.3197 - accuracy: 0.3332\n",
            "Epoch 63/150\n",
            "293/293 [==============================] - 1s 2ms/step - loss: 3.3200 - accuracy: 0.3280\n",
            "Epoch 64/150\n",
            "293/293 [==============================] - 1s 2ms/step - loss: 3.3196 - accuracy: 0.3331\n",
            "Epoch 65/150\n",
            "293/293 [==============================] - 1s 4ms/step - loss: 3.3200 - accuracy: 0.3312\n",
            "Epoch 66/150\n",
            "293/293 [==============================] - 1s 4ms/step - loss: 3.3197 - accuracy: 0.3302\n",
            "Epoch 67/150\n",
            "293/293 [==============================] - 1s 4ms/step - loss: 3.3195 - accuracy: 0.3369\n",
            "Epoch 68/150\n",
            "293/293 [==============================] - 1s 3ms/step - loss: 3.3198 - accuracy: 0.3422\n",
            "Epoch 69/150\n",
            "293/293 [==============================] - 1s 2ms/step - loss: 3.3199 - accuracy: 0.3312\n",
            "Epoch 70/150\n",
            "293/293 [==============================] - 1s 4ms/step - loss: 3.3194 - accuracy: 0.3210\n",
            "Epoch 71/150\n",
            "293/293 [==============================] - 1s 2ms/step - loss: 3.3196 - accuracy: 0.3271\n",
            "Epoch 72/150\n",
            "293/293 [==============================] - 1s 2ms/step - loss: 3.3195 - accuracy: 0.3307\n",
            "Epoch 73/150\n",
            "293/293 [==============================] - 1s 2ms/step - loss: 3.3202 - accuracy: 0.3301\n",
            "Epoch 74/150\n",
            "293/293 [==============================] - 1s 3ms/step - loss: 3.3199 - accuracy: 0.3220\n",
            "Epoch 75/150\n",
            "293/293 [==============================] - 1s 3ms/step - loss: 3.3200 - accuracy: 0.3296\n",
            "Epoch 76/150\n",
            "293/293 [==============================] - 1s 2ms/step - loss: 3.3194 - accuracy: 0.3285\n",
            "Epoch 77/150\n",
            "293/293 [==============================] - 1s 3ms/step - loss: 3.3200 - accuracy: 0.3269\n",
            "Epoch 78/150\n",
            "293/293 [==============================] - 1s 3ms/step - loss: 3.3205 - accuracy: 0.3400\n",
            "Epoch 79/150\n",
            "293/293 [==============================] - 1s 3ms/step - loss: 3.3203 - accuracy: 0.3378\n",
            "Epoch 80/150\n",
            "293/293 [==============================] - 1s 3ms/step - loss: 3.3208 - accuracy: 0.3409\n",
            "Epoch 81/150\n",
            "293/293 [==============================] - 1s 4ms/step - loss: 3.3196 - accuracy: 0.3385\n",
            "Epoch 82/150\n",
            "293/293 [==============================] - 1s 4ms/step - loss: 3.3200 - accuracy: 0.3348\n",
            "Epoch 83/150\n",
            "293/293 [==============================] - 1s 4ms/step - loss: 3.3196 - accuracy: 0.3359\n",
            "Epoch 84/150\n",
            "293/293 [==============================] - 1s 4ms/step - loss: 3.3202 - accuracy: 0.3307\n",
            "Epoch 85/150\n",
            "293/293 [==============================] - 1s 3ms/step - loss: 3.3201 - accuracy: 0.3264\n",
            "Epoch 86/150\n",
            "293/293 [==============================] - 1s 2ms/step - loss: 3.3204 - accuracy: 0.3337\n",
            "Epoch 87/150\n",
            "293/293 [==============================] - 1s 3ms/step - loss: 3.3206 - accuracy: 0.3378\n",
            "Epoch 88/150\n",
            "293/293 [==============================] - 1s 3ms/step - loss: 3.3205 - accuracy: 0.3254\n",
            "Epoch 89/150\n",
            "293/293 [==============================] - 1s 3ms/step - loss: 3.3201 - accuracy: 0.3342\n",
            "Epoch 90/150\n",
            "293/293 [==============================] - 1s 3ms/step - loss: 3.3203 - accuracy: 0.3349\n",
            "Epoch 91/150\n",
            "293/293 [==============================] - 1s 3ms/step - loss: 3.3203 - accuracy: 0.3281\n",
            "Epoch 92/150\n",
            "293/293 [==============================] - 1s 3ms/step - loss: 3.3199 - accuracy: 0.3384\n",
            "Epoch 93/150\n",
            "293/293 [==============================] - 1s 3ms/step - loss: 3.3201 - accuracy: 0.3304\n",
            "Epoch 94/150\n",
            "293/293 [==============================] - 1s 3ms/step - loss: 3.3207 - accuracy: 0.3302\n",
            "Epoch 95/150\n",
            "293/293 [==============================] - 1s 3ms/step - loss: 3.3207 - accuracy: 0.3356\n",
            "Epoch 96/150\n",
            "293/293 [==============================] - 1s 3ms/step - loss: 3.3205 - accuracy: 0.3271\n",
            "Epoch 97/150\n",
            "293/293 [==============================] - 1s 3ms/step - loss: 3.3200 - accuracy: 0.3389\n",
            "Epoch 98/150\n",
            "293/293 [==============================] - 1s 4ms/step - loss: 3.3206 - accuracy: 0.3333\n",
            "Epoch 99/150\n",
            "293/293 [==============================] - 1s 4ms/step - loss: 3.3204 - accuracy: 0.3430\n",
            "Epoch 100/150\n",
            "293/293 [==============================] - 1s 4ms/step - loss: 3.3203 - accuracy: 0.3368\n",
            "Epoch 101/150\n",
            "293/293 [==============================] - 1s 3ms/step - loss: 3.3202 - accuracy: 0.3326\n",
            "Epoch 102/150\n",
            "293/293 [==============================] - 1s 2ms/step - loss: 3.3202 - accuracy: 0.3268\n",
            "Epoch 103/150\n",
            "293/293 [==============================] - 1s 2ms/step - loss: 3.3205 - accuracy: 0.3300\n",
            "Epoch 104/150\n",
            "293/293 [==============================] - 1s 3ms/step - loss: 3.3203 - accuracy: 0.3378\n",
            "Epoch 105/150\n",
            "293/293 [==============================] - 1s 3ms/step - loss: 3.3200 - accuracy: 0.3364\n",
            "Epoch 106/150\n",
            "293/293 [==============================] - 1s 3ms/step - loss: 3.3206 - accuracy: 0.3348\n",
            "Epoch 107/150\n",
            "293/293 [==============================] - 1s 3ms/step - loss: 3.3207 - accuracy: 0.3375\n",
            "Epoch 108/150\n",
            "293/293 [==============================] - 1s 3ms/step - loss: 3.3207 - accuracy: 0.3389\n",
            "Epoch 109/150\n",
            "293/293 [==============================] - 1s 2ms/step - loss: 3.3207 - accuracy: 0.3374\n",
            "Epoch 110/150\n",
            "293/293 [==============================] - 1s 3ms/step - loss: 3.3206 - accuracy: 0.3324\n",
            "Epoch 111/150\n",
            "293/293 [==============================] - 1s 3ms/step - loss: 3.3204 - accuracy: 0.3298\n",
            "Epoch 112/150\n",
            "293/293 [==============================] - 1s 3ms/step - loss: 3.3205 - accuracy: 0.3270\n",
            "Epoch 113/150\n",
            "293/293 [==============================] - 2s 5ms/step - loss: 3.3208 - accuracy: 0.3258\n",
            "Epoch 114/150\n",
            "293/293 [==============================] - 1s 4ms/step - loss: 3.3212 - accuracy: 0.3376\n",
            "Epoch 115/150\n",
            "293/293 [==============================] - 1s 4ms/step - loss: 3.3211 - accuracy: 0.3328\n",
            "Epoch 116/150\n",
            "293/293 [==============================] - 1s 4ms/step - loss: 3.3210 - accuracy: 0.3398\n",
            "Epoch 117/150\n",
            "293/293 [==============================] - 1s 2ms/step - loss: 3.3207 - accuracy: 0.3386\n",
            "Epoch 118/150\n",
            "293/293 [==============================] - 1s 3ms/step - loss: 3.3208 - accuracy: 0.3289\n",
            "Epoch 119/150\n",
            "293/293 [==============================] - 1s 2ms/step - loss: 3.3207 - accuracy: 0.3374\n",
            "Epoch 120/150\n",
            "293/293 [==============================] - 1s 2ms/step - loss: 3.3208 - accuracy: 0.3377\n",
            "Epoch 121/150\n",
            "293/293 [==============================] - 1s 2ms/step - loss: 3.3203 - accuracy: 0.3366\n",
            "Epoch 122/150\n",
            "293/293 [==============================] - 1s 3ms/step - loss: 3.3205 - accuracy: 0.3415\n",
            "Epoch 123/150\n",
            "293/293 [==============================] - 1s 3ms/step - loss: 3.3209 - accuracy: 0.3314\n",
            "Epoch 124/150\n",
            "293/293 [==============================] - 1s 2ms/step - loss: 3.3208 - accuracy: 0.3371\n",
            "Epoch 125/150\n",
            "293/293 [==============================] - 1s 3ms/step - loss: 3.3215 - accuracy: 0.3311\n",
            "Epoch 126/150\n",
            "293/293 [==============================] - 1s 2ms/step - loss: 3.3207 - accuracy: 0.3298\n",
            "Epoch 127/150\n",
            "293/293 [==============================] - 1s 2ms/step - loss: 3.3210 - accuracy: 0.3322\n",
            "Epoch 128/150\n",
            "293/293 [==============================] - 1s 3ms/step - loss: 3.3213 - accuracy: 0.3331\n",
            "Epoch 129/150\n",
            "293/293 [==============================] - 1s 3ms/step - loss: 3.3206 - accuracy: 0.3363\n",
            "Epoch 130/150\n",
            "293/293 [==============================] - 1s 3ms/step - loss: 3.3208 - accuracy: 0.3385\n",
            "Epoch 131/150\n",
            "293/293 [==============================] - 1s 4ms/step - loss: 3.3207 - accuracy: 0.3406\n",
            "Epoch 132/150\n",
            "293/293 [==============================] - 1s 4ms/step - loss: 3.3206 - accuracy: 0.3301\n",
            "Epoch 133/150\n",
            "293/293 [==============================] - 1s 4ms/step - loss: 3.3213 - accuracy: 0.3298\n",
            "Epoch 134/150\n",
            "293/293 [==============================] - 1s 3ms/step - loss: 3.3208 - accuracy: 0.3384\n",
            "Epoch 135/150\n",
            "293/293 [==============================] - 1s 3ms/step - loss: 3.3213 - accuracy: 0.3373\n",
            "Epoch 136/150\n",
            "293/293 [==============================] - 1s 2ms/step - loss: 3.3207 - accuracy: 0.3325\n",
            "Epoch 137/150\n",
            "293/293 [==============================] - 1s 3ms/step - loss: 3.3208 - accuracy: 0.3381\n",
            "Epoch 138/150\n",
            "293/293 [==============================] - 1s 3ms/step - loss: 3.3208 - accuracy: 0.3350\n",
            "Epoch 139/150\n",
            "293/293 [==============================] - 1s 3ms/step - loss: 3.3207 - accuracy: 0.3348\n",
            "Epoch 140/150\n",
            "293/293 [==============================] - 1s 3ms/step - loss: 3.3206 - accuracy: 0.3329\n",
            "Epoch 141/150\n",
            "293/293 [==============================] - 1s 3ms/step - loss: 3.3209 - accuracy: 0.3347\n",
            "Epoch 142/150\n",
            "293/293 [==============================] - 1s 3ms/step - loss: 3.3213 - accuracy: 0.3234\n",
            "Epoch 143/150\n",
            "293/293 [==============================] - 1s 3ms/step - loss: 3.3211 - accuracy: 0.3295\n",
            "Epoch 144/150\n",
            "293/293 [==============================] - 1s 3ms/step - loss: 3.3213 - accuracy: 0.3220\n",
            "Epoch 145/150\n",
            "293/293 [==============================] - 1s 3ms/step - loss: 3.3207 - accuracy: 0.3354\n",
            "Epoch 146/150\n",
            "293/293 [==============================] - 1s 3ms/step - loss: 3.3210 - accuracy: 0.3318\n",
            "Epoch 147/150\n",
            "293/293 [==============================] - 1s 4ms/step - loss: 3.3212 - accuracy: 0.3349\n",
            "Epoch 148/150\n",
            "293/293 [==============================] - 1s 4ms/step - loss: 3.3207 - accuracy: 0.3373\n",
            "Epoch 149/150\n",
            "293/293 [==============================] - 1s 4ms/step - loss: 3.3208 - accuracy: 0.3401\n",
            "Epoch 150/150\n",
            "293/293 [==============================] - 1s 3ms/step - loss: 3.3216 - accuracy: 0.3293\n"
          ]
        }
      ]
    },
    {
      "cell_type": "code",
      "source": [
        "import numpy as np\n",
        "\n",
        "num_samples = 100\n",
        "# Each prediction is a tfd.OneHotCategorical distribution\n",
        "# Convert x_test to a NumPy array before passing it to the model\n",
        "predictive_distributions = [bnn(x_test.values) for _ in range(num_samples)]\n",
        "\n",
        "# Step 1: Convert to probability vectors (batch_size x 3)\n",
        "probs = np.array([dist.probs_parameter().numpy() for dist in predictive_distributions])\n",
        "\n",
        "# Step 2: Mean probability vector (predictive distribution)\n",
        "mean_probs = np.mean(probs, axis=0)\n",
        "\n",
        "# Step 3: Predictive entropy (total uncertainty)\n",
        "def entropy(p):\n",
        "    return -np.sum(p * np.log(p + 1e-10), axis=-1)\n",
        "\n",
        "total_uncertainty = entropy(mean_probs)\n",
        "\n",
        "# Step 4: Expected entropy (aleatoric uncertainty)\n",
        "individual_entropies = entropy(probs)\n",
        "aleatoric_uncertainty = np.mean(individual_entropies, axis=0)\n",
        "\n",
        "# Step 5: Epistemic = Total - Aleatoric\n",
        "epistemic_uncertainty = total_uncertainty - aleatoric_uncertainty"
      ],
      "metadata": {
        "id": "v0HcQayi6Spe"
      },
      "execution_count": null,
      "outputs": []
    },
    {
      "cell_type": "markdown",
      "source": [],
      "metadata": {
        "id": "gZ4Gkxlkl3z3"
      }
    },
    {
      "cell_type": "code",
      "source": [
        "plt.figure(figsize=(10, 6))\n",
        "plt.plot(aleatoric_uncertainty, label=\"Aleatoric\")\n",
        "plt.plot(epistemic_uncertainty, label=\"Epistemic\")\n",
        "plt.plot(total_uncertainty, label=\"Total\")\n",
        "plt.xlabel(\"Data Point Index\")\n",
        "plt.ylabel(\"Uncertainty\")\n",
        "plt.title(\"Uncertainty Decomposition in Accident Severity Prediction\")\n",
        "plt.legend()\n",
        "plt.show()"
      ],
      "metadata": {
        "colab": {
          "base_uri": "https://localhost:8080/",
          "height": 564
        },
        "id": "vj4D9a_DIIrr",
        "outputId": "0baff0ff-a981-4e09-e4d4-3776450f82b8"
      },
      "execution_count": null,
      "outputs": [
        {
          "output_type": "display_data",
          "data": {
            "text/plain": [
              "<Figure size 1000x600 with 1 Axes>"
            ],
            "image/png": "[encoded data removed]"
          },
          "metadata": {}
        }
      ]
    },
    {
      "cell_type": "markdown",
      "source": [
        "**PROBABILISTIC NEURAL NETWORK**"
      ],
      "metadata": {
        "id": "MH8m_3EiRdVU"
      }
    },
    {
      "cell_type": "code",
      "source": [
        "# Build the PNN model\n",
        "inputs = tf.keras.layers.Input(shape=(predictors.shape[1],))\n",
        "\n",
        "hidden1 = keras.layers.Dense(units=68, activation='relu')(inputs)\n",
        "hidden2 = keras.layers.Dense(units=32, activation='relu')(hidden1)\n",
        "\n",
        "# Output layer predicts logits for 3 classes (no activation)\n",
        "distribution_params = keras.layers.Dense(units=3)(hidden2)\n",
        "\n",
        "# Categorical distribution from logits\n",
        "# Removed num_classes and kept event_size=1\n",
        "output = tfp.layers.OneHotCategorical(event_size=1)(distribution_params)\n",
        "\n",
        "# Build the model\n",
        "pnn = keras.Model(inputs=inputs, outputs=output)\n",
        "pnn.compile(loss=nll, optimizer=keras.optimizers.Adam(learning_rate=0.001), metrics=['accuracy'])\n",
        "\n",
        "pnn.summary()"
      ],
      "metadata": {
        "colab": {
          "base_uri": "https://localhost:8080/"
        },
        "id": "0qAWfYU3Y0eN",
        "outputId": "391a7533-e3a5-4b4e-f723-4d928d3851df"
      },
      "execution_count": null,
      "outputs": [
        {
          "output_type": "stream",
          "name": "stdout",
          "text": [
            "Model: \"model_2\"\n",
            "_________________________________________________________________\n",
            " Layer (type)                Output Shape              Param #   \n",
            "=================================================================\n",
            " input_5 (InputLayer)        [(None, 74)]              0         \n",
            "                                                                 \n",
            " dense_12 (Dense)            (None, 68)                5100      \n",
            "                                                                 \n",
            " dense_13 (Dense)            (None, 32)                2208      \n",
            "                                                                 \n",
            " dense_14 (Dense)            (None, 3)                 99        \n",
            "                                                                 \n",
            " one_hot_categorical_2 (OneH  ((None, 3),              0         \n",
            " otCategorical)               (None, 3))                         \n",
            "                                                                 \n",
            "=================================================================\n",
            "Total params: 7,407\n",
            "Trainable params: 7,407\n",
            "Non-trainable params: 0\n",
            "_________________________________________________________________\n"
          ]
        }
      ]
    },
    {
      "cell_type": "code",
      "source": [
        "keras.backend.clear_session()"
      ],
      "metadata": {
        "id": "WegvKAtiaCeJ"
      },
      "execution_count": null,
      "outputs": []
    },
    {
      "cell_type": "code",
      "source": [
        "p_run = pnn.fit(predictors,target,batch_size=32, epochs=150,verbose = 1)"
      ],
      "metadata": {
        "colab": {
          "base_uri": "https://localhost:8080/"
        },
        "id": "lyHihQ7aSfdN",
        "outputId": "70ab441a-614e-49d2-8b9a-052b794629aa"
      },
      "execution_count": null,
      "outputs": [
        {
          "output_type": "stream",
          "name": "stdout",
          "text": [
            "Epoch 1/150\n",
            "293/293 [==============================] - 2s 5ms/step - loss: 3781.9863 - accuracy: 0.3214\n",
            "Epoch 2/150\n",
            "293/293 [==============================] - 1s 2ms/step - loss: 3402.6350 - accuracy: 0.3360\n",
            "Epoch 3/150\n",
            "293/293 [==============================] - 1s 2ms/step - loss: 3018.1365 - accuracy: 0.3356\n",
            "Epoch 4/150\n",
            "293/293 [==============================] - 1s 2ms/step - loss: 2703.6003 - accuracy: 0.3379\n",
            "Epoch 5/150\n",
            "293/293 [==============================] - 1s 2ms/step - loss: 3228.8291 - accuracy: 0.3337\n",
            "Epoch 6/150\n",
            "293/293 [==============================] - 1s 2ms/step - loss: 2756.7539 - accuracy: 0.3352\n",
            "Epoch 7/150\n",
            "293/293 [==============================] - 1s 2ms/step - loss: 3047.5701 - accuracy: 0.3401\n",
            "Epoch 8/150\n",
            "293/293 [==============================] - 1s 3ms/step - loss: 2865.7192 - accuracy: 0.3308\n",
            "Epoch 9/150\n",
            "293/293 [==============================] - 1s 3ms/step - loss: 2824.9214 - accuracy: 0.3366\n",
            "Epoch 10/150\n",
            "293/293 [==============================] - 1s 3ms/step - loss: 2817.1138 - accuracy: 0.3390\n",
            "Epoch 11/150\n",
            "293/293 [==============================] - 1s 3ms/step - loss: 2784.1609 - accuracy: 0.3345\n",
            "Epoch 12/150\n",
            "293/293 [==============================] - 1s 3ms/step - loss: 3990.7839 - accuracy: 0.3353\n",
            "Epoch 13/150\n",
            "293/293 [==============================] - 1s 2ms/step - loss: 3742.8418 - accuracy: 0.3241\n",
            "Epoch 14/150\n",
            "293/293 [==============================] - 1s 2ms/step - loss: 4000.6133 - accuracy: 0.3383\n",
            "Epoch 15/150\n",
            "293/293 [==============================] - 1s 2ms/step - loss: 3733.1160 - accuracy: 0.3393\n",
            "Epoch 16/150\n",
            "293/293 [==============================] - 1s 2ms/step - loss: 3733.4490 - accuracy: 0.3431\n",
            "Epoch 17/150\n",
            "293/293 [==============================] - 1s 2ms/step - loss: 4108.6372 - accuracy: 0.3404\n",
            "Epoch 18/150\n",
            "293/293 [==============================] - 1s 2ms/step - loss: 3377.9260 - accuracy: 0.3261\n",
            "Epoch 19/150\n",
            "293/293 [==============================] - 1s 2ms/step - loss: 3639.5559 - accuracy: 0.3424\n",
            "Epoch 20/150\n",
            "293/293 [==============================] - 1s 2ms/step - loss: 4271.9448 - accuracy: 0.3390\n",
            "Epoch 21/150\n",
            "293/293 [==============================] - 1s 2ms/step - loss: 3807.9636 - accuracy: 0.3273\n",
            "Epoch 22/150\n",
            "293/293 [==============================] - 1s 2ms/step - loss: 4688.8022 - accuracy: 0.3283\n",
            "Epoch 23/150\n",
            "293/293 [==============================] - 1s 2ms/step - loss: 4119.2856 - accuracy: 0.3329\n",
            "Epoch 24/150\n",
            "293/293 [==============================] - 1s 2ms/step - loss: 3845.7380 - accuracy: 0.3299\n",
            "Epoch 25/150\n",
            "293/293 [==============================] - 1s 2ms/step - loss: 4654.7388 - accuracy: 0.3438\n",
            "Epoch 26/150\n",
            "293/293 [==============================] - 1s 2ms/step - loss: 3285.8447 - accuracy: 0.3264\n",
            "Epoch 27/150\n",
            "293/293 [==============================] - 1s 2ms/step - loss: 4421.9287 - accuracy: 0.3396\n",
            "Epoch 28/150\n",
            "293/293 [==============================] - 1s 2ms/step - loss: 4541.0566 - accuracy: 0.3377\n",
            "Epoch 29/150\n",
            "293/293 [==============================] - 1s 2ms/step - loss: 5607.9277 - accuracy: 0.3314\n",
            "Epoch 30/150\n",
            "293/293 [==============================] - 1s 3ms/step - loss: 4663.9512 - accuracy: 0.3350\n",
            "Epoch 31/150\n",
            "293/293 [==============================] - 1s 3ms/step - loss: 4328.1890 - accuracy: 0.3360\n",
            "Epoch 32/150\n",
            "293/293 [==============================] - 1s 3ms/step - loss: 5318.8135 - accuracy: 0.3339\n",
            "Epoch 33/150\n",
            "293/293 [==============================] - 1s 3ms/step - loss: 4664.6821 - accuracy: 0.3296\n",
            "Epoch 34/150\n",
            "293/293 [==============================] - 1s 3ms/step - loss: 4541.4502 - accuracy: 0.3303\n",
            "Epoch 35/150\n",
            "293/293 [==============================] - 1s 2ms/step - loss: 5061.1846 - accuracy: 0.3334\n",
            "Epoch 36/150\n",
            "293/293 [==============================] - 1s 2ms/step - loss: 5674.1904 - accuracy: 0.3324\n",
            "Epoch 37/150\n",
            "293/293 [==============================] - 1s 2ms/step - loss: 4736.9658 - accuracy: 0.3470\n",
            "Epoch 38/150\n",
            "293/293 [==============================] - 1s 2ms/step - loss: 4900.2129 - accuracy: 0.3271\n",
            "Epoch 39/150\n",
            "293/293 [==============================] - 1s 2ms/step - loss: 5052.6387 - accuracy: 0.3292\n",
            "Epoch 40/150\n",
            "293/293 [==============================] - 1s 2ms/step - loss: 3998.4895 - accuracy: 0.3354\n",
            "Epoch 41/150\n",
            "293/293 [==============================] - 1s 2ms/step - loss: 5984.3174 - accuracy: 0.3283\n",
            "Epoch 42/150\n",
            "293/293 [==============================] - 1s 2ms/step - loss: 5434.8076 - accuracy: 0.3307\n",
            "Epoch 43/150\n",
            "293/293 [==============================] - 1s 2ms/step - loss: 5027.0464 - accuracy: 0.3385\n",
            "Epoch 44/150\n",
            "293/293 [==============================] - 1s 2ms/step - loss: 6002.2197 - accuracy: 0.3404\n",
            "Epoch 45/150\n",
            "293/293 [==============================] - 1s 2ms/step - loss: 4505.3730 - accuracy: 0.3306\n",
            "Epoch 46/150\n",
            "293/293 [==============================] - 1s 2ms/step - loss: 4686.2915 - accuracy: 0.3332\n",
            "Epoch 47/150\n",
            "293/293 [==============================] - 1s 2ms/step - loss: 4590.8472 - accuracy: 0.3349\n",
            "Epoch 48/150\n",
            "293/293 [==============================] - 1s 2ms/step - loss: 6074.2520 - accuracy: 0.3299\n",
            "Epoch 49/150\n",
            "293/293 [==============================] - 1s 2ms/step - loss: 5716.4326 - accuracy: 0.3322\n",
            "Epoch 50/150\n",
            "293/293 [==============================] - 1s 2ms/step - loss: 5316.6499 - accuracy: 0.3326\n",
            "Epoch 51/150\n",
            "293/293 [==============================] - 1s 2ms/step - loss: 5710.2368 - accuracy: 0.3366\n",
            "Epoch 52/150\n",
            "293/293 [==============================] - 1s 2ms/step - loss: 8194.6895 - accuracy: 0.3227\n",
            "Epoch 53/150\n",
            "293/293 [==============================] - 1s 3ms/step - loss: 5486.6650 - accuracy: 0.3285\n",
            "Epoch 54/150\n",
            "293/293 [==============================] - 1s 3ms/step - loss: 6225.9590 - accuracy: 0.3399\n",
            "Epoch 55/150\n",
            "293/293 [==============================] - 1s 3ms/step - loss: 5997.8179 - accuracy: 0.3347\n",
            "Epoch 56/150\n",
            "293/293 [==============================] - 1s 3ms/step - loss: 5227.1533 - accuracy: 0.3337\n",
            "Epoch 57/150\n",
            "293/293 [==============================] - 1s 3ms/step - loss: 6605.6636 - accuracy: 0.3269\n",
            "Epoch 58/150\n",
            "293/293 [==============================] - 1s 2ms/step - loss: 5981.0640 - accuracy: 0.3390\n",
            "Epoch 59/150\n",
            "293/293 [==============================] - 1s 2ms/step - loss: 6166.9648 - accuracy: 0.3359\n",
            "Epoch 60/150\n",
            "293/293 [==============================] - 1s 2ms/step - loss: 7107.3496 - accuracy: 0.3316\n",
            "Epoch 61/150\n",
            "293/293 [==============================] - 1s 2ms/step - loss: 6042.7100 - accuracy: 0.3322\n",
            "Epoch 62/150\n",
            "293/293 [==============================] - 1s 2ms/step - loss: 7761.8110 - accuracy: 0.3344\n",
            "Epoch 63/150\n",
            "293/293 [==============================] - 1s 2ms/step - loss: 6376.9707 - accuracy: 0.3417\n",
            "Epoch 64/150\n",
            "293/293 [==============================] - 1s 2ms/step - loss: 7931.8535 - accuracy: 0.3312\n",
            "Epoch 65/150\n",
            "293/293 [==============================] - 1s 2ms/step - loss: 7748.1445 - accuracy: 0.3360\n",
            "Epoch 66/150\n",
            "293/293 [==============================] - 1s 2ms/step - loss: 6905.3237 - accuracy: 0.3307\n",
            "Epoch 67/150\n",
            "293/293 [==============================] - 1s 2ms/step - loss: 6409.2471 - accuracy: 0.3308\n",
            "Epoch 68/150\n",
            "293/293 [==============================] - 1s 2ms/step - loss: 8070.6616 - accuracy: 0.3266\n",
            "Epoch 69/150\n",
            "293/293 [==============================] - 1s 2ms/step - loss: 6270.3335 - accuracy: 0.3226\n",
            "Epoch 70/150\n",
            "293/293 [==============================] - 1s 2ms/step - loss: 8587.3242 - accuracy: 0.3406\n",
            "Epoch 71/150\n",
            "293/293 [==============================] - 1s 2ms/step - loss: 6999.7129 - accuracy: 0.3270\n",
            "Epoch 72/150\n",
            "293/293 [==============================] - 1s 2ms/step - loss: 6664.0425 - accuracy: 0.3248\n",
            "Epoch 73/150\n",
            "293/293 [==============================] - 1s 2ms/step - loss: 6971.2056 - accuracy: 0.3282\n",
            "Epoch 74/150\n",
            "293/293 [==============================] - 1s 2ms/step - loss: 7807.9819 - accuracy: 0.3257\n",
            "Epoch 75/150\n",
            "293/293 [==============================] - 1s 2ms/step - loss: 7150.3999 - accuracy: 0.3297\n",
            "Epoch 76/150\n",
            "293/293 [==============================] - 1s 3ms/step - loss: 8406.1270 - accuracy: 0.3370\n",
            "Epoch 77/150\n",
            "293/293 [==============================] - 1s 3ms/step - loss: 7542.5732 - accuracy: 0.3306\n",
            "Epoch 78/150\n",
            "293/293 [==============================] - 1s 3ms/step - loss: 9061.0225 - accuracy: 0.3360\n",
            "Epoch 79/150\n",
            "293/293 [==============================] - 1s 3ms/step - loss: 8488.9521 - accuracy: 0.3353\n",
            "Epoch 80/150\n",
            "293/293 [==============================] - 1s 2ms/step - loss: 8609.4854 - accuracy: 0.3334\n",
            "Epoch 81/150\n",
            "293/293 [==============================] - 1s 2ms/step - loss: 8602.3154 - accuracy: 0.3319\n",
            "Epoch 82/150\n",
            "293/293 [==============================] - 1s 2ms/step - loss: 7221.5928 - accuracy: 0.3306\n",
            "Epoch 83/150\n",
            "293/293 [==============================] - 1s 2ms/step - loss: 7110.1133 - accuracy: 0.3383\n",
            "Epoch 84/150\n",
            "293/293 [==============================] - 1s 2ms/step - loss: 10812.7764 - accuracy: 0.3303\n",
            "Epoch 85/150\n",
            "293/293 [==============================] - 1s 2ms/step - loss: 7577.6660 - accuracy: 0.3378\n",
            "Epoch 86/150\n",
            "293/293 [==============================] - 1s 2ms/step - loss: 8703.7812 - accuracy: 0.3273\n",
            "Epoch 87/150\n",
            "293/293 [==============================] - 1s 2ms/step - loss: 9172.1514 - accuracy: 0.3257\n",
            "Epoch 88/150\n",
            "293/293 [==============================] - 1s 2ms/step - loss: 9969.5127 - accuracy: 0.3404\n",
            "Epoch 89/150\n",
            "293/293 [==============================] - 1s 2ms/step - loss: 9334.0840 - accuracy: 0.3343\n",
            "Epoch 90/150\n",
            "293/293 [==============================] - 1s 2ms/step - loss: 8876.1309 - accuracy: 0.3355\n",
            "Epoch 91/150\n",
            "293/293 [==============================] - 1s 2ms/step - loss: 8969.3984 - accuracy: 0.3316\n",
            "Epoch 92/150\n",
            "293/293 [==============================] - 1s 2ms/step - loss: 8523.5205 - accuracy: 0.3411\n",
            "Epoch 93/150\n",
            "293/293 [==============================] - 1s 2ms/step - loss: 8084.1328 - accuracy: 0.3354\n",
            "Epoch 94/150\n",
            "293/293 [==============================] - 1s 2ms/step - loss: 9896.1689 - accuracy: 0.3359\n",
            "Epoch 95/150\n",
            "293/293 [==============================] - 1s 2ms/step - loss: 9039.4629 - accuracy: 0.3303\n",
            "Epoch 96/150\n",
            "293/293 [==============================] - 1s 2ms/step - loss: 9902.8057 - accuracy: 0.3320\n",
            "Epoch 97/150\n",
            "293/293 [==============================] - 1s 2ms/step - loss: 9209.0156 - accuracy: 0.3287\n",
            "Epoch 98/150\n",
            "293/293 [==============================] - 1s 3ms/step - loss: 9713.9873 - accuracy: 0.3363\n",
            "Epoch 99/150\n",
            "293/293 [==============================] - 1s 3ms/step - loss: 9271.2881 - accuracy: 0.3306\n",
            "Epoch 100/150\n",
            "293/293 [==============================] - 1s 3ms/step - loss: 10822.4297 - accuracy: 0.3272\n",
            "Epoch 101/150\n",
            "293/293 [==============================] - 1s 3ms/step - loss: 9549.7002 - accuracy: 0.3329\n",
            "Epoch 102/150\n",
            "293/293 [==============================] - 1s 3ms/step - loss: 10192.1914 - accuracy: 0.3332\n",
            "Epoch 103/150\n",
            "293/293 [==============================] - 1s 2ms/step - loss: 10662.8555 - accuracy: 0.3431\n",
            "Epoch 104/150\n",
            "293/293 [==============================] - 1s 2ms/step - loss: 10181.6895 - accuracy: 0.3357\n",
            "Epoch 105/150\n",
            "293/293 [==============================] - 1s 2ms/step - loss: 10364.4531 - accuracy: 0.3380\n",
            "Epoch 106/150\n",
            "293/293 [==============================] - 1s 2ms/step - loss: 8309.3203 - accuracy: 0.3296\n",
            "Epoch 107/150\n",
            "293/293 [==============================] - 1s 2ms/step - loss: 11797.0127 - accuracy: 0.3310\n",
            "Epoch 108/150\n",
            "293/293 [==============================] - 1s 2ms/step - loss: 11077.8545 - accuracy: 0.3257\n",
            "Epoch 109/150\n",
            "293/293 [==============================] - 1s 2ms/step - loss: 9827.0127 - accuracy: 0.3314\n",
            "Epoch 110/150\n",
            "293/293 [==============================] - 1s 2ms/step - loss: 14652.1338 - accuracy: 0.3286\n",
            "Epoch 111/150\n",
            "293/293 [==============================] - 1s 2ms/step - loss: 10571.4092 - accuracy: 0.3423\n",
            "Epoch 112/150\n",
            "293/293 [==============================] - 1s 2ms/step - loss: 8851.9150 - accuracy: 0.3372\n",
            "Epoch 113/150\n",
            "293/293 [==============================] - 1s 2ms/step - loss: 10974.7832 - accuracy: 0.3366\n",
            "Epoch 114/150\n",
            "293/293 [==============================] - 1s 2ms/step - loss: 11448.8213 - accuracy: 0.3328\n",
            "Epoch 115/150\n",
            "293/293 [==============================] - 1s 2ms/step - loss: 11662.6260 - accuracy: 0.3277\n",
            "Epoch 116/150\n",
            "293/293 [==============================] - 1s 2ms/step - loss: 9932.2041 - accuracy: 0.3386\n",
            "Epoch 117/150\n",
            "293/293 [==============================] - 1s 2ms/step - loss: 10395.9590 - accuracy: 0.3330\n",
            "Epoch 118/150\n",
            "293/293 [==============================] - 1s 2ms/step - loss: 10796.1611 - accuracy: 0.3356\n",
            "Epoch 119/150\n",
            "293/293 [==============================] - 1s 2ms/step - loss: 12462.5439 - accuracy: 0.3343\n",
            "Epoch 120/150\n",
            "293/293 [==============================] - 1s 2ms/step - loss: 11713.2393 - accuracy: 0.3296\n",
            "Epoch 121/150\n",
            "293/293 [==============================] - 1s 3ms/step - loss: 12557.6436 - accuracy: 0.3276\n",
            "Epoch 122/150\n",
            "293/293 [==============================] - 1s 3ms/step - loss: 12686.1123 - accuracy: 0.3313\n",
            "Epoch 123/150\n",
            "293/293 [==============================] - 1s 3ms/step - loss: 9910.4189 - accuracy: 0.3401\n",
            "Epoch 124/150\n",
            "293/293 [==============================] - 1s 3ms/step - loss: 10744.2734 - accuracy: 0.3372\n",
            "Epoch 125/150\n",
            "293/293 [==============================] - 1s 3ms/step - loss: 12287.6719 - accuracy: 0.3379\n",
            "Epoch 126/150\n",
            "293/293 [==============================] - 1s 2ms/step - loss: 11299.5127 - accuracy: 0.3269\n",
            "Epoch 127/150\n",
            "293/293 [==============================] - 1s 2ms/step - loss: 12700.7471 - accuracy: 0.3396\n",
            "Epoch 128/150\n",
            "293/293 [==============================] - 1s 2ms/step - loss: 10658.3838 - accuracy: 0.3299\n",
            "Epoch 129/150\n",
            "293/293 [==============================] - 1s 2ms/step - loss: 11924.3633 - accuracy: 0.3376\n",
            "Epoch 130/150\n",
            "293/293 [==============================] - 1s 2ms/step - loss: 11924.8086 - accuracy: 0.3406\n",
            "Epoch 131/150\n",
            "293/293 [==============================] - 1s 2ms/step - loss: 13927.4395 - accuracy: 0.3345\n",
            "Epoch 132/150\n",
            "293/293 [==============================] - 1s 2ms/step - loss: 14638.3174 - accuracy: 0.3418\n",
            "Epoch 133/150\n",
            "293/293 [==============================] - 1s 2ms/step - loss: 12959.6826 - accuracy: 0.3331\n",
            "Epoch 134/150\n",
            "293/293 [==============================] - 1s 2ms/step - loss: 12875.3896 - accuracy: 0.3284\n",
            "Epoch 135/150\n",
            "293/293 [==============================] - 1s 2ms/step - loss: 13647.0391 - accuracy: 0.3373\n",
            "Epoch 136/150\n",
            "293/293 [==============================] - 1s 2ms/step - loss: 13714.8545 - accuracy: 0.3266\n",
            "Epoch 137/150\n",
            "293/293 [==============================] - 1s 2ms/step - loss: 14272.9287 - accuracy: 0.3258\n",
            "Epoch 138/150\n",
            "293/293 [==============================] - 1s 2ms/step - loss: 13935.8779 - accuracy: 0.3376\n",
            "Epoch 139/150\n",
            "293/293 [==============================] - 1s 2ms/step - loss: 14634.9355 - accuracy: 0.3403\n",
            "Epoch 140/150\n",
            "293/293 [==============================] - 1s 2ms/step - loss: 11374.4248 - accuracy: 0.3333\n",
            "Epoch 141/150\n",
            "293/293 [==============================] - 1s 2ms/step - loss: 15059.9473 - accuracy: 0.3312\n",
            "Epoch 142/150\n",
            "293/293 [==============================] - 1s 2ms/step - loss: 12426.3184 - accuracy: 0.3319\n",
            "Epoch 143/150\n",
            "293/293 [==============================] - 1s 2ms/step - loss: 16887.3730 - accuracy: 0.3350\n",
            "Epoch 144/150\n",
            "293/293 [==============================] - 1s 3ms/step - loss: 14595.3955 - accuracy: 0.3304\n",
            "Epoch 145/150\n",
            "293/293 [==============================] - 1s 3ms/step - loss: 12356.8281 - accuracy: 0.3354\n",
            "Epoch 146/150\n",
            "293/293 [==============================] - 1s 3ms/step - loss: 16534.2891 - accuracy: 0.3337\n",
            "Epoch 147/150\n",
            "293/293 [==============================] - 1s 3ms/step - loss: 10566.7256 - accuracy: 0.3357\n",
            "Epoch 148/150\n",
            "293/293 [==============================] - 1s 3ms/step - loss: 13363.8604 - accuracy: 0.3348\n",
            "Epoch 149/150\n",
            "293/293 [==============================] - 1s 2ms/step - loss: 12308.6963 - accuracy: 0.3350\n",
            "Epoch 150/150\n",
            "293/293 [==============================] - 1s 2ms/step - loss: 14405.1621 - accuracy: 0.3300\n"
          ]
        }
      ]
    },
    {
      "cell_type": "code",
      "source": [
        "#plot losses\n",
        "plt.plot(p_run.history['loss'])"
      ],
      "metadata": {
        "colab": {
          "base_uri": "https://localhost:8080/",
          "height": 447
        },
        "id": "TnlX2D4BXiS_",
        "outputId": "117114ea-e8b8-4771-803b-d3b1c7d78ba7"
      },
      "execution_count": null,
      "outputs": [
        {
          "output_type": "execute_result",
          "data": {
            "text/plain": [
              "[<matplotlib.lines.Line2D at 0x7f74331bc150>]"
            ]
          },
          "metadata": {},
          "execution_count": 64
        },
        {
          "output_type": "display_data",
          "data": {
            "text/plain": [
              "<Figure size 640x480 with 1 Axes>"
            ],
            "image/png": "[encoded data removed]"
          },
          "metadata": {}
        }
      ]
    },
    {
      "cell_type": "code",
      "source": [],
      "metadata": {
        "id": "EqVOBan_YOx-"
      },
      "execution_count": null,
      "outputs": []
    }
  ]
}